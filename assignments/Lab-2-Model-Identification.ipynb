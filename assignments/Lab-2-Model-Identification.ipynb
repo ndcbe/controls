{
 "cells": [
  {
   "cell_type": "markdown",
   "metadata": {},
   "source": [
    "# Lab 2: Model Identification"
   ]
  },
  {
   "cell_type": "markdown",
   "metadata": {},
   "source": [
    "\n",
    "\n",
    "*Your Name:* \n",
    "\n",
    "Fitting models to data is an engineering skill that links between the real world of engineering systems to the theory you've been learning in the classroom. For this laboratory session you will collect data from a step test experiments, then fit the data to models derived from first-principles energy balances. "
   ]
  },
  {
   "cell_type": "markdown",
   "metadata": {},
   "source": [
    "## Spring 2025 TODO List\n",
    "* Move the Step Tests and Data Collection to Lab 1.\n",
    "* Rename from Lab 3 to Lab 2.\n",
    "* Change the pre-lab exercise to performing nonlinear regression on your Lab 1 data.\n",
    "* Switch this lab to a sine wave test.\n",
    "* Extend the lab to include parameter estimation with both sets of data.\n",
    "* Remove the one-state model? Or keep it but streamline the code to be the same as the two-state model?"
   ]
  },
  {
   "cell_type": "markdown",
   "metadata": {},
   "source": [
    "## Procedure"
   ]
  },
  {
   "cell_type": "markdown",
   "metadata": {},
   "source": [
    "1. Download a copy of this notebook to your laptop and complete the the data collection exercises shown below. The results should be embedded in the notebook. Be sure to 'save-as-you-go' to avoid losing your work. \n",
    "\n",
    "2. Use your step test data to fit two versions of a model for the temperature control lab:\n",
    "  * One-state model with one input.\n",
    "  * Two-state model with one input.\n",
    "\n",
    "3. Submit your completed lab notebook via Gradescope."
   ]
  },
  {
   "cell_type": "markdown",
   "metadata": {},
   "source": [
    "## Exercise 0. Fitting a First-Order Linear Model\n",
    "\n",
    "As discussed in class, a simple energy balance model for T1 is given by\n",
    "\n",
    "$$C_p \\frac{dT_1}{dt} = U_a(T_{amb} - T_1) + \\alpha P_1 U_1$$\n",
    "\n",
    "where the parameter $\\alpha$ has, through independent means, been determined as 0.00016 when U1 is given in percent of full power and power is measured in Watts.\n",
    "\n",
    "Do the following:\n",
    "1. Perform nonlinear regression to estimate $U_a$ and $C_p$. In Lab 1, we estimated $\\tau$ and $K$ and then calculated $U_a$ and $C_p$. In this lab, you will instead directly regress $U_a$ and $C_p$.\n",
    "2. Quantify the uncertainty in the estimates $U_a$ and $C_p$ by computing the Fisher information matrix, covariance matrix, and correlation matrix.\n",
    "3. Perform an eigendecomposition of the covariance matrix.\n",
    "\n",
    "This pre-lab exercise builds up the analysis workflow you will adapt for the rest of the lab.\n"
   ]
  },
  {
   "cell_type": "code",
   "execution_count": null,
   "metadata": {},
   "outputs": [],
   "source": [
    "import pandas as pd\n",
    "import matplotlib.pyplot as plt\n",
    "\n",
    "# Start by loading your data from the previous lab\n",
    "\n",
    "# Add your solution here\n",
    "\n",
    "# Next, quickly plot your data from the previous lab\n",
    "\n",
    "# Add your solution here"
   ]
  },
  {
   "cell_type": "code",
   "execution_count": null,
   "metadata": {},
   "outputs": [],
   "source": [
    "import numpy as np\n",
    "from scipy.integrate import solve_ivp\n",
    "\n",
    "# Next complete the function below which simulates \n",
    "# the first order model for the temperature of the heater.\n",
    "\n",
    "def tclab_model1(data, param, alpha = 0.00016, P1 = 200, plot=False):\n",
    "    \"\"\" First order linear model for TCLab\n",
    "    \n",
    "    Arguments:\n",
    "        data: pandas dataframe with columns 'Time', 'T1', 'Q1'\n",
    "        param: list of parameters [Ua, CpH]\n",
    "        alpha: power conversion factor, default 0.00016 watts / (units P1 * percent U1)\n",
    "        P1: power setting for heater 1, default 200 (P1 units)\n",
    "    \n",
    "    Returns:\n",
    "        T1: numpy array of model predictions for T1\n",
    "    \"\"\"\n",
    "\n",
    "    # unpack the adjustable parameters\n",
    "    Ua, CpH = param\n",
    "\n",
    "    # extract ambient temperature\n",
    "    T_amb = data['T1'][0]\n",
    "\n",
    "    # extract experiment time\n",
    "    t_expt = data['Time']\n",
    "\n",
    "    # model solution\n",
    "    def deriv(t, y):\n",
    "\n",
    "        # interpolate the heater input to nearest value is faster than linear\n",
    "        u = np.interp(t, data['Time'], data['Q1'], t)\n",
    "\n",
    "        # unpack the state\n",
    "        T1 = y\n",
    "\n",
    "        # Add your solution here\n",
    "\n",
    "\n",
    "        return dT1dt\n",
    "    soln = solve_ivp(deriv, [min(t_expt), max(t_expt)], [T_amb, T_amb], t_eval=t_expt)\n",
    "\n",
    "    T1 = soln.y[0]\n",
    "\n",
    "    if plot:\n",
    "        # Plot the temperature data and heat power\n",
    "        plt.figure()\n",
    "        plt.subplot(2,1,1)\n",
    "        plt.plot(t_expt, data['T1'], 'ro', label='Measured')\n",
    "        plt.plot(t_expt, T1, 'b-', label='Predicted')\n",
    "        plt.ylabel('Temperature (degC)')\n",
    "        plt.legend()\n",
    "        plt.subplot(2,1,2)\n",
    "        plt.plot(t_expt, data['Q1'], 'r-', label='Heater')\n",
    "        plt.ylabel('Heater (%)')\n",
    "        plt.legend()\n",
    "        plt.xlabel('Time (sec)')\n",
    "        plt.tight_layout()\n",
    "        plt.show()\n",
    "\n",
    "    return T1\n",
    "\n",
    "\n",
    "# Test your function with the data and initial parameters\n",
    "# Use the initial parameters from Lab 1 for Ua and CpH\n",
    "# Add your solution here\n"
   ]
  },
  {
   "cell_type": "code",
   "execution_count": null,
   "metadata": {},
   "outputs": [],
   "source": [
    "from scipy.optimize import least_squares\n",
    "\n",
    "# Next, complete the function below to perform nonlinear regression\n",
    "\n",
    "def tclab_estimation1(data, param_guess=[0.1, 4], plot=True):\n",
    "    \"\"\" Nonlinear regression for TCLab one-state model\n",
    "    \n",
    "    Arguments:\n",
    "        data: pandas dataframe with columns 'Time', 'T1', 'Q1'\n",
    "        param_guess: list of initial guess for parameters [Ua, CpH]\n",
    "    \n",
    "    Returns:\n",
    "        results: scipy least_squares results object\n",
    "        residuals: numpy array of residuals\n",
    "    \"\"\"\n",
    "    \n",
    "    def residual(param):\n",
    "        # Add your solution here\n",
    "\n",
    "    # Set bounds (non-negative)\n",
    "    bnds = ([0.0, 0.0], [np.inf, np.inf])\n",
    "\n",
    "    results = least_squares(residual, param_guess, verbose=2, method='trf', bounds=bnds, loss='arctan')\n",
    "\n",
    "    if plot:\n",
    "        tclab_model1(data, results.x, plot=True)\n",
    "\n",
    "    residuals = tclab_model1(data, results.x) - data['T1']\n",
    "\n",
    "    if plot:\n",
    "        # Plot the residuals\n",
    "        plt.figure()\n",
    "        plt.hist(residuals)\n",
    "\n",
    "        # font size\n",
    "        fs = 20\n",
    "        \n",
    "        # labels\n",
    "        plt.xlabel(\"$T_1$ residuals [$^\\circ{}$C]\",fontsize=fs,fontweight = 'bold')\n",
    "        plt.ylabel(\"Count\",fontsize=fs,fontweight = 'bold')\n",
    "\n",
    "        # define tick size\n",
    "        plt.xticks(fontsize=fs)\n",
    "        plt.yticks(fontsize=fs)\n",
    "        plt.tick_params(direction=\"in\",top=True, right=True)\n",
    "\n",
    "        # finish plot\n",
    "        plt.show()\n",
    "\n",
    "    return results, residuals\n",
    "\n",
    "# Test your function with the data\n",
    "step_test_results1, step_test_residuals1 = tclab_estimation1(data1)\n",
    "\n",
    "def print_results1(results):\n",
    "    print(f\"Ua = {results.x[0]:1.3f} W/degC\")\n",
    "    print(f\"CpH = {results.x[1]:1.3f} J/degC\")\n",
    "    print(f\"Success: {results.success}\")\n",
    "    print(f\"Message: {results.message}\")\n",
    "\n",
    "# Save the results for later\n",
    "Ua_ex0 = step_test_results1.x[0]\n",
    "Cp_ex0 = step_test_results1.x[1]\n",
    "\n",
    "print_results1(step_test_results1)"
   ]
  },
  {
   "cell_type": "markdown",
   "metadata": {},
   "source": [
    "TODO: Add explanation here to review FIM, covariance, ..."
   ]
  },
  {
   "cell_type": "code",
   "execution_count": null,
   "metadata": {},
   "outputs": [],
   "source": [
    "# Perform uncertainty quantification\n",
    "\n",
    "def covariance_to_correlation(cov):\n",
    "    ''' Convert covariance matrix into correlation matrix\n",
    "\n",
    "    Argument:\n",
    "        cov: covariance matrix\n",
    "\n",
    "    Returns:\n",
    "        cor: correlation matrix\n",
    "\n",
    "    '''\n",
    "\n",
    "    # Copy matrix\n",
    "    cor = cov.copy()\n",
    "\n",
    "    # Get number of rows\n",
    "    n = cor.shape[0]\n",
    "\n",
    "    # Loop over rows\n",
    "    for r in range(n):\n",
    "        # Loop over columns\n",
    "        for c in range(n):\n",
    "            # Scale element\n",
    "            cor[r,c] = cor[r,c] / np.sqrt(cov[r,r]*cov[c,c])\n",
    "\n",
    "    return cor\n",
    "\n",
    "\n",
    "def uncertainty_quantification(results, residuals):\n",
    "    \"\"\" Uncertainty quantification for the estimated parameters\n",
    "    \n",
    "    Arguments:\n",
    "        res: scipy least_squares results object\n",
    "    \n",
    "    Returns:\n",
    "        fim: Fisher Information Matrix\n",
    "        cov: covariance matrix\n",
    "    \"\"\"\n",
    "\n",
    "    # compute standard deviation of the residuals\n",
    "    sigma_residuals = np.sqrt(residuals.T @ residuals / (len(residuals) - len(results.x)))\n",
    "    print(\"Standard deviation of the residuals = \", round(sigma_residuals, 3), \" deg C\")\n",
    "    print(\"\")\n",
    "\n",
    "    # compute Fisher Information Matrix\n",
    "    # Add your solution here\n",
    "    print(\"Fisher Information Matrix\")\n",
    "    print(fim)\n",
    "    print(\"\")\n",
    "\n",
    "    # compute the covariance matrix\n",
    "    print(\"Covariance Matrix\")\n",
    "    # Add your solution here\n",
    "    print(cov)\n",
    "    print(\"\")\n",
    "\n",
    "    # eigendecomposition of the covariance matrix\n",
    "    print(\"Eigendecomposition of the covariance matrix\")\n",
    "    # Add your solution here\n",
    "\n",
    "    print(\"\")\n",
    "    for i in range(len(w)):\n",
    "        print(f\"lambda_{i+1} = {w[i]:1.3e}\")\n",
    "        print(f\"v_{i+1} = {v[:,i]}\")\n",
    "        print(\"\")\n",
    "\n",
    "\n",
    "    # compute the correlation matrix\n",
    "    print(\"Correlation Matrix\")\n",
    "    cor = covariance_to_correlation(cov)\n",
    "    print(cor)\n",
    "    \n",
    "    return fim\n",
    "\n",
    "fim1 = uncertainty_quantification(step_test_results1, step_test_residuals1)"
   ]
  },
  {
   "cell_type": "markdown",
   "metadata": {},
   "source": [
    "TODO: Add discussion question."
   ]
  },
  {
   "cell_type": "markdown",
   "metadata": {},
   "source": [
    "## Exercise 1. Sine Test and Data Collection"
   ]
  },
  {
   "cell_type": "markdown",
   "metadata": {},
   "source": [
    "### Step 1. Verify operation.\n",
    "\n",
    "Execute the following cell to verify that you have a working connection to the temperature control lab hardware. This will test for installation of TCLab.py, connection to the Arduino device, and working firmware within the Arduino."
   ]
  },
  {
   "cell_type": "code",
   "execution_count": null,
   "metadata": {},
   "outputs": [],
   "source": [
    "from tclab import TCLab, clock, Historian, Plotter, setup\n",
    "\n",
    "run_tclab = False\n",
    "\n",
    "\"\"\"\n",
    "In the labs, we will us \"run_tclab\" to control whether the TCLab is used.\n",
    "After you finish the lab experiment, set run_tclab = False.\n",
    "This way, you can run all the cells without losing your TCLab output.\n",
    "\"\"\"\n",
    "\n",
    "if run_tclab:\n",
    "\n",
    "    TCLab = setup(connected=True)\n",
    "\n",
    "    lab = TCLab()\n",
    "    print(\"TCLab Temperatures:\", lab.T1, lab.T2)\n",
    "    lab.close()"
   ]
  },
  {
   "cell_type": "markdown",
   "metadata": {},
   "source": [
    "### Step 2.  Check for steady state\n",
    "\n",
    "As discussed in class, for step testing the device must be initially at steady state. Run the following code to verify the heaters are off and that the temperatures are at a steady ambient temperature."
   ]
  },
  {
   "cell_type": "code",
   "execution_count": null,
   "metadata": {},
   "outputs": [],
   "source": [
    "if run_tclab:\n",
    "    # experimental parameters\n",
    "    tfinal = 30\n",
    "\n",
    "    # perform experiment\n",
    "    with TCLab() as lab:\n",
    "        lab.U1 = 0\n",
    "        lab.U2 = 0\n",
    "        h = Historian(lab.sources)\n",
    "        p = Plotter(h, tfinal)\n",
    "        for t in clock(tfinal):\n",
    "            p.update(t)"
   ]
  },
  {
   "cell_type": "markdown",
   "metadata": {},
   "source": [
    "### Step 3. Sine Test\n",
    "\n",
    "The step test consists of turning one heater one at 50% power and recording temperature data for at least 1200 seconds. Copy the code from Step 2 into the following cell. Then modify as needed to accomplish the step test with P1 at 200 and using 50% of maximum power."
   ]
  },
  {
   "cell_type": "code",
   "execution_count": null,
   "metadata": {},
   "outputs": [],
   "source": [
    "import numpy as np\n",
    "import matplotlib.pyplot as plt\n",
    "def sine_wave(t, period=4*60, amplitude=50, offset=50):\n",
    "    \"\"\" Generate a sine wave with the given parameters.\n",
    "\n",
    "    Arguments:\n",
    "    t:          time (seconds)\n",
    "    period:     period of the sine wave (seconds)\n",
    "    amplitude:  amplitude of the sine wave\n",
    "    offset:     offset of the sine wave\n",
    "    \n",
    "    \"\"\"\n",
    "    return amplitude * np.sin(2 * np.pi * t / period) + offset\n",
    "\n",
    "t = np.linspace(0, 900, 901)\n",
    "plt.plot(t, sine_wave(t))\n",
    "plt.xlabel('Time / seconds')\n",
    "plt.ylabel('Power / %')\n",
    "plt.show()\n",
    "\n"
   ]
  },
  {
   "cell_type": "code",
   "execution_count": null,
   "metadata": {},
   "outputs": [],
   "source": [
    "if run_tclab:\n",
    "\n",
    "# Add your solution here"
   ]
  },
  {
   "cell_type": "markdown",
   "metadata": {},
   "source": [
    "### Step 4. Save data to a .csv file\n",
    "\n",
    "Run the following cell to verify and save your data to a '.csv' file. Be sure you can find and locate the data on your laptop before ending your session. You will need access to this data for subsequent exercises."
   ]
  },
  {
   "cell_type": "code",
   "execution_count": null,
   "metadata": {},
   "outputs": [],
   "source": [
    "import matplotlib.pyplot as plt\n",
    "import os.path\n",
    "\n",
    "# Change the filename here\n",
    "data_file = 'lab2-sine-test.csv'\n",
    "\n",
    "if run_tclab:\n",
    "\n",
    "    # Set to True to overwrite the file. Default is False\n",
    "    # to safeguard against accidentally rerunning this cell.\n",
    "    overwrite_file = False\n",
    "\n",
    "    if not overwrite_file and os.path.isfile('./'+data_file):\n",
    "        raise FileExistsError(data_file + ' already exisits. Either choose a new filename or set overwrite_file = True.')\n",
    "    elif run_tclab:\n",
    "        h.to_csv(data_file)\n",
    "        print(\"Successfully saved data to \"+data_file)\n",
    "    else:\n",
    "        print(\"Data was not saved because run_tclab = False\")"
   ]
  },
  {
   "cell_type": "markdown",
   "metadata": {},
   "source": [
    "## Exercise 2. Fit First-Order Model using Sine Test Data"
   ]
  },
  {
   "cell_type": "markdown",
   "metadata": {},
   "source": [
    "You will now repeat the steps for Exercise 0 but using the sine test data."
   ]
  },
  {
   "cell_type": "code",
   "execution_count": null,
   "metadata": {},
   "outputs": [],
   "source": [
    "import numpy as np\n",
    "import matplotlib.pyplot as plt\n",
    "import pandas as pd\n",
    "\n",
    "# Load the data\n",
    "# Add your solution here\n",
    "\n",
    "# Add your solution here\n"
   ]
  },
  {
   "cell_type": "code",
   "execution_count": null,
   "metadata": {},
   "outputs": [],
   "source": [
    "# Simulate the first order model for the sine wave test\n",
    "# using the values of Ua and Cp you identified in Exercise 0\n",
    "\n",
    "# Add your solution here"
   ]
  },
  {
   "cell_type": "code",
   "execution_count": null,
   "metadata": {},
   "outputs": [],
   "source": [
    "# Perform nonlinear regression on the sine wave test data\n",
    "# Add your solution here\n",
    "\n",
    "# Save the results for later\n",
    "Ua_ex1 = sine_test_results1.x[0]\n",
    "Cp_ex1 = sine_test_results1.x[1]\n",
    "\n",
    "print_results1(sine_test_results1)\n",
    "### END SOLUTION"
   ]
  },
  {
   "cell_type": "code",
   "execution_count": null,
   "metadata": {},
   "outputs": [],
   "source": [
    "# Perform uncertainty quantification on the sine wave test data\n",
    "# Add your solution here"
   ]
  },
  {
   "cell_type": "markdown",
   "metadata": {},
   "source": [
    "## Exercise 3. Fitting a Second-Order Model using Sine Test Data\n",
    "\n",
    "A second order model is for the heater/sensor combination is given by\n",
    "\n",
    "$$\n",
    "\\begin{align}\n",
    "C^H_p\\frac{dT_{H,1}}{dt} & = U_a(T_{amb} - T_{H,1}) + U_b(T_{S,1} - T_{H,1}) + P_1u_1\\\\\n",
    "C^S_p\\frac{dT_{S,1}}{dt} & = U_b(T_{H,1} - T_{S,1}) \n",
    "\\end{align}\n",
    "$$\n",
    "\n",
    "where $T_{H,1}$ is the heater temperature, $T_{S,1}$ is the sensor temperature, and $U_b$ is the heat transfer coefficient between the heater and sensor. \n",
    "\n",
    "Modify the code you developed for Exercises 0 and 2 to fit this second order model.\n",
    "\n",
    "Do the following:\n",
    "1. Report your best fit for $U_a$, $U_b$, $C^H_p$, and $C^S_p$ with units and a reasonable number of significant digits.\n",
    "2. Characterize the uncertainty in these estimates.\n",
    "3. Visualize the quality of fit and the residuals."
   ]
  },
  {
   "cell_type": "code",
   "execution_count": null,
   "metadata": {},
   "outputs": [],
   "source": [
    "def tclab_model2(data, param, alpha = 0.00016, P1 = 200, plot=False):\n",
    "    \"\"\" Second order linear model for TCLab\n",
    "    \n",
    "    Arguments:\n",
    "        data: pandas dataframe with columns 'Time', 'T1', 'Q1'\n",
    "        param: list of parameters [Ua, Ub, CpH, CpS]\n",
    "        alpha: power conversion factor, default 0.00016 watts / (units P1 * percent U1)\n",
    "        P1: power setting for heater 1, default 200 (P1 units)\n",
    "    \n",
    "    Returns:\n",
    "        TS: numpy array of model predictions for TS\n",
    "    \"\"\"\n",
    "\n",
    "    # Add your solution here\n",
    "\n",
    "    return TS\n",
    "\n",
    "TS = tclab_model2(data2, [0.1, 0.2, 4, 0.1], plot=True)"
   ]
  },
  {
   "cell_type": "code",
   "execution_count": null,
   "metadata": {},
   "outputs": [],
   "source": [
    "# Next, complete the function below to perform nonlinear regression\n",
    "\n",
    "def tclab_estimation2(data, param_guess=[0.1, 0.2, 4, 0.1], plot=True):\n",
    "    \"\"\" Nonlinear regression for TCLab two-state model\n",
    "    \n",
    "    Arguments:\n",
    "        data: pandas dataframe with columns 'Time', 'T1', 'Q1'\n",
    "        param_guess: list of initial guess for parameters [Ua, Ub, CpH, CpS]\n",
    "    \n",
    "    Returns:\n",
    "        results: scipy least_squares results object\n",
    "        residuals: numpy array of residuals\n",
    "    \"\"\"\n",
    "    \n",
    "    # Add your solution here\n",
    "\n",
    "    return results, residuals\n",
    "\n",
    "# Test your function with the data\n",
    "sine_test_results2, sine_test_residuals2 = tclab_estimation2(data2)\n",
    "\n",
    "def print_results2(results):\n",
    "    print(f\"Ua = {results.x[0]:1.3f} W/degC\")\n",
    "    print(f\"Ub = {results.x[1]:1.3f} W/degC\")\n",
    "    print(f\"CpH = {results.x[2]:1.3f} J/degC\")\n",
    "    print(f\"CpS = {results.x[3]:1.3f} J/degC\")\n",
    "    print(f\"Success: {results.success}\")\n",
    "    print(f\"Message: {results.message}\")\n",
    "\n",
    "# Save the results for later\n",
    "Ua_ex3, Ub_ex3, CpH_ex3, CpS_ex3 = sine_test_results2.x\n",
    "\n",
    "print_results2(sine_test_results2)"
   ]
  },
  {
   "cell_type": "code",
   "execution_count": null,
   "metadata": {},
   "outputs": [],
   "source": [
    "# Perform uncertainty quantification\n",
    "# Add your solution here\n"
   ]
  },
  {
   "cell_type": "markdown",
   "metadata": {},
   "source": [
    "## Exercise 4: Fit Second Order Modeling Using Step Test Data"
   ]
  },
  {
   "cell_type": "code",
   "execution_count": null,
   "metadata": {},
   "outputs": [],
   "source": [
    "# Perform regression\n",
    "# Add your solution here"
   ]
  },
  {
   "cell_type": "code",
   "execution_count": null,
   "metadata": {},
   "outputs": [],
   "source": [
    "# Perform uncertainty quantification\n",
    "# Add your solution here"
   ]
  },
  {
   "cell_type": "markdown",
   "metadata": {},
   "source": [
    "## Exercise 5: Fit Second Order Model Using Both Data Sets"
   ]
  },
  {
   "cell_type": "code",
   "execution_count": null,
   "metadata": {},
   "outputs": [],
   "source": [
    "# Modify the tclab_estimation2 function to support multiple datasets"
   ]
  },
  {
   "cell_type": "markdown",
   "metadata": {},
   "source": [
    "## Exercise 6: Analyze Uncertainty Estimates for Second-Order Models"
   ]
  },
  {
   "cell_type": "markdown",
   "metadata": {},
   "source": [
    "## Exercise 7: Estimate Heat and Sesnor Time Constants"
   ]
  },
  {
   "cell_type": "code",
   "execution_count": null,
   "metadata": {},
   "outputs": [],
   "source": [
    "# Calculate and print model parameters with uncertainty\n",
    "\n",
    "# Add your solution here\n",
    "\n",
    "print(\"The value of Ua is\",round(Ua,4), \"+/-\", round(np.sqrt(cov_p[0,0]),4), \"Watts/degC.\")\n",
    "print(\"The value of Cp is\", round(Cp,3), \"+/-\", round(np.sqrt(cov_p[1,1]),3), \"Joules/degC.\")\n",
    "print(\"The value of the time constant (tau) is\", round(tau,3), \"+/-\", round(np.sqrt(var_tau),3), \"seconds.\")\n",
    "print(\"The value of the steady state gain (K) is\",round(K,3),\"+/-\", round(np.sqrt(var_K),3), \"Watts.\")"
   ]
  },
  {
   "cell_type": "markdown",
   "metadata": {},
   "source": []
  },
  {
   "cell_type": "markdown",
   "metadata": {},
   "source": []
  },
  {
   "cell_type": "markdown",
   "metadata": {},
   "source": []
  },
  {
   "cell_type": "markdown",
   "metadata": {},
   "source": [
    "**Discussion Question:** What are the time constants for the heater and sensor?"
   ]
  },
  {
   "cell_type": "code",
   "execution_count": null,
   "metadata": {},
   "outputs": [],
   "source": [
    "# Calculate and print model parameters with uncertainty\n",
    "\n",
    "# Add your solution here\n",
    "\n",
    "print(\"The value of Ua is\", round(Ua,4), \"+/-\", round(np.sqrt(cov_p[0,0]),4), \"Watts/degC.\")\n",
    "print(\"The value of Ub is\", round(Ub,4), \"+/-\", round(np.sqrt(cov_p[1,1]),4), \"Watts/degC.\")\n",
    "print(\"The value of CpH is\", round(CpH,3), \"+/-\", round(np.sqrt(cov_p[2,2]),3), \"Joules/degC.\")\n",
    "print(\"The value of CpS is\", round(CpS,3), \"+/-\", round(np.sqrt(cov_p[3,3]),3), \"Joules/degC.\")\n",
    "\n",
    "print(\"The value of the time constant TH1 is\", round(TH1,3), \"+/-\", round(np.sqrt(cov_tau[0,0]),3), \"seconds.\")\n",
    "print(\"The value of the time constant TS1 is\", round(TS1,3), \"+/-\", round(np.sqrt(cov_tau[1,1]),3), \"seconds.\")\n",
    "print(\"The value of the time constant TH1 + TS1 is\", round(addition,3), \"+/-\", round(np.sqrt(cov_tau[2,2]),3), \"seconds.\")"
   ]
  },
  {
   "cell_type": "markdown",
   "metadata": {},
   "source": [
    "**Discussion Question:** Do you see any relationship between the heater and sensor time constants and what you found for the first-order model?\n",
    "\n",
    "*Answer*: "
   ]
  },
  {
   "cell_type": "markdown",
   "metadata": {},
   "source": [
    "## Declarations\n",
    "\n",
    "**Collaboration**: If you worked with any classmates, please give their names here. Describe the nature of the collaboration.\n",
    "\n",
    "**Generative AI**: If you used any Generative AI tools, please elaborate here.\n",
    "\n",
    "**Reminder:** The written discussions responses must be in your own words. Many of these questions ask about your specific results or are open-ended questions with many reasonable answers. Thus we expect unique responses, analyses, and ideas.\n",
    "\n",
    "We may use writing analysis software to check for overly similar written responses. You are responsible for reviewing the colaboration policy outlined in the class syllabus to avoid violations of the honor code."
   ]
  },
  {
   "cell_type": "markdown",
   "metadata": {},
   "source": []
  }
 ],
 "metadata": {
  "kernelspec": {
   "display_name": "controls",
   "language": "python",
   "name": "python3"
  },
  "language_info": {
   "codemirror_mode": {
    "name": "ipython",
    "version": 3
   },
   "file_extension": ".py",
   "mimetype": "text/x-python",
   "name": "python",
   "nbconvert_exporter": "python",
   "pygments_lexer": "ipython3",
   "version": "3.10.16"
  }
 },
 "nbformat": 4,
 "nbformat_minor": 4
}
