{
 "cells": [
  {
   "cell_type": "markdown",
   "metadata": {},
   "source": [
    "# Lab 2: Model Identification"
   ]
  },
  {
   "cell_type": "markdown",
   "metadata": {},
   "source": [
    "\n",
    "\n",
    "*Your Name:* \n",
    "\n",
    "Fitting models to data is an engineering skill that links between the real world of engineering systems to the theory you've been learning in the classroom. For this laboratory session you will collect data from a step test experiments, then fit the data to models derived from first-principles energy balances. "
   ]
  },
  {
   "cell_type": "markdown",
   "metadata": {},
   "source": [
    "## Overview"
   ]
  },
  {
   "cell_type": "markdown",
   "metadata": {},
   "source": [
    "1. Download a copy of this notebook to your laptop or lab computer. \n",
    "2. Complete Exercise 0 and submit before lab on Friday.\n",
    "3. Complete Exercise 1 during lab on Friday. The results should be embedded in the notebook. Be sure to 'save-as-you-go' to avoid losing your work.\n",
    "4. After completing Exercise 1, save the resulting data file ending in `.csv` to your Google Drive, email it to yourself, etc. \n",
    "5. Use your step test data (Lab 1) and sine test data (Lab 2) to fit two versions of a model for the temperature control lab: (a) one-state model with one input, and (b) two-state model with one input.\n",
    "6. Submit your completed lab notebook via Gradescope.\n",
    "\n",
    "**Before you leave lab on Friday**, you should complete **Exercise 1** and email yourself a copy of this `.ipynb` file and your `.csv` data file. If you need help finding the `.csv` file on your computer, please ASK!\n",
    "\n",
    "**Reminder:** Do NOT open Jupyter Lab via the Anaconda Navigator. Instead, open the **Anaconda Prompt** (or terminal on macOS) and type the following commands:\n",
    "* `conda activate controls`\n",
    "* `jupyter lab`\n",
    "\n",
    "If you open Jupyter Lab via the Anaconda Navigator, you may experiment issues changing the kernel to `controls`."
   ]
  },
  {
   "cell_type": "markdown",
   "metadata": {},
   "source": [
    "## Exercise 0. Fitting a First-Order Linear Model\n",
    "\n",
    "As discussed in class, a simple energy balance model for T1 is given by\n",
    "\n",
    "\\begin{equation*}\n",
    "C_p \\frac{dT_1}{dt} = U_a(T_{amb} - T_1) + \\alpha P_1 U_1\n",
    "\\end{equation*}\n",
    "\n",
    "where the parameter $\\alpha$ has, through independent means, been determined as 0.00016 when U1 is given in percent of full power and power is measured in Watts.\n",
    "\n",
    "Do the following:\n",
    "1. Perform nonlinear regression to estimate $U_a$ and $C_p$. In Lab 1, we estimated $\\tau$ and $K$ and then calculated $U_a$ and $C_p$. In this lab, you will instead directly regress $U_a$ and $C_p$.\n",
    "2. Quantify the uncertainty in the estimates $U_a$ and $C_p$ by computing the Fisher information matrix, covariance matrix, and correlation matrix.\n",
    "3. Perform an eigendecomposition of the covariance matrix.\n",
    "\n",
    "This pre-lab exercise builds up the analysis workflow you will adapt for the rest of the lab.\n"
   ]
  },
  {
   "cell_type": "code",
   "execution_count": null,
   "metadata": {},
   "outputs": [],
   "source": [
    "import pandas as pd\n",
    "import matplotlib.pyplot as plt\n",
    "\n",
    "# Start by loading your data from the previous lab\n",
    "\n",
    "# Add your solution here\n",
    "\n",
    "# Next, quickly plot your data from the previous lab\n",
    "\n",
    "# Add your solution here"
   ]
  },
  {
   "cell_type": "code",
   "execution_count": null,
   "metadata": {},
   "outputs": [],
   "source": [
    "import numpy as np\n",
    "from scipy.integrate import solve_ivp\n",
    "\n",
    "# Next complete the function below which simulates \n",
    "# the first order model for the temperature of the heater.\n",
    "\n",
    "def tclab_model1(data, param, alpha = 0.00016, P1 = 200, plot=False):\n",
    "    \"\"\" First order linear model for TCLab\n",
    "    \n",
    "    Arguments:\n",
    "        data: pandas dataframe with columns 'Time', 'T1', 'Q1'\n",
    "        param: list of parameters [Ua, CpH]\n",
    "        alpha: power conversion factor, default 0.00016 watts / (units P1 * percent U1)\n",
    "        P1: power setting for heater 1, default 200 (P1 units)\n",
    "    \n",
    "    Returns:\n",
    "        T1: numpy array of model predictions for T1\n",
    "    \"\"\"\n",
    "\n",
    "    # unpack the adjustable parameters\n",
    "    Ua, CpH = param\n",
    "\n",
    "    # extract ambient temperature\n",
    "    T_amb = data['T1'][0]\n",
    "\n",
    "    # extract experiment time\n",
    "    t_expt = data['Time']\n",
    "\n",
    "    # model solution\n",
    "    def deriv(t, y):\n",
    "\n",
    "        # interpolate the heater input to nearest value is faster than linear\n",
    "        u = np.interp(t, data['Time'], data['Q1'], t)\n",
    "\n",
    "        # unpack the state\n",
    "        T1 = y\n",
    "\n",
    "        # Note: We do NOT need to use deviation variables here.\n",
    "        # We can use the true temperature and the true ambient temperature\n",
    "\n",
    "        # Add your solution here\n",
    "\n",
    "\n",
    "        return dT1dt\n",
    "    soln = solve_ivp(deriv, [min(t_expt), max(t_expt)], [T_amb, T_amb], t_eval=t_expt)\n",
    "\n",
    "    T1 = soln.y[0]\n",
    "\n",
    "    if plot:\n",
    "        # Plot the temperature data and heat power\n",
    "        plt.figure()\n",
    "        plt.subplot(2,1,1)\n",
    "        plt.plot(t_expt, data['T1'], 'ro', label='Measured')\n",
    "        plt.plot(t_expt, T1, 'b-', label='Predicted')\n",
    "        plt.ylabel('Temperature (degC)')\n",
    "        plt.legend()\n",
    "        plt.subplot(2,1,2)\n",
    "        plt.plot(t_expt, data['Q1'], 'r-', label='Heater')\n",
    "        plt.ylabel('Heater (%)')\n",
    "        plt.legend()\n",
    "        plt.xlabel('Time (sec)')\n",
    "        plt.tight_layout()\n",
    "        plt.show()\n",
    "\n",
    "    return T1\n",
    "\n",
    "\n",
    "# Test your function with the data and initial parameters\n",
    "# Use the initial parameters from Lab 1 for Ua and CpH\n",
    "# Add your solution here\n"
   ]
  },
  {
   "cell_type": "code",
   "execution_count": null,
   "metadata": {},
   "outputs": [],
   "source": [
    "from scipy.optimize import least_squares\n",
    "\n",
    "# Next, complete the function below to perform nonlinear regression\n",
    "\n",
    "def tclab_estimation1(data, param_guess=[0.1, 4], plot=True):\n",
    "    \"\"\" Nonlinear regression for TCLab one-state model\n",
    "    \n",
    "    Arguments:\n",
    "        data: pandas dataframe with columns 'Time', 'T1', 'Q1'\n",
    "        param_guess: list of initial guess for parameters [Ua, CpH]\n",
    "    \n",
    "    Returns:\n",
    "        results: scipy least_squares results object\n",
    "        residuals: numpy array of residuals\n",
    "    \"\"\"\n",
    "    \n",
    "    def residual(param):\n",
    "        # Add your solution here\n",
    "\n",
    "    # Set bounds (non-negative)\n",
    "    bnds = ([0.0, 0.0], [np.inf, np.inf])\n",
    "\n",
    "    results = least_squares(residual, param_guess, verbose=2, method='trf', bounds=bnds, loss='arctan')\n",
    "\n",
    "    if plot:\n",
    "        tclab_model1(data, results.x, plot=True)\n",
    "\n",
    "    residuals = tclab_model1(data, results.x) - data['T1']\n",
    "\n",
    "    if plot:\n",
    "        # Plot the residuals\n",
    "        plt.figure()\n",
    "        plt.hist(residuals)\n",
    "\n",
    "        # font size\n",
    "        fs = 20\n",
    "        \n",
    "        # labels\n",
    "        plt.xlabel(\"$T_1$ residuals [$^\\circ{}$C]\",fontsize=fs,fontweight = 'bold')\n",
    "        plt.ylabel(\"Count\",fontsize=fs,fontweight = 'bold')\n",
    "\n",
    "        # define tick size\n",
    "        plt.xticks(fontsize=fs)\n",
    "        plt.yticks(fontsize=fs)\n",
    "        plt.tick_params(direction=\"in\",top=True, right=True)\n",
    "\n",
    "        # finish plot\n",
    "        plt.show()\n",
    "\n",
    "    return results, residuals\n",
    "\n",
    "# Test your function with the data\n",
    "step_test_results1, step_test_residuals1 = tclab_estimation1(data1)\n",
    "\n",
    "def print_results1(results):\n",
    "    print(f\"Ua = {results.x[0]:1.3f} W/degC\")\n",
    "    print(f\"CpH = {results.x[1]:1.3f} J/degC\")\n",
    "    print(f\"Success: {results.success}\")\n",
    "    print(f\"Message: {results.message}\")\n",
    "\n",
    "# Save the results for later\n",
    "Ua_ex0 = step_test_results1.x[0]\n",
    "Cp_ex0 = step_test_results1.x[1]\n",
    "\n",
    "print_results1(step_test_results1)"
   ]
  },
  {
   "cell_type": "markdown",
   "metadata": {},
   "source": [
    "Next, we will write a function to quantify the uncertainty in the estimated parameters. Let's review some key concepts.\n",
    "\n",
    "Let $\\mathbf{Q}$ represent the Jacobian matrix of the model residuals $\\mathbf{r}$ with respect to the model parameters $\\mathbf{\\theta}$.\n",
    "\n",
    "Often, we assume the measurement error is iid (independent and identifcally distributed) Gaussian. However, we do not know the standard deviation of the measurement error. Instead, we can estimate it!\n",
    "\n",
    "\\begin{equation*}\n",
    "\\hat{\\sigma}^2 = \\frac{\\mathbf{r}^\\intercal \\mathbf{r}}{|\\mathbf{r}| - |\\mathbf{\\theta}|}\n",
    "\\end{equation*}\n",
    "\n",
    "Here $\\hat{\\sigma}^2$ is the estimate for the variance of the measurement error. The operator $| \\cdot |$ means cardinality, i.e., number of items in a set or the length of a vector. Thus, $| \\mathbf{r} |$ is the number of resdiauls (data points) and $| \\mathbf{\\theta} |$ is the number of fitted parameters.\n",
    "\n",
    "The [Fisher information matrix](https://en.wikipedia.org/wiki/Fisher_information) is one way to quantify the amount of data contained in the experimental data about the model parameters $\\mathbf{\\theta}$. With iid Gaussian measurement error, the FIM is:\n",
    "\n",
    "\\begin{equation*}\n",
    "\\mathbf{M} \\approx \\hat{\\sigma}^{-2} \\mathbf{Q}^\\intercal \\mathbf{Q}\n",
    "\\end{equation*}\n",
    "\n",
    "This formula should look familar. This is because the the FIM $\\mathbf{M}$ is approximately the inverse of the parameter covariance matrix:\n",
    "\n",
    "\\begin{equation*}\n",
    "\\mathbf{\\Sigma_{\\hat{\\theta}}} \\approx \\mathbf{M}^{-1} \\approx \\hat{\\sigma}^{2} \\left( \\mathbf{Q}^\\intercal \\mathbf{Q} \\right)^{-1}\n",
    "\\end{equation*}\n",
    "\n",
    "Complete the function below to compute the FIM and parameter covariance matrix. We will also compute an eigendecomposition of the parameter covariance matrix."
   ]
  },
  {
   "cell_type": "code",
   "execution_count": null,
   "metadata": {},
   "outputs": [],
   "source": [
    "# Perform uncertainty quantification\n",
    "\n",
    "def covariance_to_correlation(cov):\n",
    "    ''' Convert covariance matrix into correlation matrix\n",
    "\n",
    "    Argument:\n",
    "        cov: covariance matrix\n",
    "\n",
    "    Returns:\n",
    "        cor: correlation matrix\n",
    "\n",
    "    '''\n",
    "\n",
    "    # Copy matrix\n",
    "    cor = cov.copy()\n",
    "\n",
    "    # Get number of rows\n",
    "    n = cor.shape[0]\n",
    "\n",
    "    # Loop over rows\n",
    "    for r in range(n):\n",
    "        # Loop over columns\n",
    "        for c in range(n):\n",
    "            # Scale element\n",
    "            cor[r,c] = cor[r,c] / np.sqrt(cov[r,r]*cov[c,c])\n",
    "\n",
    "    return cor\n",
    "\n",
    "\n",
    "def uncertainty_quantification(results, residuals):\n",
    "    \"\"\" Uncertainty quantification for the estimated parameters\n",
    "    \n",
    "    Arguments:\n",
    "        res: scipy least_squares results object\n",
    "    \n",
    "    Returns:\n",
    "        fim: Fisher Information Matrix\n",
    "        cov: covariance matrix\n",
    "    \"\"\"\n",
    "\n",
    "    # compute standard deviation of the residuals\n",
    "    sigma_residuals = np.sqrt(residuals.T @ residuals / (len(residuals) - len(results.x)))\n",
    "    print(\"Standard deviation of the residuals = \", round(sigma_residuals, 3), \" deg C\")\n",
    "    print(\"\")\n",
    "\n",
    "    # compute Fisher Information Matrix\n",
    "    # hint: see formula above\n",
    "    # Add your solution here\n",
    "    print(\"Fisher Information Matrix\")\n",
    "    print(fim)\n",
    "    print(\"\")\n",
    "\n",
    "    # compute the covariance matrix\n",
    "    # hint: see formula above, this is easy once you have the FIM\n",
    "    print(\"Covariance Matrix\")\n",
    "    # Add your solution here\n",
    "    print(cov)\n",
    "    print(\"\")\n",
    "\n",
    "    # eigendecomposition of the covariance matrix\n",
    "    print(\"Eigendecomposition of the covariance matrix\")\n",
    "    w, v = np.linalg.eig(cov)\n",
    "\n",
    "    print(\"\")\n",
    "    for i in range(len(w)):\n",
    "        print(f\"lambda_{i+1} = {w[i]:1.3e}\")\n",
    "        print(f\"v_{i+1} = {v[:,i]}\")\n",
    "        print(\"\")\n",
    "\n",
    "\n",
    "    # compute the correlation matrix\n",
    "    print(\"Correlation Matrix\")\n",
    "    cor = covariance_to_correlation(cov)\n",
    "    print(cor)\n",
    "\n",
    "    def print_with_abs_uncertainty(i, name, unit):\n",
    "        print(f\"{name} = {results.x[i]:1.3f} {unit} +/- {np.sqrt(cov[i,i]):1.3f} {unit}\")\n",
    "\n",
    "    def print_with_percent_uncertainty(i, name, unit):\n",
    "        print(f\"{name} = {results.x[i]:1.3f} {unit} +/- {(100*np.sqrt(cov[i,i])/results.x[i]):1.2f}% \")\n",
    "\n",
    "    # print the estimated parameters with uncertainty\n",
    "    print(\"\\nParameter estimates with uncertainty (covariance diagonals):\")\n",
    "    if(len(results.x) == 2):\n",
    "        print_with_abs_uncertainty(0, \"Ua\", \"W/degC\")\n",
    "        print_with_abs_uncertainty(1, \"CpH\", \"J/degC\")\n",
    "        print(\" \")\n",
    "        print_with_percent_uncertainty(0, \"Ua\", \"W/degC\")\n",
    "        print_with_percent_uncertainty(1, \"CpH\", \"J/degC\")\n",
    "\n",
    "    elif(len(results.x) == 4):\n",
    "        print_with_abs_uncertainty(0, \"Ua\", \"W/degC\")\n",
    "        print_with_abs_uncertainty(1, \"Ub\", \"W/degC\")\n",
    "        print_with_abs_uncertainty(2, \"CpH\", \"J/degC\")\n",
    "        print_with_abs_uncertainty(3, \"CpS\", \"J/degC\")\n",
    "        print(\" \")\n",
    "        print_with_percent_uncertainty(0, \"Ua\", \"W/degC\")\n",
    "        print_with_percent_uncertainty(1, \"Ub\", \"W/degC\")\n",
    "        print_with_percent_uncertainty(2, \"CpH\", \"J/degC\")\n",
    "        print_with_percent_uncertainty(3, \"CpS\", \"J/degC\")\n",
    "\n",
    "    else:\n",
    "        print(\"Skipped printing... check dimensions\")\n",
    "    \n",
    "    return fim\n",
    "\n",
    "fim1 = uncertainty_quantification(step_test_results1, step_test_residuals1)"
   ]
  },
  {
   "cell_type": "markdown",
   "metadata": {},
   "source": [
    "**Q1: Write a few sentences to comment on your residual plot. (Recall from Num Stats, the historgram of the residuals is helpful to check regression assumptions.) Based on your residual plot, are the regression assumptions reasonably satisfied?** "
   ]
  },
  {
   "cell_type": "markdown",
   "metadata": {},
   "source": [
    "*Answer*: "
   ]
  },
  {
   "cell_type": "markdown",
   "metadata": {},
   "source": [
    "**Q2: Write a few sentences to comment on your uncertainty estimates. As engineers, you will need to develop a \"gut instinct\" if calculations/results are reasonable based on your intuition. Do you think your uncertainty estimates are reasonable? Why or why not?**"
   ]
  },
  {
   "cell_type": "markdown",
   "metadata": {},
   "source": [
    "*Answer*: "
   ]
  },
  {
   "cell_type": "markdown",
   "metadata": {},
   "source": [
    "## Exercise 1. Sine Test and Data Collection\n",
    "\n",
    "In this part of the lab, you will execute a sine test experiment. In the remaining exercises, you will use both the sine test experiment (Lab 2) and the step test experiment (Lab 1) to estimate state-space models for the TCLab system."
   ]
  },
  {
   "cell_type": "markdown",
   "metadata": {},
   "source": [
    "### Step 1. Verify operation.\n",
    "\n",
    "Execute the following cell to verify that you have a working connection to the temperature control lab hardware. This will test for installation of TCLab.py, connection to the Arduino device, and working firmware within the Arduino."
   ]
  },
  {
   "cell_type": "code",
   "execution_count": null,
   "metadata": {},
   "outputs": [],
   "source": [
    "from tclab import TCLab, clock, Historian, Plotter, setup\n",
    "\n",
    "run_tclab = False\n",
    "\n",
    "\"\"\"\n",
    "In the labs, we will us \"run_tclab\" to control whether the TCLab is used.\n",
    "After you finish the lab experiment, set run_tclab = False.\n",
    "This way, you can run all the cells without losing your TCLab output.\n",
    "\"\"\"\n",
    "\n",
    "if run_tclab:\n",
    "\n",
    "    TCLab = setup(connected=True)\n",
    "\n",
    "    lab = TCLab()\n",
    "    print(\"TCLab Temperatures:\", lab.T1, lab.T2)\n",
    "    lab.close()"
   ]
  },
  {
   "cell_type": "markdown",
   "metadata": {},
   "source": [
    "### Step 2.  Check for steady state\n",
    "\n",
    "As discussed in class, for step testing the device must be initially at steady state. Run the following code to verify the heaters are off and that the temperatures are at a steady ambient temperature."
   ]
  },
  {
   "cell_type": "code",
   "execution_count": null,
   "metadata": {},
   "outputs": [],
   "source": [
    "if run_tclab:\n",
    "    # experimental parameters\n",
    "    tfinal = 30\n",
    "\n",
    "    # perform experiment\n",
    "    with TCLab() as lab:\n",
    "        lab.U1 = 0\n",
    "        lab.U2 = 0\n",
    "        h = Historian(lab.sources)\n",
    "        p = Plotter(h, tfinal)\n",
    "        for t in clock(tfinal):\n",
    "            p.update(t)"
   ]
  },
  {
   "cell_type": "markdown",
   "metadata": {},
   "source": [
    "### Step 3. Sine Test\n",
    "\n",
    "The step test consists of modulating the power to one heat to follow a sine wave and recording temperature data for at least 1200 seconds."
   ]
  },
  {
   "cell_type": "code",
   "execution_count": null,
   "metadata": {},
   "outputs": [],
   "source": [
    "import numpy as np\n",
    "import matplotlib.pyplot as plt\n",
    "def sine_wave(t, period=4*60, amplitude=50, offset=50):\n",
    "    \"\"\" Generate a sine wave with the given parameters.\n",
    "\n",
    "    Arguments:\n",
    "    t:          time (seconds)\n",
    "    period:     period of the sine wave (seconds)\n",
    "    amplitude:  amplitude of the sine wave\n",
    "    offset:     offset of the sine wave\n",
    "    \n",
    "    \"\"\"\n",
    "    return amplitude * np.sin(2 * np.pi * t / period) + offset\n",
    "\n",
    "t = np.linspace(0, 900, 901)\n",
    "plt.plot(t, sine_wave(t))\n",
    "plt.xlabel('Time / seconds')\n",
    "plt.ylabel('Power / %')\n",
    "plt.show()\n",
    "\n"
   ]
  },
  {
   "cell_type": "markdown",
   "metadata": {},
   "source": [
    "Copy the code from Step 2 into the following cell. Then modify as needed to accomplish the step test with P1 at 200."
   ]
  },
  {
   "cell_type": "code",
   "execution_count": null,
   "metadata": {},
   "outputs": [],
   "source": [
    "if run_tclab:\n",
    "\n",
    "    # experimental parameters\n",
    "    tfinal = 1200\n",
    "\n",
    "    # perform experiment\n",
    "    with TCLab() as lab:\n",
    "        lab.P1 = 200\n",
    "        lab.U1 = 50 # this is not needed because we will reset it in the loop\n",
    "        lab.U2 = 0\n",
    "        h = Historian(lab.sources)\n",
    "        p = Plotter(h, tfinal)\n",
    "        for t in clock(tfinal):\n",
    "            # Set lab.U1 to the sine wave function\n",
    "\n",
    "            # Add your solution here\n",
    "            \n",
    "            p.update(t)"
   ]
  },
  {
   "cell_type": "markdown",
   "metadata": {},
   "source": [
    "### Step 4. Save data to a .csv file\n",
    "\n",
    "Run the following cell to verify and save your data to a '.csv' file. Be sure you can find and locate the data on your laptop before ending your session. You will need access to this data for subsequent exercises."
   ]
  },
  {
   "cell_type": "code",
   "execution_count": null,
   "metadata": {},
   "outputs": [],
   "source": [
    "import matplotlib.pyplot as plt\n",
    "import os.path\n",
    "\n",
    "# Change the filename here\n",
    "data_file = 'lab2-sine-test.csv'\n",
    "\n",
    "if run_tclab:\n",
    "\n",
    "    # Set to True to overwrite the file. Default is False\n",
    "    # to safeguard against accidentally rerunning this cell.\n",
    "    overwrite_file = False\n",
    "\n",
    "    if not overwrite_file and os.path.isfile('./'+data_file):\n",
    "        raise FileExistsError(data_file + ' already exisits. Either choose a new filename or set overwrite_file = True.')\n",
    "    elif run_tclab:\n",
    "        h.to_csv(data_file)\n",
    "        print(\"Successfully saved data to \"+data_file)\n",
    "    else:\n",
    "        print(\"Data was not saved because run_tclab = False\")"
   ]
  },
  {
   "cell_type": "markdown",
   "metadata": {},
   "source": [
    "## Exercise 2. Fit First-Order Model using Sine Test Data"
   ]
  },
  {
   "cell_type": "markdown",
   "metadata": {},
   "source": [
    "You will now repeat the steps for Exercise 0 but using the sine test data.\n",
    "\n",
    "Start by loading the data into a pandas dataframe. Verify your pandas dataframe is correct by plotting the data."
   ]
  },
  {
   "cell_type": "code",
   "execution_count": null,
   "metadata": {},
   "outputs": [],
   "source": [
    "import numpy as np\n",
    "import matplotlib.pyplot as plt\n",
    "import pandas as pd\n",
    "\n",
    "# Load the data\n",
    "# Add your solution here\n",
    "\n",
    "# Add your solution here\n"
   ]
  },
  {
   "cell_type": "markdown",
   "metadata": {},
   "source": [
    "Next, simulate the first-order linear model you estimated in Exercise 0 but for your sine wave experiment."
   ]
  },
  {
   "cell_type": "code",
   "execution_count": null,
   "metadata": {},
   "outputs": [],
   "source": [
    "# Simulate the first order model for the sine wave test\n",
    "# using the values of Ua and Cp you identified in Exercise 0\n",
    "\n",
    "# Add your solution here"
   ]
  },
  {
   "cell_type": "markdown",
   "metadata": {},
   "source": [
    "Next, perform nonlinear regression to refine the parameter estimates. Be sure to:\n",
    "* Set `verbose=2` for `least_squares`\n",
    "* Plot the histogram of the residuals."
   ]
  },
  {
   "cell_type": "code",
   "execution_count": null,
   "metadata": {},
   "outputs": [],
   "source": [
    "# Perform nonlinear regression on the sine wave test data\n",
    "# Hint: Use the results from Exercise 0 as the initial guess\n",
    "# Add your solution here\n",
    "\n",
    "# Save the results for later\n",
    "Ua_ex1 = sine_test_results1.x[0]\n",
    "Cp_ex1 = sine_test_results1.x[1]\n",
    "\n",
    "print_results1(sine_test_results1)\n",
    "### END SOLUTION"
   ]
  },
  {
   "cell_type": "markdown",
   "metadata": {},
   "source": [
    "Next, quantify the uncertainty in your regression results. Save the FIM in the variable `fim2`. (The 2 is for Exercise 2.)"
   ]
  },
  {
   "cell_type": "code",
   "execution_count": null,
   "metadata": {},
   "outputs": [],
   "source": [
    "# Perform uncertainty quantification on the sine wave test data\n",
    "# Add your solution here"
   ]
  },
  {
   "cell_type": "markdown",
   "metadata": {},
   "source": [
    "**Q1: Compare your regression results, especially the time series plot, to Exercise 0 (step test)? Does the first order model better explain the step test or sine test experiment?**"
   ]
  },
  {
   "cell_type": "markdown",
   "metadata": {},
   "source": [
    "*Answer*: "
   ]
  },
  {
   "cell_type": "markdown",
   "metadata": {},
   "source": [
    "**Q2: Comment on your uncertainty estimates in a few sentences. Based on your uncertainty estimations, does the first order model better describe the step test or sine test experiments?**"
   ]
  },
  {
   "cell_type": "markdown",
   "metadata": {},
   "source": [
    "*Answer*: "
   ]
  },
  {
   "cell_type": "markdown",
   "metadata": {},
   "source": [
    "## Exercise 3. Fitting a Second-Order Model using Sine Test Data\n",
    "\n",
    "A second order model for the heater/sensor combination is given by\n",
    "\n",
    "\\begin{align*}\n",
    "C^H_p\\frac{dT_{H,1}}{dt} & = U_a(T_{amb} - T_{H,1}) + U_b(T_{S,1} - T_{H,1}) + P_1u_1\\\\\n",
    "C^S_p\\frac{dT_{S,1}}{dt} & = U_b(T_{H,1} - T_{S,1}) \n",
    "\\end{align*}\n",
    "\n",
    "where $T_{H,1}$ is the heater temperature, $T_{S,1}$ is the sensor temperature, and $U_b$ is the heat transfer coefficient between the heater and sensor. \n",
    "\n",
    "Modify the code you developed for Exercises 0 and 1 to fit this second order model.\n",
    "\n",
    "Do the following:\n",
    "1. Report your best fit for $U_a$, $U_b$, $C^H_p$, and $C^S_p$ with units and a reasonable number of significant digits.\n",
    "2. Characterize the uncertainty in these estimates.\n",
    "3. Visualize the quality of fit and the residuals.\n",
    "4. Answer the discussion questions.\n",
    "\n",
    "Start by completing the function below to simulate the second-order linear model for the TCLab."
   ]
  },
  {
   "cell_type": "code",
   "execution_count": null,
   "metadata": {},
   "outputs": [],
   "source": [
    "def tclab_model2(data, param, alpha = 0.00016, P1 = 200, plot=False, plot_title=None):\n",
    "    \"\"\" Second order linear model for TCLab\n",
    "    \n",
    "    Arguments:\n",
    "        data: pandas dataframe with columns 'Time', 'T1', 'Q1'\n",
    "        param: list of parameters [Ua, Ub, CpH, CpS]\n",
    "        alpha: power conversion factor, default 0.00016 watts / (units P1 * percent U1)\n",
    "        P1: power setting for heater 1, default 200 (P1 units)\n",
    "        plot: boolean, if True, plot the data and model predictions\n",
    "        plot_title: string, title for the plot\n",
    "    \n",
    "    Returns:\n",
    "        TS: numpy array of model predictions for TS\n",
    "    \"\"\"\n",
    "\n",
    "    # unpack the adjustable parameters\n",
    "    Ua, Ub, CpH, CpS = param\n",
    "\n",
    "    # extract ambient temperature\n",
    "    T_amb = data['T1'][0]\n",
    "\n",
    "    # extract experiment time\n",
    "    t_expt = data['Time']\n",
    "\n",
    "    # model solution\n",
    "    def deriv(t, y):\n",
    "\n",
    "        # interpolate the heater input to nearest value is faster than linear\n",
    "        u = np.interp(t, data['Time'], data['Q1'], t)\n",
    "\n",
    "        T1H, T1S = y\n",
    "        # Add your solution here\n",
    "        return [dT1H, dT1S]\n",
    "\n",
    "    soln = solve_ivp(deriv, [min(t_expt), max(t_expt)], [T_amb, T_amb], t_eval=t_expt)\n",
    "\n",
    "    TH = soln.y[0]\n",
    "    TS = soln.y[1]\n",
    "\n",
    "    if plot:\n",
    "        # Plot the temperature data and heat power\n",
    "        plt.figure()\n",
    "        plt.subplot(2,1,1)\n",
    "        plt.plot(t_expt, data['T1'], 'ro', label='Measured $T_S$')\n",
    "        plt.plot(t_expt, TS, 'b-', label='Predicted $T_S$')\n",
    "        plt.plot(t_expt, TH, 'g-', label='Predicted $T_H$')\n",
    "        plt.ylabel('Temperature (degC)')\n",
    "        plt.legend()\n",
    "        plt.subplot(2,1,2)\n",
    "        plt.plot(t_expt, data['Q1'], 'r-', label='Heater')\n",
    "        plt.ylabel('Heater (%)')\n",
    "        plt.legend()\n",
    "        plt.xlabel('Time (sec)')\n",
    "        plt.title(plot_title)\n",
    "        plt.tight_layout()\n",
    "        plt.show()\n",
    "\n",
    "    return TS\n",
    "\n",
    "# Test your function with the data and initial parameters\n",
    "TS = tclab_model2(data2, [0.1, 0.2, 4, 0.1], plot=True)"
   ]
  },
  {
   "cell_type": "markdown",
   "metadata": {},
   "source": [
    "Next, perform nonlinear regression to improve the parameter estimates."
   ]
  },
  {
   "cell_type": "code",
   "execution_count": null,
   "metadata": {},
   "outputs": [],
   "source": [
    "# Next, complete the function below to perform nonlinear regression\n",
    "\n",
    "def tclab_estimation2(data, param_guess=[0.1, 0.2, 6, 3], plot=True, verbose=2):\n",
    "    \"\"\" Nonlinear regression for TCLab two-state model\n",
    "    \n",
    "    Arguments:\n",
    "        data: pandas dataframe with columns 'Time', 'T1', 'Q1'\n",
    "        param_guess: list of initial guess for parameters [Ua, Ub, CpH, CpS]\n",
    "        plot: if True, create a histogram of the residuals\n",
    "        verbose: level of output passed to least_squares\n",
    "    \n",
    "    Returns:\n",
    "        results: scipy least_squares results object\n",
    "        residuals: numpy array of residuals\n",
    "    \"\"\"\n",
    "    \n",
    "    \n",
    "\n",
    "    def residual(param):\n",
    "        # Add your solution here\n",
    "\n",
    "    # Set bounds (non-negative)\n",
    "    bnds = ([0.0, 0.0, 0.0, 0.0], [np.inf, np.inf, np.inf, np.inf])\n",
    "\n",
    "    results = least_squares(residual, param_guess, verbose=verbose, method='trf', bounds=bnds, loss='arctan')\n",
    "\n",
    "    if plot:\n",
    "        tclab_model2(data, results.x, plot=True)\n",
    "\n",
    "    residuals = tclab_model2(data, results.x) - data['T1']\n",
    "\n",
    "    if plot:\n",
    "        # Plot the residuals\n",
    "        plt.figure()\n",
    "        plt.hist(residuals)\n",
    "\n",
    "        # font size\n",
    "        fs = 20\n",
    "        \n",
    "        # labels\n",
    "        plt.xlabel(\"$T_S$ residuals [$^\\circ{}$C]\",fontsize=fs,fontweight = 'bold')\n",
    "        plt.ylabel(\"Count\",fontsize=fs,fontweight = 'bold')\n",
    "\n",
    "        # define tick size\n",
    "        plt.xticks(fontsize=fs)\n",
    "        plt.yticks(fontsize=fs)\n",
    "        plt.tick_params(direction=\"in\",top=True, right=True)\n",
    "\n",
    "        # finish plot\n",
    "        plt.show()\n",
    "\n",
    "\n",
    "    return results, residuals\n",
    "\n",
    "# Test your function with the data\n",
    "sine_test_results2, sine_test_residuals2 = tclab_estimation2(data2)\n",
    "\n",
    "def print_results2(results):\n",
    "    # Add your solution here\n",
    "\n",
    "# Save the results for later\n",
    "Ua_ex3, Ub_ex3, CpH_ex3, CpS_ex3 = sine_test_results2.x\n",
    "\n",
    "print_results2(sine_test_results2)"
   ]
  },
  {
   "cell_type": "markdown",
   "metadata": {},
   "source": [
    "Next, quantify the uncertainty in the parameter estimates."
   ]
  },
  {
   "cell_type": "code",
   "execution_count": null,
   "metadata": {},
   "outputs": [],
   "source": [
    "# Perform uncertainty quantification\n",
    "# Add your solution here\n"
   ]
  },
  {
   "cell_type": "markdown",
   "metadata": {},
   "source": [
    "Finally, following discussion questions. Each response should be a few sentences in length."
   ]
  },
  {
   "cell_type": "markdown",
   "metadata": {},
   "source": [
    "**Q1: Compare the model predictions, especially the time series plots, for the first-order and second-order linear models. Which model better described the sine test experiment? Use some *quantitative* data to support your answer.**"
   ]
  },
  {
   "cell_type": "markdown",
   "metadata": {},
   "source": [
    "*Answer*: "
   ]
  },
  {
   "cell_type": "markdown",
   "metadata": {},
   "source": [
    "**Q2: Why does your observation for Q1 mathematically make sense?**"
   ]
  },
  {
   "cell_type": "markdown",
   "metadata": {},
   "source": [
    "*Answer*: "
   ]
  },
  {
   "cell_type": "markdown",
   "metadata": {},
   "source": [
    "## Exercise 4. Multistart Initialization\n",
    "\n",
    "Nonlinear regression is (often) a nonconvex problem with many unique local minimum. We want to find a set of parameters that are (near the) global minimum. One pragmatic approach to this is multi-start initialization.\n",
    "\n",
    "Study the following code below. Then, run the code. **Warning:** This cell may take ~5 minutes to execute."
   ]
  },
  {
   "cell_type": "code",
   "execution_count": null,
   "metadata": {},
   "outputs": [],
   "source": [
    "def multi_start_initialization(regression_function, lowerbounds, upperbounds, n_restarts, plot=False):\n",
    "    ''' Perform multi-start initialization for nonlinear regression\n",
    "\n",
    "    Arguments:\n",
    "        regression_function: function to perform nonlinear regression\n",
    "        lowerbounds: lower bounds for the parameters\n",
    "        upperbounds: upper bounds for the parameters\n",
    "        n_restarts: number of restarts\n",
    "\n",
    "    Returns:\n",
    "        best_theta: best parameters\n",
    "    ''' \n",
    "\n",
    "    best_theta = None\n",
    "    best_objective = np.inf\n",
    "\n",
    "    all_objectives = np.zeros(n_restarts)\n",
    "\n",
    "    for i in range(n_restarts):\n",
    "        \n",
    "        print(\"\\n***************************************************\")\n",
    "        print(f\"Restart {i+1} of {n_restarts}\")\n",
    "        \n",
    "        # Generate random initial guess\n",
    "        theta0 = np.random.uniform(lowerbounds, upperbounds)\n",
    "        print(\"theta0 = \", theta0)\n",
    "        \n",
    "\n",
    "        # Perform nonlinear regression\n",
    "        results, residuals = regression_function(theta0)\n",
    "        \n",
    "        print(\"result object:\\n\", results)\n",
    "\n",
    "        # Compute objective\n",
    "        objective = results.cost\n",
    "\n",
    "        # Store best objective\n",
    "        all_objectives[i] = objective\n",
    "\n",
    "        # Update best parameters\n",
    "        if objective < best_objective:\n",
    "            best_theta = results.x\n",
    "            best_objective = objective\n",
    "\n",
    "\n",
    "    plt.figure()\n",
    "    plt.hist(all_objectives)\n",
    "    plt.xlabel('Sum of Squared of Residuals')\n",
    "    plt.ylabel('Frequency')\n",
    "    plt.tight_layout()\n",
    "    plt.show()\n",
    "\n",
    "    return best_theta\n",
    "\n",
    "# Define the bounds for the parameters\n",
    "lowerbounds = [0.01, 0.1, 3, 1]\n",
    "upperbounds = [0.1, 0.3, 7, 4]\n",
    "\n",
    "# Define the regression function\n",
    "reg_function = lambda theta, plot=False: tclab_estimation2(data2, theta, plot=plot, verbose=1)\n",
    "\n",
    "# Perform multi-start initialization\n",
    "best_theta = multi_start_initialization(reg_function, lowerbounds, upperbounds, 20)"
   ]
  },
  {
   "cell_type": "markdown",
   "metadata": {},
   "source": [
    "The historgram and the output above show the results of repeating the parameter estimation problem several times using different initial conditions.\n",
    "\n",
    "Next, let's rerun the parameter estimation problem using the best parameter estimate obtained from the multi-start initialization. This time, we will plot the data and model predictions."
   ]
  },
  {
   "cell_type": "code",
   "execution_count": null,
   "metadata": {},
   "outputs": [],
   "source": [
    "multi_start_results, multi_start_residuals = tclab_estimation2(data2, best_theta, plot=True)"
   ]
  },
  {
   "cell_type": "markdown",
   "metadata": {},
   "source": [
    "Next, quantify the uncertainty in the parameter estimates. Store the results in `fim4`."
   ]
  },
  {
   "cell_type": "code",
   "execution_count": null,
   "metadata": {},
   "outputs": [],
   "source": [
    "# Add your solution here"
   ]
  },
  {
   "cell_type": "markdown",
   "metadata": {},
   "source": [
    "Finally, answer the following discussion questions."
   ]
  },
  {
   "cell_type": "markdown",
   "metadata": {},
   "source": [
    "**Q1: Compare the time series plots and residual histogram plots from the original parameter estimation (Exercise 3) and with multi-start initialization (Exercise 4). Quantitatively describe a few differences. Based on these plots, is multi-start initialization important?**"
   ]
  },
  {
   "cell_type": "markdown",
   "metadata": {},
   "source": [
    "*Answer*: "
   ]
  },
  {
   "cell_type": "markdown",
   "metadata": {},
   "source": [
    "**Q2: Quantitatively compare the uncertainty estimates from Exercises 3 and 4. Based on these results, is multi-start initialization important?**"
   ]
  },
  {
   "cell_type": "markdown",
   "metadata": {},
   "source": [
    "*Answer*: "
   ]
  },
  {
   "cell_type": "markdown",
   "metadata": {},
   "source": [
    "## Exercise 5: Fit Second Order Model Using Step Test Data"
   ]
  },
  {
   "cell_type": "markdown",
   "metadata": {},
   "source": [
    "Next, we will repeat parameter estimation for the second-order linear model, but using the step test data (Lab 1)."
   ]
  },
  {
   "cell_type": "code",
   "execution_count": null,
   "metadata": {},
   "outputs": [],
   "source": [
    "# Perform regression\n",
    "# Hint: use your previous results as a starting point\n",
    "# Add your solution here"
   ]
  },
  {
   "cell_type": "markdown",
   "metadata": {},
   "source": [
    "Next, quantify the uncertainty in the parameter estimates. Store the results in `fim5`."
   ]
  },
  {
   "cell_type": "code",
   "execution_count": null,
   "metadata": {},
   "outputs": [],
   "source": [
    "# Perform uncertainty quantification\n",
    "# Add your solution here"
   ]
  },
  {
   "cell_type": "markdown",
   "metadata": {},
   "source": [
    "Finally, answer the following discussion questions:"
   ]
  },
  {
   "cell_type": "markdown",
   "metadata": {},
   "source": [
    "**Q1: Compare the time-series plots from Exercises 4 and 5. Which experimental data is better described by the model?**"
   ]
  },
  {
   "cell_type": "markdown",
   "metadata": {},
   "source": [
    "*Answer*: "
   ]
  },
  {
   "cell_type": "markdown",
   "metadata": {},
   "source": [
    "**Q2: Compare the residual histogram plots from Exercises 4 and 5. For which experiment are the measurement error assumptions best satisfied?**"
   ]
  },
  {
   "cell_type": "markdown",
   "metadata": {},
   "source": [
    "*Answer*: "
   ]
  },
  {
   "cell_type": "markdown",
   "metadata": {},
   "source": [
    "## Exercise 6: Fit Second Order Model Using Both Data Sets\n",
    "\n",
    "Next, perform simultanous parameter estimation for both data sets. The goal here is to find a single set of parameter values that adequately describes both experiments.\n",
    "\n",
    "We will start by defining and testing some residual functions."
   ]
  },
  {
   "cell_type": "code",
   "execution_count": null,
   "metadata": {},
   "outputs": [],
   "source": [
    "# Define functions to compute residuals for all data sets\n",
    "\n",
    "def residual_single_data_set(param, df):\n",
    "    '''Evaluate the residuals for a single data set\n",
    "        Arguments:\n",
    "            param: list of parameters [Ua, Ub, CpH, CpS]\n",
    "            df: pandas dataframe with columns 'Time', 'T1', 'Q1'\n",
    "\n",
    "        Returns:\n",
    "            residuals: numpy array of residuals\n",
    "    '''\n",
    "\n",
    "    # Add your solution here\n",
    "\n",
    "def residuals_all_data_sets(param, data_sets):\n",
    "    ''' Return the residuals for all of the experiments'''\n",
    "\n",
    "    residuals = np.array([])\n",
    "    for name, df in data_sets.items():\n",
    "        \n",
    "        # Hint: Look at the documentation for np.concatenate\n",
    "        residuals = np.concatenate((residuals, residual_single_data_set(param, df).to_numpy())) \n",
    "        \n",
    "    return residuals \n",
    "\n",
    "# Assemble the dictionary of data sets\n",
    "data_sets = {'sine': data2, 'step': data1}\n",
    "\n",
    "# Define the initial guess for the parameters\n",
    "param = [0.1, 0.2, 4, 0.1]"
   ]
  },
  {
   "cell_type": "code",
   "execution_count": null,
   "metadata": {},
   "outputs": [],
   "source": [
    "# Test the function\n",
    "residual_single_data_set(param, data_sets['sine'])"
   ]
  },
  {
   "cell_type": "code",
   "execution_count": null,
   "metadata": {},
   "outputs": [],
   "source": [
    "# Test the function\n",
    "residual_single_data_set(param, data_sets['step'])"
   ]
  },
  {
   "cell_type": "code",
   "execution_count": null,
   "metadata": {},
   "outputs": [],
   "source": [
    "# Test the function\n",
    "residuals_all_data_sets(param, data_sets)"
   ]
  },
  {
   "cell_type": "markdown",
   "metadata": {},
   "source": [
    "Next, complete the function below to perform nonlinear regression with multiple datasets."
   ]
  },
  {
   "cell_type": "code",
   "execution_count": null,
   "metadata": {},
   "outputs": [],
   "source": [
    "def tclab_estimation2_multiple_datasets(data_sets, param_guess=[0.1, 0.2, 4, 0.1], plot=True, verbose=2):\n",
    "    \"\"\" Nonlinear regression for TCLab two-state model that supports multiple datasets\n",
    "    \n",
    "    Arguments:\n",
    "        data_sets: dictionary\n",
    "            keys = data set names (unqiue strings)\n",
    "            values = pandas dataframes with columns 'Time', 'T1', 'Q1'\n",
    "        param_guess: list of initial guess for parameters [Ua, Ub, CpH, CpS]\n",
    "        plot: if True, create a histogram of the residuals\n",
    "        verbose: level of output passed to least_squares (default 2)\n",
    "    \n",
    "    Returns:\n",
    "        results: scipy least_squares results object\n",
    "        residuals: numpy array of residuals\n",
    "    \"\"\"\n",
    "\n",
    "    # Set bounds (non-negative)\n",
    "    bnds = ([0.0, 0.0, 0.0, 0.0], [np.inf, np.inf, np.inf, np.inf])\n",
    "    \n",
    "    results = least_squares(residuals_all_data_sets, \n",
    "                            param_guess, \n",
    "                            verbose=verbose, \n",
    "                            method='trf', \n",
    "                            bounds=bnds, \n",
    "                            loss='arctan', \n",
    "                            args=(data_sets,))\n",
    "\n",
    "    # Compute the residuals usin the best fit value\n",
    "    residuals = residuals_all_data_sets(results.x, data_sets)\n",
    "\n",
    "    if plot:\n",
    "\n",
    "        # Loop over the datasets\n",
    "        for name, df in data_sets.items():\n",
    "            # Rerun the model and plot the results\n",
    "            \n",
    "            tclab_model2(df, results.x, plot=True, plot_title=f\"{name} test\")\n",
    "            \n",
    "            # Plot the residuals\n",
    "            residuals_single = residual_single_data_set(results.x, df)\n",
    "            plt.figure()\n",
    "            plt.hist(residuals_single)\n",
    "\n",
    "            # font size\n",
    "            fs = 20\n",
    "            \n",
    "            # labels\n",
    "            plt.xlabel(\"$T_S$ residuals [$^\\circ{}$C]\",fontsize=fs,fontweight = 'bold')\n",
    "            plt.ylabel(\"Count\",fontsize=fs,fontweight = 'bold')\n",
    "\n",
    "            # define tick size\n",
    "            plt.xticks(fontsize=fs)\n",
    "            plt.yticks(fontsize=fs)\n",
    "            plt.tick_params(direction=\"in\",top=True, right=True)\n",
    "\n",
    "            # add title\n",
    "            plt.title(f\"{name} test\", fontsize=fs,fontweight = 'bold')\n",
    "\n",
    "            # finish plot\n",
    "            plt.show()\n",
    "\n",
    "    return results, residuals"
   ]
  },
  {
   "cell_type": "markdown",
   "metadata": {},
   "source": [
    "Finally, perform nonlinear regression. Use the parameter estimates from Exercise 4 (multi-start with sine test data) as an initial point."
   ]
  },
  {
   "cell_type": "code",
   "execution_count": null,
   "metadata": {},
   "outputs": [],
   "source": [
    "# Perform nonlinear regression\n",
    "both_results2, both_residuals2 = tclab_estimation2_multiple_datasets(data_sets, param_guess=best_theta)\n",
    "\n"
   ]
  },
  {
   "cell_type": "markdown",
   "metadata": {},
   "source": [
    "Next, quantify the uncertainty in the estimated parameters. Store the results in `fim6`."
   ]
  },
  {
   "cell_type": "code",
   "execution_count": null,
   "metadata": {},
   "outputs": [],
   "source": [
    "# Perform uncertainty quantification\n",
    "# Add your solution here"
   ]
  },
  {
   "cell_type": "markdown",
   "metadata": {},
   "source": [
    "Yep, you guessed it. We should perform multi-start initialization. Store the new parameter estimate in `both_multi_start`. **Warning:** This cell may take ~5 minutes to execute."
   ]
  },
  {
   "cell_type": "code",
   "execution_count": null,
   "metadata": {},
   "outputs": [],
   "source": [
    "# Add your solution here"
   ]
  },
  {
   "cell_type": "markdown",
   "metadata": {},
   "source": [
    "Next, repeat parameter estimation using the best solution, stored in `both_multi_start`, as the initial guess. Be sure to make plots."
   ]
  },
  {
   "cell_type": "code",
   "execution_count": null,
   "metadata": {},
   "outputs": [],
   "source": [
    "both_results_restart, both_residuals_restart = tclab_estimation2_multiple_datasets(data_sets, param_guess=both_multi_start, plot=True)"
   ]
  },
  {
   "cell_type": "markdown",
   "metadata": {},
   "source": [
    "Complete the calculations by quantifying the uncertainty in the parameter estimates."
   ]
  },
  {
   "cell_type": "code",
   "execution_count": null,
   "metadata": {},
   "outputs": [],
   "source": [
    "# Add your solution here"
   ]
  },
  {
   "cell_type": "markdown",
   "metadata": {},
   "source": [
    "In place of discussion questions, **write a short paragraph comparing the plots from Exercises 4, 5, and 6**."
   ]
  },
  {
   "cell_type": "markdown",
   "metadata": {},
   "source": [
    "*Answer*: "
   ]
  },
  {
   "cell_type": "markdown",
   "metadata": {},
   "source": [
    "## Exercise 7: Analyze Uncertainty Estimates for Second-Order Models"
   ]
  },
  {
   "cell_type": "markdown",
   "metadata": {},
   "source": [
    "Take a few minutes to review your uncertainty analysis results for Exercises 4, 5, and 6. Then, complete the following table by filling in the estimated value $\\pm$ the uncertainty. Please only report a reasonable number of significant digits.\n",
    "\n",
    "\n",
    "| | Sine Test | Step Test | Both |\n",
    "| -- | -- | -- | -- |\n",
    "| $U_a~~\\left(\\frac{\\text{W}}{\\text{°C}}\\right)$ | | | |\n",
    "| $U_b~~\\left(\\frac{\\text{W}}{\\text{°C}}\\right)$ | | | | \n",
    "| $C_p^H~~\\left(\\frac{\\text{J}}{\\text{°C}}\\right)$ | | | | \n",
    "| $C_p^S~~\\left(\\frac{\\text{J}}{\\text{°C}}\\right)$ | | | | "
   ]
  },
  {
   "cell_type": "markdown",
   "metadata": {},
   "source": [
    "Next, use your **quantitative** results to answer the following questions.\n"
   ]
  },
  {
   "cell_type": "markdown",
   "metadata": {},
   "source": [
    "**Q1: Which parameter(s) have the *least* uncertainty? Is your answer consistent across the three Exercises? What is the physical justification/insight from this finding?**"
   ]
  },
  {
   "cell_type": "markdown",
   "metadata": {},
   "source": [
    "*Answer*: "
   ]
  },
  {
   "cell_type": "markdown",
   "metadata": {},
   "source": [
    "**Q2: Which parameter(s) have the *greatest* uncertainty? Is your answer consistent across the three Exercises? What is the physical justification/insight from this finding?**"
   ]
  },
  {
   "cell_type": "markdown",
   "metadata": {},
   "source": [
    "*Answer*: "
   ]
  },
  {
   "cell_type": "markdown",
   "metadata": {},
   "source": [
    "**Q3: What are some advantages of a step test? In other words, why are step tests extremely popular for systems identification?**"
   ]
  },
  {
   "cell_type": "markdown",
   "metadata": {},
   "source": [
    "*Answer*: "
   ]
  },
  {
   "cell_type": "markdown",
   "metadata": {},
   "source": [
    "**Q4: Why is it important to perform a sine test? In prior years, this lab focused on only a step test. Speculate as to why the lab was refactored to introduce a sine test.**"
   ]
  },
  {
   "cell_type": "markdown",
   "metadata": {},
   "source": [
    "*Answer*: "
   ]
  },
  {
   "cell_type": "markdown",
   "metadata": {},
   "source": [
    "## Declarations\n",
    "\n",
    "**Collaboration**: If you worked with any classmates, please give their names here. Describe the nature of the collaboration.\n",
    "\n",
    "**Generative AI**: If you used any Generative AI tools, please elaborate here.\n",
    "\n",
    "**Reminder:** The written discussions responses must be in your own words. Many of these questions ask about your specific results or are open-ended questions with many reasonable answers. Thus we expect unique responses, analyses, and ideas.\n",
    "\n",
    "We may use writing analysis software to check for overly similar written responses. You are responsible for reviewing the colaboration policy outlined in the class syllabus to avoid violations of the honor code."
   ]
  },
  {
   "cell_type": "markdown",
   "metadata": {},
   "source": []
  }
 ],
 "metadata": {
  "kernelspec": {
   "display_name": "controls",
   "language": "python",
   "name": "python3"
  },
  "language_info": {
   "codemirror_mode": {
    "name": "ipython",
    "version": 3
   },
   "file_extension": ".py",
   "mimetype": "text/x-python",
   "name": "python",
   "nbconvert_exporter": "python",
   "pygments_lexer": "ipython3",
   "version": "3.10.13"
  }
 },
 "nbformat": 4,
 "nbformat_minor": 4
}
