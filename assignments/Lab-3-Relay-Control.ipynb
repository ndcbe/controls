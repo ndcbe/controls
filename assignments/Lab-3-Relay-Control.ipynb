{
 "cells": [
  {
   "cell_type": "markdown",
   "metadata": {},
   "source": [
    "# Lab 3: Relay (On-Off) Control\n",
    "\n",
    "\n",
    "\n",
    "*Your Name:* \n",
    "\n",
    "In this lab assignment you will implement [relay control](https://ndcbe.github.io/controls/notebooks/3/Relay-Control.html) for the Temperature Control Laboratory. The [class website](https://ndcbe.github.io/controls/notebooks/3/Implementing-Controllers.html) explains the Python interface to the TCLab in more detail. Your main tasks are:\n",
    "1. Use numerical simulation to tune your controller (Exercise 0)\n",
    "2. Implement and test a relay control for the heater/sensor system\n",
    "3. Implement and test a relay control to track a complex setpoint (dark chocolate tempering)"
   ]
  },
  {
   "cell_type": "markdown",
   "metadata": {},
   "source": [
    "## Exercise 0. Simulation\n",
    "\n",
    "This exercise is due BEFORE the start of lab. It is a pre-lab assignment. Your task:\n",
    "* Read the entire lab assigment. If you have a question, post to Canvas.\n",
    "* Create a plot showing the setpoints described in Excercise 1.\n",
    "* On paper (or a tablet), write down the system of differential equations for the TCLab with the simple relay controller described in Exercise 1. Include in your model the intial conditions for each state.\n",
    "* Formulate your differential equations as a linear time invariant (LTI) system in cannonical state-space form (use matrices $\\mathbf{A}$, $\\mathbf{B}$, $\\mathbf{C}$, and $\\mathbf{D}$) with a few extra equations for the control law. Write this out on paper.\n",
    "* Hint: You can assume your two TCLab channels are identical and there is no interaction between the channels. It will be an imperfect model, but you have enough information to build it. Here are some [ideas from a legacy page on the class website](https://ndcbe.github.io/controls/tclab/03.06-Four-State-Model.html).\n",
    "* Using Python, numerically simulate the system of differential equations. Look at [this example](https://ndcbe.github.io/controls/notebooks/3/Relay-Control.html). Use the TCLab model parameters you estimated in Lab 2 for your personal TCLab hardware."
   ]
  },
  {
   "cell_type": "markdown",
   "metadata": {},
   "source": [
    "### Visualize Setpoints"
   ]
  },
  {
   "cell_type": "code",
   "execution_count": null,
   "metadata": {},
   "outputs": [],
   "source": [
    "### Create a plot showing the setpoints described in Exercise 1\n",
    "\n",
    "# Set default parameters for publication quality plots\n",
    "import matplotlib.pyplot as plt\n",
    "SMALL_SIZE = 14\n",
    "MEDIUM_SIZE = 16\n",
    "BIGGER_SIZE = 18\n",
    "\n",
    "plt.rc('font', size=SMALL_SIZE)  # controls default text sizes\n",
    "plt.rc('axes', titlesize=SMALL_SIZE)  # fontsize of the axes title\n",
    "plt.rc('axes', labelsize=MEDIUM_SIZE)  # fontsize of the x and y labels\n",
    "plt.rc('xtick', labelsize=SMALL_SIZE)  # fontsize of the tick labels\n",
    "plt.rc('ytick', labelsize=SMALL_SIZE)  # fontsize of the tick labels\n",
    "plt.rc('legend', fontsize=SMALL_SIZE)  # legend fontsize\n",
    "plt.rc('figure', titlesize=BIGGER_SIZE)  # fontsize of the figure title\n",
    "plt.rc('lines', linewidth=3)\n",
    "\n",
    "# modify these setpoints to change with time\n",
    "def SP1_simple(t):\n",
    "    \"\"\"Set point definition for T1\n",
    "    Arguments:\n",
    "        t: time (s)\n",
    "    Returns:\n",
    "        set point of T1\n",
    "    \"\"\"\n",
    "    return 40\n",
    "\n",
    "def SP2_simple(t):\n",
    "    \"\"\"Set point definition for T2\n",
    "    Arguments:\n",
    "        t: time (s)\n",
    "    Returns:\n",
    "        set point of T2\n",
    "    \"\"\"\n",
    "    return 35\n",
    "\n",
    "# Add your solution here\n",
    "\n",
    "import matplotlib.pyplot as plt\n",
    "import numpy as np\n",
    "\n",
    "# Add your solution here"
   ]
  },
  {
   "cell_type": "markdown",
   "metadata": {},
   "source": [
    "### Function to Numerically Simulate Relay Controller"
   ]
  },
  {
   "cell_type": "code",
   "execution_count": null,
   "metadata": {},
   "outputs": [],
   "source": [
    "### Simulate differential equations for the TCLab system plus relay controller\n",
    "\n",
    "def tclab_simulate_relay(SP1, SP2, param, \n",
    "                         d=0.1, dt=1, T_amb=24, tend=500, \n",
    "                         alpha=0.00016, P1=200, P2=200, \n",
    "                         verbose=False, plot=True):\n",
    "    ''' Simulate the TCLab system with relay control\n",
    "    Arguments:\n",
    "        SP1: function that returns setpoint for T1\n",
    "        SP2: function that returns setpoint for T2\n",
    "        param: list of parameters [Ua, Ub, Uc, CpH, CpS]\n",
    "        d: deadband in temperature control, default is 0.5 C\n",
    "        dt: time step, default is 1 second\n",
    "        T_amb: ambient temperature, default is 24 C\n",
    "        tend: end time for simulation, default is 500 seconds\n",
    "        alpha: heat transfer coefficient, default is 0.00016\n",
    "        P1: power level for heater 1, default is 200\n",
    "        P2: power level for heater 2, default is 200\n",
    "        verbose: print matrices, default is False\n",
    "        plot: create plots, default is True\n",
    "\n",
    "    Returns:\n",
    "        data: DataFrame with columns for Time, T1, T2, Q1, Q2\n",
    "    '''\n",
    "\n",
    "    import numpy as np\n",
    "    import pandas as pd\n",
    "\n",
    "    # Parameters\n",
    "    Ua, Ub, Uc, CpH, CpS = param\n",
    "\n",
    "    # Hint: You need to define the system matrices A, B, C, and D\n",
    "    # Assume the state vector is x = [T1H, T1S, T2H, T2S]\n",
    "    # Assume the input vector is u = [Q1, Q2]\n",
    "    # Add your solution here\n",
    "\n",
    "    if verbose:\n",
    "        # Print the matrices\n",
    "        print(\"Matrix A:\\n\", A)\n",
    "        print(\"\\nMatrix B:\\n\", B)\n",
    "        print(\"\\nMatrix C:\\n\", C)\n",
    "        print(\"\\nMatrix D:\\n\", D)\n",
    "\n",
    "    # Convert A and B matrices to discrete time using zero-order hold\n",
    "    # Zero-order hold: assumes input is constant during time interval\n",
    "    # This is a reasonable assumption for our system\n",
    "    from scipy.signal import cont2discrete\n",
    "\n",
    "    d_system = cont2discrete((A, B, C, D), dt, method='zoh')\n",
    "\n",
    "    # Extract the discrete time A and B matrices\n",
    "    Ad = d_system[0]\n",
    "    Bd = d_system[1]\n",
    "    Cd = d_system[2]\n",
    "    Dd = d_system[3]\n",
    "\n",
    "    if verbose:\n",
    "        print(\"\\nDiscrete-time A matrix:\\n\", Ad)\n",
    "        print(\"\\nDiscrete-time B matrix:\\n\", Bd)\n",
    "        print(\"\\nDiscrete-time C matrix:\\n\", Cd)\n",
    "        print(\"\\nDiscrete-time D matrix:\\n\", Dd)\n",
    "\n",
    "    # Define time\n",
    "    t = np.arange(0, tend, dt)\n",
    "    n = len(t)\n",
    "\n",
    "    # Initialize state matrix\n",
    "    X = np.zeros((n, 4))\n",
    "\n",
    "    # Initialize input matrix\n",
    "    U = np.zeros((n, 2))\n",
    "\n",
    "    # Initialize setpoints\n",
    "    SP = np.zeros((n, 2))\n",
    "\n",
    "    # Loop over time steps\n",
    "    for i in range(n):\n",
    "        # Current state\n",
    "        x = X[i, :]\n",
    "\n",
    "        # Unpack into individual states\n",
    "        T1H, T1S, T2H, T2S = x\n",
    "\n",
    "        # Setpoints\n",
    "        sp1 = SP1(t[i])\n",
    "        sp2 = SP2(t[i])\n",
    "\n",
    "        # Temperature control\n",
    "        # Channel 1\n",
    "        # Hint: Write code below to set U[i,0]\n",
    "        # Look at the equations you wrote down for the relay controller\n",
    "        # Add your solution here\n",
    "        \n",
    "        # Channel 2\n",
    "        # Hint: Write code below to set U[i,1]\n",
    "        # Add your solution here\n",
    "\n",
    "        # Update state\n",
    "        if i < n-1:\n",
    "            # Do not update the state for the last time step\n",
    "            # We want to update U and SP for plotting\n",
    "            X[i + 1, :] = Ad @ x + Bd @ U[i, :]\n",
    "\n",
    "        # Save step points\n",
    "        SP[i, 0] = sp1\n",
    "        SP[i, 1] = sp2\n",
    "\n",
    "    # Shift states from deviation variables to absolute values\n",
    "    X += T_amb\n",
    "\n",
    "    # Create DataFrame\n",
    "    data = pd.DataFrame(X, columns=['T1H', 'T1S', 'T2H', 'T2S'])\n",
    "    data['Time'] = t\n",
    "    data['Q1'] = U[:, 0]\n",
    "    data['Q2'] = U[:, 1]\n",
    "    data['SP1'] = SP[:, 0]\n",
    "    data['SP2'] = SP[:, 1]\n",
    "\n",
    "    if plot:\n",
    "        plt.title('Channel 1, Simulated Relay Control with d={} (C)'.format(d))\n",
    "        plt.step(data['Time'], data['T1H'], label='T1H', linestyle='--')\n",
    "        plt.step(data['Time'], data['T1S'], label='T1S', linestyle='-')\n",
    "        plt.step(data['Time'], data['SP1'], label='SP1', linestyle='-.', color='black', alpha=0.5)\n",
    "        plt.ylabel('Temperature (C)')\n",
    "        plt.xlabel('Time (s)')\n",
    "        plt.legend()\n",
    "        plt.show()\n",
    "        \n",
    "        # Add code to plot Channel 2\n",
    "        # Add your solution here\n",
    "\n",
    "        plt.title('Heaters, Simulated Relay Control with d={} (C)'.format(d))\n",
    "        plt.step(data['Time'], data['Q1'], label='Q1')\n",
    "        plt.step(data['Time'], data['Q2'], label='Q2')\n",
    "        plt.xlabel('Time (s)')\n",
    "        plt.ylabel('Power Level (%)')\n",
    "        plt.legend()\n",
    "        plt.show()\n",
    "\n",
    "    return data\n"
   ]
  },
  {
   "cell_type": "markdown",
   "metadata": {},
   "source": [
    "### Simulate Controller with a Small Deadband Assuming No Cross Channel Interaction\n",
    "\n",
    "In Labs 1 and 2, we did not consider the second channel, so we do not have a good guess for the heat transfer rate between channels 1 and 2. To get started, lets assume there is NO heat transfer between channels, i.e., $U_c = 0$.\n"
   ]
  },
  {
   "cell_type": "code",
   "execution_count": null,
   "metadata": {},
   "outputs": [],
   "source": [
    "# Ua, Ub, Uc, CpH, CpS\n",
    "# Update these to match the parameters of your system (from Lab 2)\n",
    "tclab_parameters_no_interaction = [0.050, 0.099, 0, 7.399, 1.663]\n",
    "\n",
    "sim1 = tclab_simulate_relay(SP1_simple, SP2_simple, tclab_parameters_no_interaction, d=0.2)"
   ]
  },
  {
   "cell_type": "markdown",
   "metadata": {},
   "source": [
    "### Simulate Controller with a Small Deadband Assuming Small Cross Channel Interaction\n",
    "\n",
    "Next, let's repeat the simulation, but assume the heat transfer between channels is 50% the rate of each channel with the ambient, i.e., $U_c = 0.5 U_a$"
   ]
  },
  {
   "cell_type": "code",
   "execution_count": null,
   "metadata": {},
   "outputs": [],
   "source": [
    "tclab_parameters_with_interaction = tclab_parameters_no_interaction.copy()\n",
    "tclab_parameters_with_interaction[2] = tclab_parameters_with_interaction[0]*0.5\n",
    "\n",
    "sim2 = tclab_simulate_relay(SP1_simple, SP2_simple, tclab_parameters_with_interaction, d=0.2)"
   ]
  },
  {
   "cell_type": "markdown",
   "metadata": {},
   "source": [
    "### Simulate the Controller with a Large Deadband and No Cross Channel Interaction\n",
    "\n",
    "Now, let's consider a larger deadband with $U_c = 0$."
   ]
  },
  {
   "cell_type": "code",
   "execution_count": null,
   "metadata": {},
   "outputs": [],
   "source": [
    "sim3 = tclab_simulate_relay(SP1_simple, SP2_simple, tclab_parameters_no_interaction, d=2)"
   ]
  },
  {
   "cell_type": "markdown",
   "metadata": {},
   "source": [
    "### Simulate the Controller with a Large Deadband and Modest Cross Channel Interaction\n",
    "\n",
    "Finally, consider a larger deadband and $U_c = 0.5 U_a$."
   ]
  },
  {
   "cell_type": "code",
   "execution_count": null,
   "metadata": {},
   "outputs": [],
   "source": [
    "sim4 = tclab_simulate_relay(SP1_simple, SP2_simple, tclab_parameters_with_interaction, d=2)"
   ]
  },
  {
   "cell_type": "code",
   "execution_count": null,
   "metadata": {},
   "outputs": [],
   "source": [
    "# Optional extra code cell\n",
    "# Please delete this cell if you do not use it\n",
    "\n",
    "# Add your solution here"
   ]
  },
  {
   "cell_type": "markdown",
   "metadata": {},
   "source": [
    "### Discussion"
   ]
  },
  {
   "cell_type": "markdown",
   "metadata": {},
   "source": [
    "Write a few observations about your simulation results. (Recommendation: Write 3 to 5 bullet points where each bullet point is one idea, expressed in one or two sentences.)\n",
    "\n",
    "*Answer*: "
   ]
  },
  {
   "cell_type": "markdown",
   "metadata": {},
   "source": [
    "### Discussion"
   ]
  },
  {
   "cell_type": "markdown",
   "metadata": {},
   "source": [
    "Write a few observations about your simulation results. (Recommendation: Write 3 to 5 bullet points where each bullet point is one idea, expressed in one or two sentences.)\n",
    "\n",
    "*Answer*: "
   ]
  },
  {
   "cell_type": "markdown",
   "metadata": {},
   "source": [
    "## Exercise 1. Simple Relay Control for TC Lab\n"
   ]
  },
  {
   "cell_type": "markdown",
   "metadata": {},
   "source": [
    "Create a relay controller subject to the following requirements:\n",
    "\n",
    "* Simultaneous control of sensor temperatures $T_1$ and $T_2$ to setpoints 35 and 40 &deg;C, respectively. The setpoints return to 25 &deg;C at  t = 300.\n",
    "* Use a tolerance value $d$ of 0.5 &deg;C.\n",
    "* Set the minimum and maximum values of the heater to 0 and 100%, respectively.\n",
    "* Set 'lab.P1' and 'lab.P2' to 200 to be consistent with prior labs.\n",
    "* Run the experiment for at least 500 seconds.\n",
    "* Show the results of an experiment in which the setpoints are adjusted accordingly. "
   ]
  },
  {
   "cell_type": "markdown",
   "metadata": {},
   "source": [
    "### Debug Your Implementation with the TCLab Digital Twin\n",
    "\n",
    "The `tclab` library includes a simulation-mode/digital twin. This allows you to debug your controller code BEFORE using your hardware. This is really helpful as the digital twin does not require anytime to cool down.\n",
    "\n",
    "Here is the code to use the digital twin:\n",
    "\n",
    "```\n",
    "TCLab = setup(connected=False, speedup=5)\n",
    "```\n",
    "\n",
    "Setting `connected=False` enables the simulation-mode (a.k.a., digital twin). When `connected=False`, you can also use the `speedup` argument to speed-up the simulation. Again, this is super helpful for debugging your code.\n",
    "\n",
    "*With great power comes great responsibility.* While the digital twin mode is incredibly helpful, it is very easy to forget to set `connected=True` again before running the actual experiments in the lab. In later Exercises, you **must** run the experiments on your TCLab hardware. It is important you tripple check `connected=True`.\n",
    "\n",
    "Below is some starter code."
   ]
  },
  {
   "cell_type": "markdown",
   "metadata": {},
   "source": [
    "### Debug Your Implementation with the TCLab Digital Twin\n",
    "\n",
    "The `tclab` library includes a simulation-mode/digital twin. This allows you to debug your controller code BEFORE using your hardware. This is really helpful as the digital twin does not require anytime to cool down.\n",
    "\n",
    "Here is the code to use the digital twin:\n",
    "\n",
    "```\n",
    "TCLab = setup(connected=False, speedup=5)\n",
    "```\n",
    "\n",
    "Setting `connected=False` enables the simulation-mode (a.k.a., digital twin). When `connected=False`, you can also use the `speedup` argument to speed-up the simulation. Again, this is super helpful for debugging your code.\n",
    "\n",
    "*With great power comes great responsibility.* While the digital twin mode is increadibly helpful, it is very easy to forget to set `connected=True` again before running the actual experiments in the lab. In later Exercises, you **must** run the experiments on your TCLab hardware. It is important you tripple check `connected=True`.\n",
    "\n",
    "Below is some starter code."
   ]
  },
  {
   "cell_type": "code",
   "execution_count": null,
   "metadata": {},
   "outputs": [],
   "source": [
    "# As a first step, let's verify the sample code runs\n",
    "\n",
    "from tclab import TCLab, clock, Historian, Plotter, setup\n",
    "\n",
    "''' Important note about the 'setup' function:\n",
    "connected=False is used for the simulation.\n",
    "connected=True is used to connect to the real device.\n",
    "speedup=5 can be used to run the simulation at 5x real time.\n",
    "'''\n",
    "TCLab = setup(connected=False, speedup=5)\n",
    "\n",
    "# relay controller\n",
    "def relay(SP, d=1, Umin=0, Umax=100):\n",
    "    \"\"\"Relay controller definition\n",
    "    Arguments:\n",
    "        SP: set point function\n",
    "        d: set point tolerance\n",
    "        Umin: minimum heater output (%) \n",
    "        Umax: maximum heater output (%)\n",
    "    Returns:\n",
    "        none\n",
    "    \"\"\"\n",
    "    #start with the heater off\n",
    "    U = 0\n",
    "    #while the simulation is active (t<tfinal)\n",
    "    while True:\n",
    "        t, T = yield U\n",
    "        #When T is below the set point, turn on heater\n",
    "        if T < SP(t) - d/2:\n",
    "            U = Umax\n",
    "        #When T is above the set point, turn off heater\n",
    "        if T > SP(t) + d/2:\n",
    "            U = Umin\n",
    "\n",
    "# create a single control loop for T1\n",
    "controller1 = relay(SP1_simple)\n",
    "controller1.send(None)\n",
    "\n",
    "# This started code only implements a controller for T1\n",
    "# What do you need to change to implement a controller for T2 too?\n",
    "\n",
    "#simulate with TCLab\n",
    "t_final = 60 # change this to 500 seconds for the actual experiment\n",
    "t_step = 1\n",
    "with TCLab() as lab:\n",
    "    sources = [(\"T1\", lambda: lab.T1), (\"T2\", lambda: lab.T2),\n",
    "               (\"SP1\", lambda: SP1_simple(t)), (\"SP2\", lambda: SP2_simple(t)),\n",
    "               (\"Q1\", lab.Q1), (\"Q2\", lab.Q2)]\n",
    "    #load historian\n",
    "    h = Historian(sources)\n",
    "    #load plotter\n",
    "    p = Plotter(h, t_final, layout=((\"T1\", \"SP1\"), (\"T2\", \"SP2\"), (\"Q1\", \"Q2\")))\n",
    "    #While time is less than tfinal\n",
    "    for t in clock(t_final, t_step):\n",
    "        ## Controller for T1\n",
    "        # This starter code only manipulates U1 to control T1.\n",
    "        # Your specifications also give a setpoint for T2\n",
    "        T1 = lab.T1\n",
    "        # Send the controller time and T1 data\n",
    "        U1 = controller1.send([t, T1])\n",
    "        lab.Q1(U1)\n",
    "\n",
    "        ## Controller for T2\n",
    "        # What do you need to change to implement a controller for T2 too?\n",
    "\n",
    "        ## Read data and update plot\n",
    "        p.update()\n"
   ]
  },
  {
   "cell_type": "markdown",
   "metadata": {},
   "source": [
    "### Verify your Device is at Ambient Temperature"
   ]
  },
  {
   "cell_type": "code",
   "execution_count": null,
   "metadata": {},
   "outputs": [],
   "source": [
    "# Verify your device has cooled back to ambient\n",
    "tfinal = 30 #seconds\n",
    "\n",
    "run_tclab = True\n",
    "\n",
    "\"\"\"\n",
    "In the labs, we will us \"run_tclab\" to control whether the TCLab is used.\n",
    "After you finish the lab experiment, set run_tclab = False.\n",
    "This way, you can run all the cells without losing your TCLab output.\n",
    "\"\"\"\n",
    "\n",
    "if run_tclab:\n",
    "\n",
    "    # Connect to the TCLab device (not digital twin)\n",
    "    # This should be connected=True\n",
    "    TCLab = setup(connected=True)\n",
    "\n",
    "    # perform experiment\n",
    "    with TCLab() as lab:\n",
    "        #Set power to 0\n",
    "        lab.U1 = 0\n",
    "        lab.U2 = 0\n",
    "        #load historian \n",
    "        h = Historian(lab.sources)\n",
    "        #Load plotter\n",
    "        p = Plotter(h, tfinal)\n",
    "        #While time is less than tfinal\n",
    "        for t in clock(tfinal):\n",
    "            #Read data and update plot\n",
    "            p.update(t)"
   ]
  },
  {
   "cell_type": "code",
   "execution_count": null,
   "metadata": {},
   "outputs": [],
   "source": [
    "# Copy the code you implemented and debugged above\n",
    "import os.path\n",
    "\n",
    "data_file_simple = 'lab3-simple-relay.csv'\n",
    "\n",
    "def save_data(history, data_file, overwrite_file=False):\n",
    "    ''' Save the data to a csv file\n",
    "    Arguments:\n",
    "        history: dataframe with data\n",
    "        data_file: filename to save data\n",
    "        overwrite_file: boolean to overwrite file, default is False to prevent accidental overwriting\n",
    "    '''\n",
    "\n",
    "    if not overwrite_file and os.path.isfile('./'+data_file):\n",
    "        raise FileExistsError(data_file + ' already exisits. Either choose a new filename or set overwrite_file = True.')\n",
    "    else:\n",
    "        history.to_csv(data_file)\n",
    "        print(\"Successfully saved data to \"+data_file)\n",
    "\n",
    "if run_tclab:\n",
    "\n",
    "    # Connect to the TCLab device (not digital twin)\n",
    "    # This should be connected=True\n",
    "    TCLab = setup(connected=True)\n",
    "\n",
    "\n",
    "    # Add your solution here\n",
    "\n",
    "    save_data(h, data_file_simple, overwrite_file=False)\n",
    "    "
   ]
  },
  {
   "cell_type": "markdown",
   "metadata": {},
   "source": [
    "### Discussion\n",
    "\n",
    "Write a 1 to 3 sentences to answer each of the following questions."
   ]
  },
  {
   "cell_type": "markdown",
   "metadata": {},
   "source": [
    "**Q1** Describe the shape of the temperature profiles (time-series) for the exercise 1 experiment. Are these shapes expected?\n",
    "\n",
    "*Answer*: \n",
    "\n",
    "**Q2** Speculate about why T1 overshoots the setpoint more than T2 in the exercise 1 experiment.\n",
    "\n",
    "*Answer*: "
   ]
  },
  {
   "cell_type": "markdown",
   "metadata": {},
   "source": [
    "## Exercise 2. Tempering Chocolate\n",
    "\n",
    "We now want to create a relay controller that matches the temperature profile for tempering chocolate.\n",
    "\n",
    "![](https://d29hmqxeker05q.cloudfront.net/eyJidWNrZXQiOiJpbWFnZXMuY2tiay5jb20iLCJrZXkiOiJpbWFnZXMvY2hvYzI0NDE0YzA0czAwMXNzMDAxc3NzMDA0ZzAxLmpwZyIsImVkaXRzIjp7InJlc2l6ZSI6eyJ3aXRob3V0RW5sYXJnZW1lbnQiOnRydWUsIndpZHRoIjo2NTEsImhlaWdodCI6NTAwLCJmaXQiOiJpbnNpZGUifSwianBlZyI6eyJxdWFsaXR5Ijo5MCwicHJvZ3Jlc3NpdmUiOnRydWV9fX0=)\n",
    "\n",
    "Temperature 1 specifications:\n",
    "* Start from ambient.\n",
    "* Reach 50 &deg;C at 3 minutes, 27 &deg;C at 7 minutes, return to 32 &deg;C at 8 minutes, and hold until 10 minutes. \n",
    "* The goal is follow the linear ramp between setpoints as closely as possible.\n",
    "\n",
    "Temperature 2 specifications:\n",
    "* Start from ambient, ramp, and then hold at 30 &deg;C.\n",
    "\n",
    "Hints:\n",
    "* Modify SP1 to [linearly interpolate](https://numpy.org/doc/stable/reference/generated/numpy.interp.html) the set point as a function of time."
   ]
  },
  {
   "cell_type": "markdown",
   "metadata": {},
   "source": [
    "### Plot the Described Temperature Profile"
   ]
  },
  {
   "cell_type": "code",
   "execution_count": null,
   "metadata": {},
   "outputs": [],
   "source": [
    "# Complete these function to define the setpoints for T1 and T2\n",
    "def SP1_chocolate(t):\n",
    "    \"\"\"Set point definition for T1\n",
    "    Arguments:\n",
    "        t: time (s)\n",
    "    Returns:\n",
    "        set point of T1\n",
    "    \"\"\"\n",
    "    # Add your solution here\n",
    "\n",
    "def SP2_chocolate(t):\n",
    "    \"\"\"Set point definition for T2\n",
    "    Arguments:\n",
    "        t: time (s)\n",
    "    Returns:\n",
    "        set point of T2\n",
    "    \"\"\"\n",
    "    # Add your solution here\n",
    "\n",
    "# Make a plot of the setpoints to verify your setpoint functions\n",
    "# are correct.\n",
    "\n",
    "# Add your solution here"
   ]
  },
  {
   "cell_type": "markdown",
   "metadata": {},
   "source": [
    "### Simulate the Chocolate Tempering Experiment\n",
    "\n",
    "One great way to test your setpoint functions is to simulate the response of the relay controller."
   ]
  },
  {
   "cell_type": "code",
   "execution_count": null,
   "metadata": {},
   "outputs": [],
   "source": [
    "sim5 = tclab_simulate_relay(SP1_chocolate, SP2_chocolate, tclab_parameters_with_interaction, d=0.2)"
   ]
  },
  {
   "cell_type": "markdown",
   "metadata": {},
   "source": [
    "Using this simulation, adjust $d$ via trial-and-error. Choose a value of $d$ and write a sentence or two to justify your choice. We care less about the value of $d$ you select and more on your *justification* for the choice. This is an open ended question with many reasonable answers."
   ]
  },
  {
   "cell_type": "markdown",
   "metadata": {},
   "source": [
    "*Answer*: "
   ]
  },
  {
   "cell_type": "markdown",
   "metadata": {},
   "source": [
    "### Verify TCLab is at Ambient Temperature"
   ]
  },
  {
   "cell_type": "code",
   "execution_count": null,
   "metadata": {},
   "outputs": [],
   "source": [
    "if run_tclab:\n",
    "\n",
    "    # Connect to the TCLab device (not digital twin)\n",
    "    # This should be connected=True\n",
    "    TCLab = setup(connected=True)\n",
    "\n",
    "    # Add your solution here"
   ]
  },
  {
   "cell_type": "markdown",
   "metadata": {},
   "source": [
    "### Perform Experiment with TCLab Hardware\n",
    "\n",
    "Please use the value for $d$ you identified above using the simulation."
   ]
  },
  {
   "cell_type": "code",
   "execution_count": null,
   "metadata": {},
   "outputs": [],
   "source": [
    "# Copy your code from above and modify to match the specifications\n",
    "\n",
    "data_file_chocolate = 'lab3-chocolate-relay.csv'\n",
    "\n",
    "if run_tclab:\n",
    "    # You may optionally set connected=False to debug your code\n",
    "    # If you do, you MUST set it back to connected=True before running the experiment\n",
    "    # You should also rerun the code block above to verify your TCLab is at ambient temperature\n",
    "    # BEFORE running this experiment\n",
    "    TCLab = setup(connected=True)\n",
    "\n",
    "    # One of the most common mistakes is NOT using the correct\n",
    "    # setpoint functions if you copy and paste code from above.\n",
    "\n",
    "    # Add your solution here\n",
    "\n",
    "    save_data(h, data_file_chocolate, overwrite_file=True)"
   ]
  },
  {
   "cell_type": "markdown",
   "metadata": {},
   "source": [
    "### Discussion"
   ]
  },
  {
   "cell_type": "markdown",
   "metadata": {},
   "source": [
    "In the cholcate tempering simulation, how many times does each heater transitions from (a) one to off and (b) off to on? Fill in the table below.\n",
    "\n",
    "| Sensor | On to Off | Off to On |\n",
    "| ------ | --------- | --------- |\n",
    "| T1     |           |          |\n",
    "| T2     |           |          |\n",
    "\n",
    "*Answer*: "
   ]
  },
  {
   "cell_type": "markdown",
   "metadata": {},
   "source": [
    "Descibe the shape of the T1 and T2 timeseries for the excerise 2 experiment. How do the T1 and T2 profiles relate to the on/off and off/on transitions for Q1 and Q2?\n",
    "\n",
    "*Answer*: "
   ]
  },
  {
   "cell_type": "markdown",
   "metadata": {},
   "source": [
    "## Exercise 3. Quantify Tracking Error"
   ]
  },
  {
   "cell_type": "markdown",
   "metadata": {},
   "source": [
    "In this exercise, you will compare compute the error between the desired setpoint and the temperature sensor. We will use two metrics: root mean squared error (RMSE) and absolute mean error (AME):\n",
    "\n",
    "\\begin{equation*}\n",
    "RMSE = \\sqrt{\\sum_t \\left(T_{S}(t) - SP(t)\\right)^2}\n",
    "\\end{equation*}\n",
    "\n",
    "\\begin{equation*}\n",
    "AME = \\sum_t | T_{S}(t) - SP(t) |\n",
    "\\end{equation*}"
   ]
  },
  {
   "cell_type": "markdown",
   "metadata": {},
   "source": [
    "### Create a Function to Quantify Controller Performance\n",
    "\n",
    "We will start by writing a general function that computer both tracking error metrics used save data and the setpoint function(s)."
   ]
  },
  {
   "cell_type": "code",
   "execution_count": null,
   "metadata": {},
   "outputs": [],
   "source": [
    "def compute_tracking_error(data, SP1, SP2=None):\n",
    "    ''' Compute the tracking error between the set point and the data\n",
    "    \n",
    "    Arguments:\n",
    "        data: dataframe with columns for T1 and T2\n",
    "        SP1: function that returns setpoint for T1\n",
    "        SP2: function that returns setpoint for T2, default None\n",
    "\n",
    "    Returns:\n",
    "        rmse1: root mean square error for T1\n",
    "        rmse2: root mean square error for T2\n",
    "        ame1: absolute mean error for T1\n",
    "        ame2: absolute mean error for T2\n",
    "    '''\n",
    "\n",
    "    # Grab the time data\n",
    "    if 'Time' in data.columns:\n",
    "        # if 'Time' is one of the columns\n",
    "        t = data['Time'].to_numpy()\n",
    "    else:\n",
    "        # otherwise, use the index\n",
    "        t = data.index.to_numpy()\n",
    "\n",
    "    if 'T1' in data.columns:\n",
    "        # for TCLab data, 'T1' is the column name\n",
    "        T1_name = 'T1'\n",
    "    elif 'T1S' in data.columns:\n",
    "        # for our simulation, 'T1S' is the column name\n",
    "        T1_name = 'T1S'\n",
    "    else:\n",
    "        raise ValueError('T1 data not found. Here are the column names: ' + str(data.columns))\n",
    "\n",
    "    if 'T2' in data.columns:\n",
    "        # for TCLab data, 'T2' is the column name\n",
    "        T2_name = 'T2'\n",
    "    elif 'T2S' in data.columns:\n",
    "        # for our simulation, 'T2S' is the column name\n",
    "        T2_name = 'T2S'\n",
    "    else:\n",
    "        T2_name = None\n",
    "\n",
    "    # Add your solution here\n",
    "\n",
    "    print('RMSE T1:\\t',round(rmse1,2), 'C')\n",
    "    print('AME T1: \\t',round(ame1,2), 'C')\n",
    "    if rmse2 is not None:\n",
    "        print('RMSE T2:\\t',round(rmse2,2), 'C')\n",
    "    if ame2 is not None:\n",
    "        print('AME T2: \\t',round(ame2,2), 'C')\n",
    "    \n",
    "    return rmse1, rmse2, ame1, ame2\n",
    "    "
   ]
  },
  {
   "cell_type": "markdown",
   "metadata": {},
   "source": [
    "### Performance of TCLab Device for Simple Experiment"
   ]
  },
  {
   "cell_type": "markdown",
   "metadata": {},
   "source": [
    "Next, use your function to analyze the simple experiment."
   ]
  },
  {
   "cell_type": "code",
   "execution_count": null,
   "metadata": {},
   "outputs": [],
   "source": [
    "# Add your solution here"
   ]
  },
  {
   "cell_type": "markdown",
   "metadata": {},
   "source": [
    "### Performance of the Simulated Controller for the Simple Experiment\n",
    "\n",
    "Choose one of the simulation results from Exercise 0 and compute the performance."
   ]
  },
  {
   "cell_type": "code",
   "execution_count": null,
   "metadata": {},
   "outputs": [],
   "source": [
    "# Add your solution here"
   ]
  },
  {
   "cell_type": "markdown",
   "metadata": {},
   "source": [
    "### Performance of TCLab Device for Chocolate Experiment"
   ]
  },
  {
   "cell_type": "markdown",
   "metadata": {},
   "source": [
    "Next, analyze the chocolate tempering experiment."
   ]
  },
  {
   "cell_type": "code",
   "execution_count": null,
   "metadata": {},
   "outputs": [],
   "source": [
    "# Add your solution here"
   ]
  },
  {
   "cell_type": "markdown",
   "metadata": {},
   "source": [
    "### Performance of the Simulated Controller for the Chocolate Experiment\n",
    "\n",
    "Finally, analyze the simulation for the chocolate experiment."
   ]
  },
  {
   "cell_type": "code",
   "execution_count": null,
   "metadata": {},
   "outputs": [],
   "source": [
    "# Add your solution here"
   ]
  },
  {
   "cell_type": "markdown",
   "metadata": {},
   "source": [
    "### Summary\n",
    "\n",
    "Complete the following table to summarize your results.\n",
    "\n",
    "| Experiment | Mode| RMSE T1 | AME T1 | RMSE T2 | AME T2 |\n",
    "| ------ | --------- | --------- | --------- | --------- | --------- |\n",
    "| Simple     | Hardware          |          | | | |\n",
    "| Simple     | Simulate          |          | | | |\n",
    "| Chocolate     | Hardware          |          | | | |\n",
    "| Chocolate     | Simulate          |          | | | |"
   ]
  },
  {
   "cell_type": "markdown",
   "metadata": {},
   "source": [
    "## Concluding Discussion\n",
    "\n",
    "The following questions tie together the Exercises throughout the lab. Please write 1 to 3 sentences per prompt."
   ]
  },
  {
   "cell_type": "markdown",
   "metadata": {},
   "source": [
    "**Q1** How can we reduce the oscillations in these experiments? Propose at least one idea and provide reasoning for why it could work.\n",
    "\n",
    "*Answer*: \n",
    "\n",
    "Consider the following feedback diagram from the first day of class:\n",
    "\n",
    "![](https://ndcbe.github.io/controls/_images/FeedbackControlDiagram.png)\n",
    "\n",
    "Identify the variables in each of the categories for our temperature control lab.\n",
    "\n",
    "**Maninpulated Variable(s)**:\n",
    "\n",
    "*Answer*: \n",
    "\n",
    "**Controlled Variable(s)**:\n",
    "\n",
    "*Answer*: \n",
    "\n",
    "\n",
    "**Process/Measured Variable(s)**:\n",
    "\n",
    "*Answer*: \n",
    "\n",
    "\n",
    "**Set Point Variable(s)**:\n",
    "\n",
    "*Answer*: \n",
    "\n",
    "**Disturbance Variable(s)**:\n",
    "\n",
    "*Answer*: \n",
    "\n"
   ]
  },
  {
   "cell_type": "markdown",
   "metadata": {},
   "source": [
    "### Bonus Exercise (Extra Credit)\n",
    "\n",
    "Using your code from Lab 2 as a starting point, re-estimate the parameters in the four-state TCLab model ($T_S$ and $T_H$ for both channels). Perform simultaneous nonlinear regression with four datasets:\n",
    "* Step test (Lab 1)\n",
    "* Sine test (Lab 2)\n",
    "* Simple Relay On/Off Experiment (Lab 3)\n",
    "* Chocolate Tempering Relay On/Off Experiment (Lab 3)\n",
    "\n",
    "You should start by deriving the four state model on paper. You may need to perform multi-start initialization. Include time-series plots, analysis of the residuals, and quantification of uncertainty, similar to Lab 2. How much did your parameter estimates change compared to Lab 2? How much did the parameter uncertainty decrease (or increase)? Do the results make sense and why?\n",
    "\n"
   ]
  },
  {
   "cell_type": "code",
   "execution_count": null,
   "metadata": {},
   "outputs": [],
   "source": [
    "# Add your solution here\n",
    "        return [dT1H, dT1S, dT2H, dT2S]\n",
    "\n",
    "    soln = solve_ivp(deriv, [min(t_expt), max(t_expt)], [T_amb, T_amb], t_eval=t_expt)\n",
    "\n",
    "    T1H = soln.y[0]\n",
    "    T1S = soln.y[1]\n",
    "    T2H = soln.y[2]\n",
    "    T2S = soln.y[3]\n",
    "\n",
    "    if plot:\n",
    "        # Plot the temperature data and heat power\n",
    "        plt.figure()\n",
    "        plt.subplot(2,1,1)\n",
    "        plt.plot(t_expt, data['T1'], 'ro', label='Measured $T_S$')\n",
    "        plt.plot(t_expt, T1S, 'b-', label='Predicted $T_{S1}$')\n",
    "        plt.plot(t_expt, T1H, 'g-', label='Predicted $T_{H1}$')\n",
    "        plt.plot(t_expt, T2S, 'r-', label='Predicted $T_{S2}$')\n",
    "        plt.plot(t_expt, T2H, 'p-', label='Predicted $T_{H2}$')\n",
    "        plt.ylabel('Temperature (degC)')\n",
    "        plt.legend()\n",
    "        plt.subplot(2,1,2)\n",
    "        plt.plot(t_expt, data['Q1'], 'g-', label='Heater 1')\n",
    "        plt.plot(t_expt, data['Q2'], 'p-', label='Heater 2')\n",
    "        plt.ylabel('Heater (%)')\n",
    "        plt.legend()\n",
    "        plt.xlabel('Time (sec)')\n",
    "        plt.title(plot_title)\n",
    "        plt.tight_layout()\n",
    "        plt.show()\n",
    "\n",
    "    return TS\n",
    "\n",
    "# Test your function with the data and initial parameters\n",
    "TS = tclab_model4(data, [0.1, 0.2, 4, 0.1], plot=True)\n",
    "\n",
    "### END SOLUTION"
   ]
  },
  {
   "cell_type": "markdown",
   "metadata": {},
   "source": [
    "## Common Mistakes"
   ]
  },
  {
   "cell_type": "markdown",
   "metadata": {},
   "source": [
    "1. Not using the correct kernel (for the controls environment with TCLab installed)\n",
    "\n",
    "2. Not setting up controller #2 (This includes assigning T2 and Q2 in the simulation code)\n",
    "\n",
    "3. When switching to `connected=True` most got errors if they did not restart the kernel and clear all the cells output\n",
    "\n",
    "4. Trying to create their own linear interpolation function, just use `np.interp`"
   ]
  },
  {
   "cell_type": "markdown",
   "metadata": {},
   "source": [
    "## Declarations\n",
    "\n",
    "**TCLab Hardware:** Did you use the *same* TCLab device for Labs 1, 2, and 3? If not, please provide details here. These labs are designed to use the same hardware throughout the semester. Please keep this in mind as you answer the discussion questions, especially when comparing the simulated to actual performance.\n",
    "\n",
    "**Collaboration**: If you worked with any classmates, please give their names here. Describe the nature of the collaboration.\n",
    "\n",
    "**Generative AI**: If you used any Generative AI tools, please elaborate here.\n",
    "\n",
    "**Reminder:** The written discussions responses must be in your own words. Many of these questions ask about your specific results or are open-ended questions with many reasonable answers. Thus we expect unique responses, analyses, and ideas.\n",
    "\n",
    "We may use writing analysis software to check for overly similar written responses. You are responsible for reviewing the colaboration policy outlined in the class syllabus to avoid violations of the honor code."
   ]
  },
  {
   "cell_type": "markdown",
   "metadata": {},
   "source": []
  }
 ],
 "metadata": {
  "kernelspec": {
   "display_name": "controls2",
   "language": "python",
   "name": "python3"
  },
  "language_info": {
   "codemirror_mode": {
    "name": "ipython",
    "version": 3
   },
   "file_extension": ".py",
   "mimetype": "text/x-python",
   "name": "python",
   "nbconvert_exporter": "python",
   "pygments_lexer": "ipython3",
   "version": "3.10.15"
  },
  "nbdime-conflicts": {
   "local_diff": [
    {
     "diff": [
      {
       "diff": [
        {
         "diff": [
          {
           "key": 6,
           "op": "addrange",
           "valuelist": "6"
          },
          {
           "key": 6,
           "length": 1,
           "op": "removerange"
          }
         ],
         "key": 0,
         "op": "patch"
        }
       ],
       "key": "version",
       "op": "patch"
      }
     ],
     "key": "language_info",
     "op": "patch"
    }
   ],
   "remote_diff": [
    {
     "diff": [
      {
       "diff": [
        {
         "diff": [
          {
           "key": 6,
           "op": "addrange",
           "valuelist": "5"
          },
          {
           "key": 6,
           "length": 1,
           "op": "removerange"
          }
         ],
         "key": 0,
         "op": "patch"
        }
       ],
       "key": "version",
       "op": "patch"
      }
     ],
     "key": "language_info",
     "op": "patch"
    }
   ]
  }
 },
 "nbformat": 4,
 "nbformat_minor": 4
}
