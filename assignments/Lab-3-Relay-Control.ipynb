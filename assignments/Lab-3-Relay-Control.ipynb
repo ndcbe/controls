{
 "cells": [
  {
   "cell_type": "markdown",
   "metadata": {},
   "source": [
    "# Lab 3: Relay (On-Off) Control\n",
    "\n",
    "\n",
    "\n",
    "*Your Name:* \n",
    "\n",
    "In this lab assignment you will implement [relay control](https://ndcbe.github.io/controls/notebooks/03.04-Relay-Control.html) for the Temperature Control Laboratory. The [class website](https://ndcbe.github.io/controls/notebooks/03.05-Implementing-Controllers.html) explains the Python interface to the TCLab in more detail. Your main tasks are:\n",
    "1. Use numerical simulation to tune your controller (Exercise 0)\n",
    "2. Implement and test a relay control for the heater/sensor system\n",
    "3. Implement and test a relay control to track a complex setpoint (dark chocolate tempering)"
   ]
  },
  {
   "cell_type": "markdown",
   "metadata": {},
   "source": [
    "## Spring 2025 TODO List\n",
    "* Add numeric simulation of dark chocolate tempering\n",
    "* Save all results to csv files\n",
    "* Add code to calculate the average absolute tracking error and root mean squared tracking error for the simulations and two exercises"
   ]
  },
  {
   "cell_type": "markdown",
   "metadata": {},
   "source": [
    "## Excercise 0. Simulation\n",
    "\n",
    "This exercise is due BEFORE the start of lab. It is a pre-lab assignment. Your task:\n",
    "* Read the entire lab assigment. If you have a question, post to Canvas.\n",
    "* Create a plot showing the setpoints described in Excercise 1.\n",
    "* On paper (or a tablet), write down the system of differential equations for the TCLab with the simple relay controller described in Exercise 1. Include in your model the intial conditions for each state. For simplity, you can set the deadband to zero, i.e., $d=0$. This makes it easier to use `solve_ivp`.\n",
    "* Hint: You can assume your two TCLab channels are identical and there is no interaction between the channels. It will be an imperfect model, but you have enough information to build it. Here are some [ideas from a legacy page on the class website](https://ndcbe.github.io/controls/tclab/03.06-Four-State-Model.html).\n",
    "* Using Python, numerically simulate the system of differential equations. Use the TCLab model parameters you estimated in Lab 2 for your personal TCLab hardware."
   ]
  },
  {
   "cell_type": "code",
   "execution_count": null,
   "metadata": {},
   "outputs": [],
   "source": [
    "### Create a plot showing the setpoints described in Exercise 1\n",
    "\n",
    "# modify these setpoints to change with time\n",
    "def SP1_simple(t):\n",
    "    \"\"\"Set point definition for T1\n",
    "    Arguments:\n",
    "        t: time (s)\n",
    "    Returns:\n",
    "        set point of T1\n",
    "    \"\"\"\n",
    "    return 40\n",
    "\n",
    "def SP2_simple(t):\n",
    "    \"\"\"Set point definition for T2\n",
    "    Arguments:\n",
    "        t: time (s)\n",
    "    Returns:\n",
    "        set point of T2\n",
    "    \"\"\"\n",
    "    return 35\n",
    "\n",
    "# Add your solution here\n",
    "\n",
    "import matplotlib.pyplot as plt\n",
    "import numpy as np\n",
    "\n",
    "# Add your solution here"
   ]
  },
  {
   "cell_type": "code",
   "execution_count": null,
   "metadata": {},
   "outputs": [],
   "source": [
    "### Simulate differential equations for the TCLab system plus relay controller\n",
    "\n",
    "# Add your solution here"
   ]
  },
  {
   "cell_type": "markdown",
   "metadata": {},
   "source": [
    "Write a few observations about your simulation result. (Recommendation: Write 3 to 5 bullet points where each bullet point is one idea, expressed in one or two sentences.)\n",
    "\n",
    "*Answer*: "
   ]
  },
  {
   "cell_type": "markdown",
   "metadata": {},
   "source": [
    "## Exercise 1. Simple Relay Control for TC Lab\n"
   ]
  },
  {
   "cell_type": "markdown",
   "metadata": {},
   "source": [
    "Create a relay controller subject to the following requirements:\n",
    "\n",
    "* Simultaneous control of sensor temperatures $T_1$ and $T_2$ to setpoints 35 and 40 &deg;C, respectively. The setpoints return to 25 &deg;C at  t = 300.\n",
    "* Use a tolerance value $d$ of 0.5 &deg;C.\n",
    "* Set the minimum and maximum values of the heater to 0 and 100%, respectively.\n",
    "* Set 'lab.P1' and 'lab.P2' to 200 to be consistent with prior labs.\n",
    "* Run the experiment for at least 500 seconds.\n",
    "* Show the results of an experiment in which the setpoints are adjusted accordingly. "
   ]
  },
  {
   "cell_type": "markdown",
   "metadata": {},
   "source": [
    "### Debug Your Implementation with the TCLab Digital Twin\n",
    "\n",
    "The `tclab` library includes a simulation-mode/digital twin. This allows you to debug your controller code BEFORE using your hardware. This is really helpful as the digital twin does not require anytime to cool down.\n",
    "\n",
    "Here is the code to use the digital twin:\n",
    "\n",
    "```\n",
    "TCLab = setup(connected=False, speedup=5)\n",
    "```\n",
    "\n",
    "Setting `connected=False` enables the simulation-mode (a.k.a., digital twin). When `connected=False`, you can also use the `speedup` argument to speed-up the simulation. Again, this is super helpful for debugging your code.\n",
    "\n",
    "*With great power comes great responsibility.* While the digital twin mode is increadibly helpful, it is very easy to forget to set `connected=True` again before running the actual experiments in the lab. In later Exercises, you **must** run the experiments on your TCLab hardware. It is important you tripple check `connected=True`.\n",
    "\n",
    "Below is some starter code."
   ]
  },
  {
   "cell_type": "code",
   "execution_count": null,
   "metadata": {},
   "outputs": [],
   "source": [
    "# As a first step, let's verify the sample code runs\n",
    "\n",
    "from tclab import TCLab, clock, Historian, Plotter, setup\n",
    "\n",
    "''' Important note about the 'setup' function:\n",
    "connected=False is used for the simulation.\n",
    "connected=True is used to connect to the real device.\n",
    "speedup=5 can be used to run the simulation at 5x real time.\n",
    "'''\n",
    "TCLab = setup(connected=False, speedup=5)\n",
    "\n",
    "\n",
    "# relay controller\n",
    "def relay(SP, d=1, Umin=0, Umax=100):\n",
    "    \"\"\"Relay controller definition\n",
    "    Arguments:\n",
    "        SP: set point function\n",
    "        d: set point tolerance\n",
    "        Umin: minimum heater output (%) \n",
    "        Umax: maximum heater output (%)\n",
    "    Returns:\n",
    "        none\n",
    "    \"\"\"\n",
    "    #start with the heater off\n",
    "    U = 0\n",
    "    #while the simulation is active (t<tfinal)\n",
    "    while True:\n",
    "        t, T = yield U\n",
    "        #When T is below the set point, turn on heater\n",
    "        if T < SP(t) - d/2:\n",
    "            U = Umax\n",
    "        #When T is above the set point, turn off heater\n",
    "        if T > SP(t) + d/2:\n",
    "            U = Umin\n",
    "\n",
    "# create a single control loop for T1\n",
    "controller1 = relay(SP1_simple)\n",
    "controller1.send(None)\n",
    "\n",
    "# This started code only implements a controller for T1\n",
    "# What do you need to change to implement a controller for T2 too?\n",
    "\n",
    "#simulate with TCLab\n",
    "t_final = 60 # change this to 500 seconds for the actual experiment\n",
    "t_step = 1\n",
    "with TCLab() as lab:\n",
    "    sources = [(\"T1\", lambda: lab.T1), (\"T2\", lambda: lab.T2),\n",
    "               (\"SP1\", lambda: SP1(t)), (\"SP2\", lambda: SP2(t)),\n",
    "               (\"Q1\", lab.Q1), (\"Q2\", lab.Q2)]\n",
    "    #load historian\n",
    "    h = Historian(sources)\n",
    "    #load plotter\n",
    "    p = Plotter(h, t_final, layout=((\"T1\", \"SP1\"), (\"T2\", \"SP2\"), (\"Q1\", \"Q2\")))\n",
    "    #While time is less than tfinal\n",
    "    for t in clock(t_final, t_step):\n",
    "        ## Controller for T1\n",
    "        # This starter code only manipulates U1 to control T1.\n",
    "        # Your specifications also give a setpoint for T2\n",
    "        T1 = lab.T1\n",
    "        # Send the controller time and T1 data\n",
    "        U1 = controller1.send([t, T1])\n",
    "        lab.Q1(U1)\n",
    "\n",
    "        ## Controller for T2\n",
    "        # What do you need to change to implement a controller for T2 too?\n",
    "\n",
    "        ## Read data and update plot\n",
    "        p.update()\n"
   ]
  },
  {
   "cell_type": "markdown",
   "metadata": {},
   "source": [
    "### Verify your Device is at Ambient Temperature"
   ]
  },
  {
   "cell_type": "code",
   "execution_count": null,
   "metadata": {},
   "outputs": [],
   "source": [
    "# Verify your device has cooled back to ambient\n",
    "tfinal = 30 #seconds\n",
    "\n",
    "# perform experiment\n",
    "with TCLab() as lab:\n",
    "    #Set power to 0\n",
    "    lab.U1 = 0\n",
    "    lab.U2 = 0\n",
    "    #load historian \n",
    "    h = Historian(lab.sources)\n",
    "    #Load plotter\n",
    "    p = Plotter(h, tfinal)\n",
    "    #While time is less than tfinal\n",
    "    for t in clock(tfinal):\n",
    "        #Read data and update plot\n",
    "        p.update(t)"
   ]
  },
  {
   "cell_type": "code",
   "execution_count": null,
   "metadata": {},
   "outputs": [],
   "source": [
    "# Copy the code you implemented and debugged above\n",
    "\n",
    "TCLab = setup(connected=True)\n",
    "\n",
    "# Add your solution here\n",
    "\n",
    "# Need to save results to a csv file"
   ]
  },
  {
   "cell_type": "markdown",
   "metadata": {},
   "source": [
    "### Discussion\n",
    "\n",
    "Write a 1 to 3 sentences to answer each of the following questions."
   ]
  },
  {
   "cell_type": "markdown",
   "metadata": {},
   "source": [
    "**Q1** Describe the shape of the temperature profiles (time-series) for the excrise 1 experiment. Are these shapes expected?\n",
    "\n",
    "*Answer*: \n",
    "\n",
    "**Q2** Speculate about why T1 overshoots the setpoint more than T2 in the excerise 1 experiment.\n",
    "\n",
    "*Answer*: \n",
    "\n",
    "**Q3** Describe the shape of the temperature profiles (time-series) for the excrise 1 experiment. Are these shapes expected?\n",
    "\n",
    "*Answer*: "
   ]
  },
  {
   "cell_type": "markdown",
   "metadata": {},
   "source": [
    "## Exercise 2. Tempering Chocolate\n",
    "\n",
    "We now want to create a rely controller that matches the temperature profile for tempering chocolate.\n",
    "\n",
    "![](https://d29hmqxeker05q.cloudfront.net/eyJidWNrZXQiOiJpbWFnZXMuY2tiay5jb20iLCJrZXkiOiJpbWFnZXMvY2hvYzI0NDE0YzA0czAwMXNzMDAxc3NzMDA0ZzAxLmpwZyIsImVkaXRzIjp7InJlc2l6ZSI6eyJ3aXRob3V0RW5sYXJnZW1lbnQiOnRydWUsIndpZHRoIjo2NTEsImhlaWdodCI6NTAwLCJmaXQiOiJpbnNpZGUifSwianBlZyI6eyJxdWFsaXR5Ijo5MCwicHJvZ3Jlc3NpdmUiOnRydWV9fX0=)\n",
    "\n",
    "Temperature 1 specifications:\n",
    "* Start from ambient.\n",
    "* Reach 50 &deg;C at 3 minutes, 27 &deg;C at 7 minutes, return to 32 &deg;C at 8 minutes, and hold until 10 minutes. \n",
    "* The goal is follow the linear ramp between setpoints as closely as possible.\n",
    "\n",
    "Temperature 2 specifications:\n",
    "* Start from ambient, ramp, and then hold at 30 &deg;C.\n",
    "\n",
    "Hints:\n",
    "* Modify SP1 to [linearly interpolate](https://numpy.org/doc/stable/reference/generated/numpy.interp.html) the set point as a function of time."
   ]
  },
  {
   "cell_type": "markdown",
   "metadata": {},
   "source": [
    "### Plot the Described Temperature Profile"
   ]
  },
  {
   "cell_type": "code",
   "execution_count": null,
   "metadata": {},
   "outputs": [],
   "source": [
    "# Complete these function to define the setpoints for T1 and T2\n",
    "def SP1_chocolate(t):\n",
    "    \"\"\"Set point definition for T1\n",
    "    Arguments:\n",
    "        t: time (s)\n",
    "    Returns:\n",
    "        set point of T1\n",
    "    \"\"\"\n",
    "    # Add your solution here\n",
    "\n",
    "def SP2_chocolate(t):\n",
    "    \"\"\"Set point definition for T2\n",
    "    Arguments:\n",
    "        t: time (s)\n",
    "    Returns:\n",
    "        set point of T2\n",
    "    \"\"\"\n",
    "    # Add your solution here\n",
    "\n",
    "# Make a plot of the setpoints to verify your setpoint functions\n",
    "# are correct.\n",
    "\n",
    "# Add your solution here"
   ]
  },
  {
   "cell_type": "markdown",
   "metadata": {},
   "source": [
    "### Verify TCLab is at Ambient Temperature"
   ]
  },
  {
   "cell_type": "code",
   "execution_count": null,
   "metadata": {},
   "outputs": [],
   "source": [
    "TCLab = setup(connected=True)\n",
    "\n",
    "# Add your solution here"
   ]
  },
  {
   "cell_type": "markdown",
   "metadata": {},
   "source": [
    "### Perform Experiment with TCLab Hardware"
   ]
  },
  {
   "cell_type": "markdown",
   "metadata": {},
   "source": []
  },
  {
   "cell_type": "code",
   "execution_count": null,
   "metadata": {},
   "outputs": [],
   "source": [
    "# Copy your code from above and modify to match the specifications\n",
    "\n",
    "# You may optionally set connected=False to debug your code\n",
    "# If you do, you MUST set it back to connected=True before running the experiment\n",
    "# You should also rerun the code block above to verify your TCLab is at ambient temperature\n",
    "# BEFORE running this experiment\n",
    "TCLab = setup(connected=True)\n",
    "\n",
    "# Add your solution here"
   ]
  },
  {
   "cell_type": "markdown",
   "metadata": {},
   "source": [
    "### Discussion"
   ]
  },
  {
   "cell_type": "markdown",
   "metadata": {},
   "source": [
    "**Q1** In the cholcate tempering simulation, how many times does each heater transitions from (a) one to off and (b) off to on? Fill in the table below.\n",
    "\n",
    "| Sensor | On to Off | Off to On |\n",
    "| ------ | --------- | --------- |\n",
    "| T1     |           |          |\n",
    "| T2     |           |          |\n",
    "\n",
    "*Answer*: "
   ]
  },
  {
   "cell_type": "markdown",
   "metadata": {},
   "source": [
    "**Q2** Descibe the shape of the T1 and T2 timeseries for the excerise 2 experiment. How do the T1 and T2 profiles relate to the on/off and off/on transitions for Q1 and Q2?\n",
    "\n",
    "*Answer*: "
   ]
  },
  {
   "cell_type": "markdown",
   "metadata": {},
   "source": [
    "## Exercise 3. Comparing Simulations and Hardward Performance."
   ]
  },
  {
   "cell_type": "markdown",
   "metadata": {},
   "source": [
    "### Simulate Performance of Relay Controller for Dark Cholocate Tempering"
   ]
  },
  {
   "cell_type": "markdown",
   "metadata": {},
   "source": [
    "### Create a Function to Quantify Controller Performance"
   ]
  },
  {
   "cell_type": "markdown",
   "metadata": {},
   "source": [
    "### Performance of Simulated Controller for Simple Experiment"
   ]
  },
  {
   "cell_type": "markdown",
   "metadata": {},
   "source": [
    "### Performance of TCLab Device for Simple Experiment"
   ]
  },
  {
   "cell_type": "markdown",
   "metadata": {},
   "source": [
    "### Performance of Simulated Controller for Chocolate Experiment"
   ]
  },
  {
   "cell_type": "markdown",
   "metadata": {},
   "source": [
    "### Performance of TCLab Device for Chocolate Experiment"
   ]
  },
  {
   "cell_type": "markdown",
   "metadata": {},
   "source": [
    "### Summary"
   ]
  },
  {
   "cell_type": "markdown",
   "metadata": {},
   "source": [
    "## Concluding Discussion\n",
    "\n",
    "The following questions tie together the Exercises throughout the lab. Please write 1 to 3 sentences per prompt."
   ]
  },
  {
   "cell_type": "markdown",
   "metadata": {},
   "source": [
    "**Q1** How can we reduce the oscillations in these experiments? Propose at least one idea and provide reasoning for why it could work.\n",
    "\n",
    "*Answer*: \n",
    "\n",
    "Consider the following feedback diagram from the first day of class:\n",
    "\n",
    "![](https://ndcbe.github.io/controls/_images/FeedbackControlDiagram.png)\n",
    "\n",
    "Identify the variables in each of the categories for our temperature control lab.\n",
    "\n",
    "**Maninpulated Variable(s)**:\n",
    "\n",
    "*Answer*: \n",
    "\n",
    "**Controlled Variable(s)**:\n",
    "\n",
    "*Answer*: \n",
    "\n",
    "\n",
    "**Process/Measured Variable(s)**:\n",
    "\n",
    "*Answer*: \n",
    "\n",
    "\n",
    "**Set Point Variable(s)**:\n",
    "\n",
    "*Answer*: \n",
    "\n",
    "**Disturbance Variable(s)**:\n",
    "\n",
    "*Answer*: \n",
    "\n"
   ]
  },
  {
   "cell_type": "markdown",
   "metadata": {},
   "source": [
    "### Bonus Exercise (Extra Credit)\n",
    "\n",
    "Using your code from Lab 2 as a starting point, reestimate the parameters in the four-state TCLab model ($T_S$ and $T_H$ for both channels). Perform simultanous nonlinear regression with four datasets:\n",
    "* Step test (Lab 1)\n",
    "* Sine test (Lab 2)\n",
    "* Simple Relay On/Off Experiment (Lab 3)\n",
    "* Chocolate Tempering Relay On/Off Experiment (Lab 3)\n",
    "\n",
    "You should start by deriving the four state model on paper. You may need to perform multi-start initialization. Include time-series plots, analysis of the residuals, and quantification of uncertainty, similar to Lab 2. How much did your parameter estimates change compared to Lab 2? How much did the parameter uncertainty decrease (or increase)? Do the results make sense and why?\n",
    "\n"
   ]
  },
  {
   "cell_type": "code",
   "execution_count": null,
   "metadata": {},
   "outputs": [],
   "source": [
    "# Add your solution here\n",
    "        return [dT1H, dT1S, dT2H, dT2S]\n",
    "\n",
    "    soln = solve_ivp(deriv, [min(t_expt), max(t_expt)], [T_amb, T_amb], t_eval=t_expt)\n",
    "\n",
    "    T1H = soln.y[0]\n",
    "    T1S = soln.y[1]\n",
    "    T2H = soln.y[2]\n",
    "    T2S = soln.y[3]\n",
    "\n",
    "    if plot:\n",
    "        # Plot the temperature data and heat power\n",
    "        plt.figure()\n",
    "        plt.subplot(2,1,1)\n",
    "        plt.plot(t_expt, data['T1'], 'ro', label='Measured $T_S$')\n",
    "        plt.plot(t_expt, T1S, 'b-', label='Predicted $T_{S1}$')\n",
    "        plt.plot(t_expt, T1H, 'g-', label='Predicted $T_{H1}$')\n",
    "        plt.plot(t_expt, T2S, 'r-', label='Predicted $T_{S2}$')\n",
    "        plt.plot(t_expt, T2H, 'p-', label='Predicted $T_{H2}$')\n",
    "        plt.ylabel('Temperature (degC)')\n",
    "        plt.legend()\n",
    "        plt.subplot(2,1,2)\n",
    "        plt.plot(t_expt, data['Q1'], 'g-', label='Heater 1')\n",
    "        plt.plot(t_expt, data['Q2'], 'p-', label='Heater 2')\n",
    "        plt.ylabel('Heater (%)')\n",
    "        plt.legend()\n",
    "        plt.xlabel('Time (sec)')\n",
    "        plt.title(plot_title)\n",
    "        plt.tight_layout()\n",
    "        plt.show()\n",
    "\n",
    "    return TS\n",
    "\n",
    "# Test your function with the data and initial parameters\n",
    "TS = tclab_model4(data, [0.1, 0.2, 4, 0.1], plot=True)\n",
    "\n",
    "### END SOLUTION"
   ]
  },
  {
   "cell_type": "markdown",
   "metadata": {},
   "source": [
    "## Common Mistakes"
   ]
  },
  {
   "cell_type": "markdown",
   "metadata": {},
   "source": [
    "1. Not using the correct kernel (for the controls environment with TCLab installed)\n",
    "\n",
    "2. Not setting up controller #2 (This includes assigning T2 and Q2 in the simulation code)\n",
    "\n",
    "3. When switching to `connected=True` most got errors if they did not restart the kernel and clear all the cells output\n",
    "\n",
    "4. Trying to create their own linear interpolation function, just use `np.interp`"
   ]
  },
  {
   "cell_type": "markdown",
   "metadata": {},
   "source": [
    "## Declarations\n",
    "\n",
    "**TCLab Hardware:** Did you use the *same* TCLab device for Labs 1, 2, and 3? If not, please provide details here. These labs are designed to use the same hardware throughout the semester. Please keep this in mind as you answer the discussion questions, especially when comparing the simulated to actual performance.\n",
    "\n",
    "**Collaboration**: If you worked with any classmates, please give their names here. Describe the nature of the collaboration.\n",
    "\n",
    "**Generative AI**: If you used any Generative AI tools, please elaborate here.\n",
    "\n",
    "**Reminder:** The written discussions responses must be in your own words. Many of these questions ask about your specific results or are open-ended questions with many reasonable answers. Thus we expect unique responses, analyses, and ideas.\n",
    "\n",
    "We may use writing analysis software to check for overly similar written responses. You are responsible for reviewing the colaboration policy outlined in the class syllabus to avoid violations of the honor code."
   ]
  },
  {
   "cell_type": "markdown",
   "metadata": {},
   "source": []
  }
 ],
 "metadata": {
  "kernelspec": {
   "display_name": "controls",
   "language": "python",
   "name": "python3"
  },
  "language_info": {
   "codemirror_mode": {
    "name": "ipython",
    "version": 3
   },
   "file_extension": ".py",
   "mimetype": "text/x-python",
   "name": "python",
   "nbconvert_exporter": "python",
   "pygments_lexer": "ipython3",
   "version": "3.10.15"
  }
 },
 "nbformat": 4,
 "nbformat_minor": 4
}
