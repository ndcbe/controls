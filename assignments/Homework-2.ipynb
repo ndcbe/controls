{
 "cells": [
  {
   "cell_type": "markdown",
   "metadata": {
    "id": "5jDthKd8zoSX",
    "tags": []
   },
   "source": [
    "# Homework 2: Optimization\n",
    "\n",
    "\n",
    "\n",
    "*Your Name*:\n",
    "\n",
    "Homework assigment 2 is intended to develop your skills in creating linear programming models. The lecture notes will provide with a starting point for the following exercises. The problem data has been changed to provide a more meaningful example for sensitivity analysis.\n",
    "\n",
    "## Blending and Metal Recycling\n",
    "\n",
    "You have been placed in charge of a metals reuse operation. A collection of raw materials are available with key parameters given in the following table.\n",
    "\n",
    "| material | % carbon (C) | % copper (Cu) | % manganese (Mn) | amount (kg) | cost (\\$/kg) | type |\n",
    "| :---: | :---: | :---: | :---: | :---: | :---: | :---\n",
    "| 1 | 2.5 | 0.0 | 1.3 | 4000 | 1.20 | iron alloy\n",
    "| 2 | 3.0 | 0.0 | 0.8 | 3000 | 1.50 | iron alloy\n",
    "| 3 | 0.0 | 0.3 | 0.0 | 6000 | 0.90 | iron alloy\n",
    "| 4 | 0.0 | 90.0 | 0.0 | 5000 | 1.30 | copper alloy\n",
    "| 5 | 0.0 | 96.0 | 4.0 | 2000 | 1.45 | copper alloy\n",
    "| 6 | 0.0 | 0.4 | 1.2 | 3000 | 1.20 | aluminum alloy\n",
    "| 7 | 0.0 | 0.6 | 0.0 | 2500 | 1.00 | aluminum alloy\n",
    "\n",
    "A customer has requested 5000 kg of mix satisfying these  specifications:\n",
    "\n",
    "| Component | min % | max % |\n",
    "| :---: | :---: | :---: |\n",
    "| C | 2.0 | 3.0 |\n",
    "| Cu | 0.4 | 0.6 |\n",
    "| Mn | 1.2 | 1.65 |\n",
    "\n",
    "You want to develop a Python program to explore the lower cost strategy to fullfill this and similar customer orders.\n",
    "\n",
    "For convenience, the raw material data has been organized as a nested dictionaries and stored in a pandas DataFrame."
   ]
  },
  {
   "cell_type": "code",
   "execution_count": null,
   "metadata": {
    "executionInfo": {
     "elapsed": 351,
     "status": "ok",
     "timestamp": 1617821702648,
     "user": {
      "displayName": "Jeffrey Kantor",
      "photoUrl": "https://lh3.googleusercontent.com/a-/AOh14Gg_n8V7bVINy02QRuRgOoMo11Ri7NKU3OUKdC1bkQ=s64",
      "userId": "09038942003589296665"
     },
     "user_tz": 240
    },
    "id": "cwM6Z9es1HCJ"
   },
   "outputs": [],
   "source": [
    "import sys\n",
    "if \"google.colab\" in sys.modules:\n",
    "    # Run on Google Colab\n",
    "    !wget \"https://raw.githubusercontent.com/IDAES/idaes-pse/main/scripts/colab_helper.py\"\n",
    "    import colab_helper\n",
    "    colab_helper.install_idaes()\n",
    "    colab_helper.install_ipopt()\n",
    "else:\n",
    "    # Run on local machine in the controls environment\n",
    "    # \n",
    "    # The following line ensures the solvers you installed are available\n",
    "    # \n",
    "    # If you modified your system PATH to include the solvers, you can\n",
    "    # comment this line out\n",
    "    #\n",
    "    # If you do not know what environmental variables are, do not \n",
    "    # worry\n",
    "    import idaes\n",
    "\n",
    "import pandas as pd\n",
    "\n",
    "materials_data = pd.DataFrame.from_dict({\n",
    "    \"1\": {\"C\": 2.5, \"Cu\": 0.0, \"Mn\": 1.3, \"amount\": 4000, \"cost\": 1.20},\n",
    "    \"2\": {\"C\": 3.0, \"Cu\": 0.0, \"Mn\": 0.8, \"amount\": 3000, \"cost\": 1.50},\n",
    "    \"3\": {\"C\": 0.0, \"Cu\": 0.3, \"Mn\": 0.0, \"amount\": 6000, \"cost\": 0.90},\n",
    "    \"4\": {\"C\": 0.0, \"Cu\": 90.0, \"Mn\": 0.0, \"amount\": 5000, \"cost\": 1.30},\n",
    "    \"5\": {\"C\": 0.0, \"Cu\": 96.0, \"Mn\": 4.0, \"amount\": 2000, \"cost\": 1.45},\n",
    "    \"6\": {\"C\": 0.0, \"Cu\": 0.4, \"Mn\": 1.2, \"amount\": 3000, \"cost\": 1.20},\n",
    "    \"7\": {\"C\": 0.0, \"Cu\": 0.6, \"Mn\": 0.0, \"amount\": 2500, \"cost\": 1.00},\n",
    "}).T\n",
    "\n",
    "display(materials_data)\n",
    "\n"
   ]
  },
  {
   "cell_type": "markdown",
   "metadata": {},
   "source": [
    "The product specifications are also available in a pandas DataFrame."
   ]
  },
  {
   "cell_type": "code",
   "execution_count": null,
   "metadata": {},
   "outputs": [],
   "source": [
    "product_composition_specs = pd.DataFrame.from_dict({\n",
    "    \"min\": {\"C\": 2.0, \"Cu\": 0.4, \"Mn\": 1.2},\n",
    "    \"max\": {\"C\": 3.0, \"Cu\": 0.6, \"Mn\": 1.65}\n",
    "})\n",
    "\n",
    "display(product_composition_specs)"
   ]
  },
  {
   "cell_type": "markdown",
   "metadata": {},
   "source": [
    "### Exercise 1. Mathematical Modeling\n",
    "\n",
    "On paper, develop a mathematical model for this problem. Similar to class, identify and describe the notation (with units) for **sets**, **variables**, and **parameters/data**.  Then write the optimization problem with the mathematical formulation on the left. On the right, add a few words to describe each objective, constraint, and bound. (This is the same format as the examples we did in class.) Please turn in the complete annotated model."
   ]
  },
  {
   "cell_type": "markdown",
   "metadata": {},
   "source": []
  },
  {
   "cell_type": "markdown",
   "metadata": {
    "id": "-OKFyi0htQ9I"
   },
   "source": [
    "### Exercise 2. Pyomo Implementation\n",
    "\n",
    "\n"
   ]
  },
  {
   "cell_type": "markdown",
   "metadata": {
    "id": "Pk02uJ5WmKie"
   },
   "source": [
    "Complete the function below. Follow the style of the class examples on linear blending (beer, gasoline). Hint: Add one constraint at a time.\n",
    "\n"
   ]
  },
  {
   "cell_type": "code",
   "execution_count": null,
   "metadata": {
    "executionInfo": {
     "elapsed": 541,
     "status": "ok",
     "timestamp": 1617821703701,
     "user": {
      "displayName": "Jeffrey Kantor",
      "photoUrl": "https://lh3.googleusercontent.com/a-/AOh14Gg_n8V7bVINy02QRuRgOoMo11Ri7NKU3OUKdC1bkQ=s64",
      "userId": "09038942003589296665"
     },
     "user_tz": 240
    },
    "id": "C5Rf1oc1r8do"
   },
   "outputs": [],
   "source": [
    "import pyomo.environ as pyo\n",
    "\n",
    "def calculate_cost(materials_data, product_composition_specs, batch_size=5000, verbose=False, surpress_output=False):\n",
    "    ''' Calculate minimum cost of metal blending\n",
    "\n",
    "    Arguments:\n",
    "        materials_data: pandas DataFrame\n",
    "        product_composition_specs: pandas DataFrame\n",
    "        batch_size: float\n",
    "        verbose: bool\n",
    "\n",
    "    Returns:\n",
    "        solution: dict with the following keys [units]\n",
    "            - batch [kg of product]\n",
    "            - A, B, C, D, E, F, G [kg of raw material] \n",
    "            - C, Cu, Mn [wt% of final product]\n",
    "            - cost [$]\n",
    "            - cost_per_unit [$/kg of product] \n",
    "\n",
    "    '''\n",
    "\n",
    "\n",
    "    m = pyo.ConcreteModel(\"Metal Blending\")\n",
    "\n",
    "    m.MATERIALS = pyo.Set(initialize=materials_data.index)\n",
    "    m.ELEMENTS = pyo.Set(initialize=materials_data.columns[:-2])\n",
    "\n",
    "    m.x = pyo.Var(m.MATERIALS, domain=pyo.NonNegativeReals)\n",
    "\n",
    "    @m.Objective(sense=pyo.minimize)\n",
    "    def cost(m):\n",
    "        return sum(m.x[i]*materials_data.loc[i, \"cost\"] for i in m.MATERIALS)\n",
    "    \n",
    "    \n",
    "    @m.Constraint(m.ELEMENTS)\n",
    "    def min_element(m, e):\n",
    "        return sum(m.x[i]*(materials_data.loc[i, e] - product_composition_specs.loc[e,\"max\"]) for i in m.MATERIALS) <= 0\n",
    "    \n",
    "        \n",
    "    '''You need to add the constraints here.\n",
    "\n",
    "    This code will run but give you the wrong answer if\n",
    "    you don't add the constraints.\n",
    "    '''\n",
    "    # Add your solution here\n",
    "\n",
    "    # solver = pyo.SolverFactory('gurobi')\n",
    "    solver = pyo.SolverFactory('cbc')\n",
    "\n",
    "    results = solver.solve(m,tee=verbose)\n",
    "\n",
    "    if verbose:\n",
    "        m.pprint()\n",
    "\n",
    "    solution = {}\n",
    "\n",
    "    # Amount of each material used\n",
    "    for i in m.MATERIALS:\n",
    "        solution[i] = pyo.value(m.x[i])\n",
    "\n",
    "    # Total amount\n",
    "    solution['batch'] = sum(solution[i] for i in m.MATERIALS)\n",
    "\n",
    "    # Composition of the final product\n",
    "    for e in m.ELEMENTS:\n",
    "        solution[e] = sum(materials_data.loc[i, e]*solution[i] for i in m.MATERIALS)/solution['batch']\n",
    "\n",
    "    # Cost\n",
    "    solution['cost'] = m.cost()\n",
    "\n",
    "    # Cost per unit\n",
    "    solution['cost_per_unit'] = solution['cost']/solution['batch']\n",
    "\n",
    "    solution['status'] = results.solver.status\n",
    "\n",
    "    if not surpress_output:\n",
    "        display(pd.DataFrame.from_dict(solution, orient='index', columns=['Value']))\n",
    "    \n",
    "    return solution\n",
    "    \n",
    "sln = calculate_cost(materials_data, product_composition_specs, batch_size=5000, verbose=False)"
   ]
  },
  {
   "cell_type": "markdown",
   "metadata": {
    "id": "DSHMhaDmdb-G"
   },
   "source": [
    "What is the minimum price you would need to charge in $/kg to produce 5,000 kg of requested product?\n",
    "\n",
    "*Answer*: "
   ]
  },
  {
   "cell_type": "markdown",
   "metadata": {
    "id": "Jq99WAVRlLQt"
   },
   "source": [
    "### Exercise 3. Sensitivity Analysis\n",
    "\n",
    "One of the important reasons to create optimization models is to understand the value of the raw materials that are available to you, and how to adjust operations to accomodate changing requirements. The is commonly referred to as **sensitivity analysis**.\n",
    "\n",
    "Using the functions you've created in above exercises, answer the following questions:\n",
    "\n",
    "**Question 1.** The customer is very pleased with your initial pricing for 5,000 kg of the desired product, and now wishes to increase the order to 6,000 kg. Does your unit cost ($/kg) go up? If so, explain why your unit cost has gone up.\n",
    "\n"
   ]
  },
  {
   "cell_type": "code",
   "execution_count": null,
   "metadata": {},
   "outputs": [],
   "source": [
    "# Add your solution here"
   ]
  },
  {
   "cell_type": "markdown",
   "metadata": {},
   "source": [
    "*Answer*: "
   ]
  },
  {
   "cell_type": "markdown",
   "metadata": {},
   "source": [
    "**Question 2.** Is there an upper limit on how much product your can provide to this customer? (Use trial and error. To the nearest 100 kg, find the maximum amount of product you can ship to the customer.) What is the unit cost now?"
   ]
  },
  {
   "cell_type": "code",
   "execution_count": null,
   "metadata": {},
   "outputs": [],
   "source": [
    "# Add your solution here"
   ]
  },
  {
   "cell_type": "markdown",
   "metadata": {},
   "source": [
    "*Answer*: "
   ]
  },
  {
   "cell_type": "markdown",
   "metadata": {},
   "source": [
    "**Question 3.** After some negotiation, you and your customer settle on an order of 6,500 kg. Now you wish to negotiate with your suppliers for more raw material. How much money do you save for 1 additional kg of raw material \"1\"? Based on this, what price would you be willing to pay your supplier for additional \"A\"?"
   ]
  },
  {
   "cell_type": "code",
   "execution_count": null,
   "metadata": {},
   "outputs": [],
   "source": [
    "# Add your solution here"
   ]
  },
  {
   "cell_type": "markdown",
   "metadata": {},
   "source": [
    "*Answer*: "
   ]
  },
  {
   "cell_type": "markdown",
   "metadata": {
    "executionInfo": {
     "elapsed": 154,
     "status": "ok",
     "timestamp": 1617821711041,
     "user": {
      "displayName": "Jeffrey Kantor",
      "photoUrl": "https://lh3.googleusercontent.com/a-/AOh14Gg_n8V7bVINy02QRuRgOoMo11Ri7NKU3OUKdC1bkQ=s64",
      "userId": "09038942003589296665"
     },
     "user_tz": 240
    },
    "id": "ki-CRcCpmKdg"
   },
   "source": [
    "##  Data-Driven Portfolio Optimization\n",
    "\n",
    "Portfolio management is a classic example of quadratic programming (optimization). The idea is to find the optimal blend of investments that achieves a specified rate of return (or better) while minimizing the variance in rate of return. In this problem, you will use your skills in statistical analysis to analyze the stock data.\n",
    "\n",
    "### Historical Stock Data\n",
    "\n",
    "Historical daily adjusted closing prices for the last five years (obtained from Yahoo! Finance) are available for the $N=5$ stocks listed in table below. (We are actually considering index funds, but this detail does not change the analysis.)  \n",
    "\n",
    "| Symbol | Name |\n",
    "|-|-|\n",
    "| GSPC | S&P 500 | \n",
    "| DJI | Dow Jones Industrial Average | \n",
    "| IXIC | NASDAQ Composite | \n",
    "| RUT | Russell 2000 |\n",
    "| VIX | CBOE Volatility Index |"
   ]
  },
  {
   "cell_type": "markdown",
   "metadata": {
    "id": "j3gZaXSyzYd5"
   },
   "source": [
    "### Return Rate\n",
    "\n",
    "You are given a Stock\\_Data.csv file. Using the stock data, calculate the 1-day return rate:\n",
    "\n",
    "\\begin{equation}\n",
    "\tr_{t,i} = \\frac{p_{t+1,i} - p_{t,i}}{p_{t,i}}\n",
    "\\end{equation}\n",
    "\n",
    "where $p_{t+1,i}$ and $p_{t,i}$ are the *Adjusted Closing Prices* at the end of days $t+1$ and $t$, respectively, for stock $i$. These results are stored in matrix `R`. *Hint*: Use Pandas."
   ]
  },
  {
   "cell_type": "code",
   "execution_count": null,
   "metadata": {},
   "outputs": [],
   "source": [
    "# This is the long path to the folder containg data files on GitHub (for the class website)\n",
    "data_folder = 'https://raw.githubusercontent.com/ndcbe/data-and-computing/main/notebooks/data/'\n",
    "\n",
    "# Load the data file into Pandas\n",
    "df_adj_close = pd.read_csv(data_folder + 'Stock_Data.csv')"
   ]
  },
  {
   "cell_type": "code",
   "execution_count": null,
   "metadata": {},
   "outputs": [],
   "source": [
    "# Define an empty list to store the return rates\n",
    "R = []\n",
    "\n",
    "# Loop over the days (rows) in the data frame\n",
    "for i in range(len(df_adj_close)):\n",
    "\n",
    "    # Compute the return rate and append it to the list R\n",
    "    if i >0:\n",
    "        # Skip calculation for the first row (day 0)\n",
    "        R.append((df_adj_close.iloc[i] - df_adj_close.iloc[i-1])/(df_adj_close.iloc[i-1]))\n",
    "\n",
    "# Convert the list R to a data frame\n",
    "R = pd.DataFrame(R)\n",
    "\n",
    "# Print the first 5 return rates\n",
    "print(\"\\nFirst 5 Return Rates:\")\n",
    "R.head()\n"
   ]
  },
  {
   "cell_type": "markdown",
   "metadata": {},
   "source": [
    "### Exercise 1. Visualization\n",
    "\n",
    "Plot the single day return rates for the 5 stocks you obtain in the previous section and check if you obtain the following profiles:\n",
    "\n",
    "![ad](https://raw.githubusercontent.com/ndcbe/data-and-computing/main/media/stock_return_plots.png)\n",
    "\n",
    "\n",
    "The first plot is made for you. "
   ]
  },
  {
   "cell_type": "code",
   "execution_count": null,
   "metadata": {},
   "outputs": [],
   "source": [
    "# Create figure\n",
    "import matplotlib.pyplot as plt\n",
    "plt.figure(figsize=(9,15))\n",
    "\n",
    "# Create subplot for DJI\n",
    "plt.subplot(5,1,1)\n",
    "plt.plot(R[\"DJI\"]*100,color=\"blue\",label=\"DJI\")\n",
    "plt.legend(loc='best')\n",
    "\n",
    "# Add your solution here\n",
    "\n",
    "# Show plot\n",
    "plt.show()"
   ]
  },
  {
   "cell_type": "markdown",
   "metadata": {},
   "source": [
    "### Exercise 2. Covariance and Correlation Matrices\n",
    "\n",
    "Write Python code to:\n",
    "1. Calculate $\\bar{r}$, the average 1-day return for each stock. Store this as the variable `R_avg`.\n",
    "2. Calculate $\\Sigma_{r}$, the covariance matrix of the 1-day returns. This matrix tells us how returns for each stock vary with each other (which is important because they are correlated!). Hint: pandas has a function `cov`\n",
    "3. Calculate the correlation matrix for the 1-day returns. Hint: pandas has a function `corr`.\n",
    "\n",
    "Looking at the correlation matrix, answer the follwing questions:\n",
    "\n",
    "1. Which pair of stocks have the highest **positive** correlation?\n",
    "2. Which pair of stocks have the highest **negative** correlation?\n",
    "3. Which pair of stocks have the lowest **absolute** correlation?\n",
    "\n",
    "Hint: Review the CBE 20258 class website for more information on [correlation and covariance](https://ndcbe.github.io/data-and-computing/notebooks/14/Correlation-Covariance-and-Independence.html)"
   ]
  },
  {
   "cell_type": "markdown",
   "metadata": {},
   "source": [
    "Please write one or two sentences for each of the above questions:\n",
    "1. Fill in here\n",
    "2. Fill in here\n",
    "3. Fill in here"
   ]
  },
  {
   "cell_type": "code",
   "execution_count": null,
   "metadata": {},
   "outputs": [],
   "source": [
    "# Add your solution here"
   ]
  },
  {
   "cell_type": "markdown",
   "metadata": {},
   "source": [
    "### Exercise 3. Markowitz Mean/Variance Portfolio Optimization Model\n",
    "\n",
    "The Markowitz mean/variance model, shown below, computes the optimal allocation of funds in a portfolio:\n",
    "\n",
    "\\begin{align}\n",
    "\t\t\\min_{{x} \\geq {0}} \\qquad & z:= {x}^T \\cdot {\\Sigma_r} \\cdot {x} \\\\\n",
    "\t\t\\text{s.t.} \\qquad & {\\bar{r}}^T \\cdot {x} \\geq \\rho \\\\\n",
    "\t\t & \\sum_{i =1}^N x_i = 1 \n",
    "\\end{align} \n",
    "\n",
    "\n",
    "where $x_i$ is the fraction of funds invested in stock $i$ and $x = [x_1, x_2, ..., x_N]^T$. The objective is to minimize the variance of the return rate. (As practice for the next exam, try deriving this from the error propagation formulas.) This requires the expected return rate to be at least $\\rho$. Finally, the allocation of funds must sum to 100%.\n",
    "\n",
    "Write Python code to solve for $\\rho = 0.08\\%.$ Report both the optimal allocation of funds and the standard deviation of the return rate. \n",
    "*Hint*:\n",
    "1. Be mindful of units.\n",
    "2. You can solve with problem using the Pyomo function given below\n",
    "3. $:=$ means ''defined as''\n",
    "\n",
    "Store your answer in `std_dev`."
   ]
  },
  {
   "cell_type": "code",
   "execution_count": null,
   "metadata": {},
   "outputs": [],
   "source": [
    "import pyomo.environ as pyo\n",
    "\n",
    "R_avg_tolist = R_avg.values.tolist()\n",
    "Cov_list = Cov.values.tolist()\n",
    "\n",
    "# Optimization Problem\n",
    "def create_model(rho,R_avg,Cov):\n",
    "    \n",
    "    '''\n",
    "    This function solves for the optimal allocation of funds in a portfolio \n",
    "    by minimizing the variance of the return rate\n",
    "    \n",
    "    Arguments:\n",
    "        rho: required portfolio expected return\n",
    "        Ravg: average return rates (list)\n",
    "        Cov: covariance matrix\n",
    "        \n",
    "    Returns:\n",
    "        m: Pyomo concrete model\n",
    "    \n",
    "    '''\n",
    "    \n",
    "    m = pyo.ConcreteModel()\n",
    "    init_x = {}\n",
    "\n",
    "    # Stock choices\n",
    "    m.idx = pyo.Set(initialize=[0,1,2,3,4])\n",
    "    for i in m.idx:\n",
    "        init_x[i] = 0\n",
    "\n",
    "    # Initialize the portfolio allocation at 0% for each stock\n",
    "    m.x = pyo.Var(m.idx,initialize=init_x,bounds=(0,None))\n",
    "    \n",
    "    @m.Objective()\n",
    "    def variance(m):\n",
    "        b = []\n",
    "        mult_result = 0\n",
    "        for i in m.idx:\n",
    "            a = 0\n",
    "            for j in m.idx:\n",
    "                a+= m.x[j]*Cov[j][i]\n",
    "            b.append(a)\n",
    "        for i in m.idx:\n",
    "            mult_result += b[i]*m.x[i]\n",
    "        \n",
    "        return mult_result\n",
    "    \n",
    "    @m.Constraint()\n",
    "    def expected_return(m):\n",
    "        # Add your solution here\n",
    "    \n",
    "    @m.Constraint()\n",
    "    def fraction_sums_to_unity(m):\n",
    "        # Add your solution here\n",
    "\n",
    "    \n",
    "    return m"
   ]
  },
  {
   "cell_type": "code",
   "execution_count": null,
   "metadata": {},
   "outputs": [],
   "source": [
    "rho = 0.0008\n",
    "model1 = create_model(rho,R_avg_tolist,Cov_list)\n",
    "\n",
    "# Solve the Pyomo model\n",
    "\n",
    "\n",
    "## Specify IPOPT as solver\n",
    "solver = pyo.SolverFactory('ipopt')\n",
    "\n",
    "# Add your solution here"
   ]
  },
  {
   "cell_type": "markdown",
   "metadata": {},
   "source": [
    "### Exercise 4. Volatility and Expected Return Tradeoff\n",
    "\n",
    "We will now perform sensitivity analysis of the optimization problem in 3d to characterize the tradeoff between return and risk.\n",
    "\n",
    "Write Python code to:\n",
    "1. Solve the optimization problem for many values of $\\rho$ between min($\\bar{r}$) and max($\\bar{r}$) and save the results. Use the Pyomo function created in 3d.\n",
    "2. Plot $\\rho$ versus $\\sqrt{z}$ (using the saved results).\n",
    "3. Write at least one sentence to interpret and discuss your plot."
   ]
  },
  {
   "cell_type": "code",
   "execution_count": null,
   "metadata": {},
   "outputs": [],
   "source": [
    "import numpy as np\n",
    "rho_vals = np.arange(0.0007,0.0038,0.0001)\n",
    "std_dev = []\n",
    "\n",
    "# Add your solution here"
   ]
  },
  {
   "cell_type": "code",
   "execution_count": null,
   "metadata": {},
   "outputs": [],
   "source": [
    "#Plot\n",
    "\n",
    "# Add your solution here"
   ]
  },
  {
   "cell_type": "markdown",
   "metadata": {},
   "source": [
    "**Discussion: interpret the plot**.\n",
    "\n",
    "*Answer*: \n",
    "\n"
   ]
  },
  {
   "cell_type": "markdown",
   "metadata": {},
   "source": [
    "## Declarations\n",
    "\n",
    "**Collaboration**: If you worked with any classmates, please give their names here. Describe the nature of the collaboration.\n",
    "\n",
    "**Generative AI**: If you used any Generative AI tools, please elaborate here."
   ]
  },
  {
   "cell_type": "markdown",
   "metadata": {},
   "source": []
  }
 ],
 "metadata": {
  "colab": {
   "authorship_tag": "ABX9TyMII0RLURnK4dpAs76DwefW",
   "collapsed_sections": [],
   "name": "05.03-Homework_5.ipynb",
   "provenance": [
    {
     "file_id": "1KTIh_OFat5L8C2NAapN0DxQzfRkCbSBC",
     "timestamp": 1617821649285
    }
   ]
  },
  "kernelspec": {
   "display_name": "Python 3 (ipykernel)",
   "language": "python",
   "name": "python3"
  },
  "language_info": {
   "codemirror_mode": {
    "name": "ipython",
    "version": 3
   },
   "file_extension": ".py",
   "mimetype": "text/x-python",
   "name": "python",
   "nbconvert_exporter": "python",
   "pygments_lexer": "ipython3",
   "version": "3.10.12"
  }
 },
 "nbformat": 4,
 "nbformat_minor": 4
}
