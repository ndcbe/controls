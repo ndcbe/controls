{
 "cells": [
  {
   "cell_type": "markdown",
   "metadata": {},
   "source": [
    "# Lab 1: Step Test of a First-Order System"
   ]
  },
  {
   "cell_type": "markdown",
   "metadata": {},
   "source": [
    "\n",
    "\n",
    "*Your Name:* \n",
    "\n",
    "This notebook outlines a process for fitting a first-order model of a heater/sensor assembly to data taken during a step test. The learning goals for this notebook are:\n",
    "\n",
    "* Read and plot a previously saved step test data using the `Pandas` library.\n",
    "* By inspection, identify the gain and dominant time constant of the step test.\n",
    "* Simulate the response of a first-order model to step test.\n",
    "* Through iteration, adjust model parameters to fit the first order model to step test data. \n",
    "* Understand the relationship of model parameters to gain and time constant.\n",
    "* Determine if a first-order model provides an adequate description of the observed response."
   ]
  },
  {
   "cell_type": "markdown",
   "metadata": {},
   "source": [
    "## Exercise 0. Analyze Previous a Dataset"
   ]
  },
  {
   "cell_type": "markdown",
   "metadata": {},
   "source": [
    "### First-order lumped model for heater/sensor device.\n",
    "\n",
    "We have previously developed a first-order model for one heater/sensor pair on the temperature control lab device.  An energy balance gives\n",
    "\n",
    "\\begin{align}\n",
    "C_p\\frac{dT_1}{dt} & = U_a(T_{amb} - T_1) + \\alpha P_1u_1 \\\\\n",
    "\\end{align}\n",
    "\n",
    "where $T_1$ is the average temperature of heater/sensor one, $T_{amb}$ is the ambient temperature of the surroundings. The unknown parameters are the heat capacity $C_p$ and the heat transfer coefficient $U_a$.\n",
    "\n",
    "The parameters describing the heat input are as follows:\n",
    "\n",
    "* $\\alpha$ is a system calibration constant  The measured value of $\\alpha$ is 0.16 milliwatts per unit of $P_1$ per percent.\n",
    "* $P_1$ is a constant integer value in the range 0 to 255 that controls the operating range of heater 1. It is set using the `tclab` library.\n",
    "* $u_1$ is a floating point value in the range 0 to 100 that specify the percentage of available power for heater 1.\n",
    "\n",
    "For example, if $P_1 = 255$ and $u_1 = 100$, then the total applied power is\n",
    "\n",
    "$$\\alpha_1 P_1 u_1 = 0.16 \\times 200 \\times 50 = 4080\\ \\text{milliwatts} = 4.08\\ \\text{watts}$$\n",
    "\n",
    "\n",
    "\n"
   ]
  },
  {
   "cell_type": "markdown",
   "metadata": {},
   "source": [
    "### Reading previously saved experimental data\n",
    "\n",
    "A step test was performed where the temperature control laboratory was initially at steady state at ambient temperature. The heater range $P_1$ was set to 200, then  heater 1 was set to 50% of full range with $\\bar{u}_1 = 50$. Temperatures $T_1$ and $T_2$ were recorded for 800 seconds. The has been saved to the course Github repository where it can be located with the url\n",
    "\n",
    "[https://raw.githubusercontent.com/ndcbe/controls/main/tclab/data/tclab-data.csv](\"https://raw.githubusercontent.com/ndcbe/controls/main/tclab/data/tclab-data.csv\")\n",
    "\n",
    "The following cell reads the step test data using the `Pandas` library. The data is stored in a Pandas DataFrame called `data`."
   ]
  },
  {
   "cell_type": "code",
   "execution_count": null,
   "metadata": {},
   "outputs": [],
   "source": [
    "import pandas as pd\n",
    "\n",
    "# parameter values\n",
    "P1 = 200\n",
    "U1 = 50\n",
    "\n",
    "# file location\n",
    "github_repo = \"https://raw.githubusercontent.com/ndcbe/controls/main/\"\n",
    "file_path = \"tclab/data/tclab-data.csv\"\n",
    "url = github_repo + file_path\n",
    "\n",
    "# read file\n",
    "data = pd.read_csv(url, index_col=\"Time\")\n",
    "\n",
    "# display the step test data\n",
    "display(data)"
   ]
  },
  {
   "cell_type": "markdown",
   "metadata": {},
   "source": [
    "Next we plot the data using the `.plot()` method associated with every Pandas DataFrame. The Pandas plot method provides a concise and intuitive means of plotting data."
   ]
  },
  {
   "cell_type": "code",
   "execution_count": null,
   "metadata": {},
   "outputs": [],
   "source": [
    "import matplotlib.pyplot as plt\n",
    "\n",
    "data.plot(y=[\"T1\", \"T2\"], \n",
    "          title=f\"{P1=}, {U1=}\",\n",
    "          xlabel=\"seconds\", \n",
    "          ylabel=\"deg C\", \n",
    "          grid=True, \n",
    "          figsize=(8, 2.5)\n",
    "         )\n",
    "\n",
    "data.plot(y=[\"Q1\", \"Q2\"],\n",
    "          title=f\"{P1=}, {U1=}\",\n",
    "          xlabel=\"seconds\", \n",
    "          ylabel=\"% of full range\", \n",
    "          grid=True, \n",
    "          figsize=(8, 1.5),\n",
    "          ylim=(0, 100)\n",
    "         )\n",
    "\n",
    "plt.show()"
   ]
  },
  {
   "cell_type": "markdown",
   "metadata": {},
   "source": [
    "Imagine you printed the plot above on paper. Using the plot, estimate the gain $K$ and and time constant $\\tau$ from the plot. **Hint**: Look at your lecture notes. How did we do this for similar in-class example for linear first order systems?\n",
    "\n",
    "Please typeset your answer and supporting calculations. You can either use Python as a simple calculator or use a scientific calculator. The calculation is not that hard. Do not overthink it.\n",
    "\n",
    "*Answer*: "
   ]
  },
  {
   "cell_type": "markdown",
   "metadata": {},
   "source": [
    "### Analytical Solution for a Step Test\n",
    "\n",
    "The goal of this assignment is to fit a first-order model to the step test. The strategy we use will be use an analytical solution for a first-order model subject to a step change in the input. Then, by trail-and-error, find a set of model parameters that provide a good fit to the experimental data.\n",
    "\n",
    "We start with a first-order model written in gain/time-constant form\n",
    "\n",
    "$$\\tau\\frac{dx}{dt} = -x + K \\bar{u}$$\n",
    "\n",
    "where $x = T_1 - T_{amb}$ and the $\\bar{u}$ is a constant value for the input $u_1(t)$. The analytical solution consists of two parts\n",
    "\n",
    "$$x(t) = \\underbrace{x_0e^{-t/\\tau}}_{\\text{initial condition }x_0} + \\underbrace{(1 - e^{-t/\\tau}) K \\bar{u}}_{\\text{input }\\bar{u}}$$\n",
    "\n",
    "The solution depends on three parameters:\n",
    "\n",
    "* $x_0$: initial condition\n",
    "* $K$: steady-state gain\n",
    "* $\\tau$: time constant\n",
    "\n",
    "The initial condition $x_0 = 0$ if the step test starts at steady-state. In that case there are two parameters to fit, $K$ and $\\tau$. The following cell demonstrates the calculation and plotting of the analytical solution.\n",
    "\n",
    "### Graphically Determine the Gain and Time Constant"
   ]
  },
  {
   "cell_type": "code",
   "execution_count": null,
   "metadata": {},
   "outputs": [],
   "source": [
    "import numpy as np\n",
    "import matplotlib.pyplot as plt\n",
    "\n",
    "# replace these with your calculation above\n",
    "# then adjust until the plot visually matches the data\n",
    "T_amb = 23\n",
    "x0 = 0\n",
    "K = 0.7\n",
    "tau = 200 # seconds\n",
    "\n",
    "# Add your solution here\n",
    "\n",
    "# known input\n",
    "U1 = 50\n",
    "\n",
    "# compute analytical solution\n",
    "t = data.index\n",
    "x = x0*np.exp(-t/tau) + (1 - np.exp(-t/tau))*K*U1\n",
    "\n",
    "# plotting solution for T1\n",
    "T1 = x + T_amb\n",
    "plt.plot(t, T1, t, data[\"T1\"])\n",
    "plt.legend([\"T1 predicted\", \"T1 measured\"])\n",
    "\n",
    "# dress up the plot\n",
    "plt.title(f\"{x0=} C, {K=} C/%, {tau=} s\")\n",
    "plt.xlabel(\"seconds\")\n",
    "plt.ylabel(\"deg C\")\n",
    "plt.grid(True)\n"
   ]
  },
  {
   "cell_type": "markdown",
   "metadata": {},
   "source": [
    "Remember to submit Exercise 0 via Gradescope."
   ]
  },
  {
   "cell_type": "markdown",
   "metadata": {},
   "source": [
    "## Exercise 1. Step Tests and Data Collection"
   ]
  },
  {
   "cell_type": "markdown",
   "metadata": {},
   "source": [
    "We will now perform a step test to collect data you analyzed in Exercise 0, but this time using your own TCLab."
   ]
  },
  {
   "cell_type": "markdown",
   "metadata": {},
   "source": [
    "### Step 1. Verify operation.\n",
    "\n",
    "Execute the following cell to verify that you have a working connection to the temperature control lab hardware. This will test for installation of TCLab.py, connection to the Arduino device, and working firmware within the Arduino."
   ]
  },
  {
   "cell_type": "code",
   "execution_count": null,
   "metadata": {},
   "outputs": [],
   "source": [
    "from tclab import TCLab, clock, Historian, Plotter, setup\n",
    "\n",
    "run_tclab = False\n",
    "\n",
    "\"\"\"\n",
    "In the labs, we will us \"run_tclab\" to control whether the TCLab is used.\n",
    "After you finish the lab experiment, set run_tclab = False.\n",
    "This way, you can run all the cells without losing your TCLab output.\n",
    "\"\"\"\n",
    "\n",
    "if run_tclab:\n",
    "    TCLab = setup(connected=True)\n",
    "\n",
    "    lab = TCLab()\n",
    "    print(\"TCLab Temperatures:\", lab.T1, lab.T2)\n",
    "    lab.close()"
   ]
  },
  {
   "cell_type": "markdown",
   "metadata": {},
   "source": [
    "### Step 2.  Check for steady state\n",
    "\n",
    "As discussed in class, for step testing the device must be initially at steady state. Run the following code to verify the heaters are off and that the temperatures are at a steady ambient temperature."
   ]
  },
  {
   "cell_type": "markdown",
   "metadata": {},
   "source": []
  },
  {
   "cell_type": "code",
   "execution_count": null,
   "metadata": {},
   "outputs": [],
   "source": [
    "if run_tclab:\n",
    "    # experimental parameters\n",
    "    tfinal = 30\n",
    "\n",
    "    # perform experiment\n",
    "    with TCLab() as lab:\n",
    "        lab.U1 = 0\n",
    "        lab.U2 = 0\n",
    "        h = Historian(lab.sources) \n",
    "        p = Plotter(h, tfinal)\n",
    "        for t in clock(tfinal):\n",
    "            p.update(t)"
   ]
  },
  {
   "cell_type": "markdown",
   "metadata": {},
   "source": [
    "### Step 3. Step Test\n",
    "\n",
    "The step test consists of turning one heater one at 50% power and recording temperature data for at least 1200 seconds. Copy the code from Step 2 into the following cell. Then modify as needed to accomplish the step test with P1 at 200 and using 50% of maximum power."
   ]
  },
  {
   "cell_type": "code",
   "execution_count": null,
   "metadata": {},
   "outputs": [],
   "source": [
    "if run_tclab:\n",
    "    # Add your solution here"
   ]
  },
  {
   "cell_type": "markdown",
   "metadata": {},
   "source": [
    "### Step 4. Save data to a .csv file\n",
    "\n",
    "Run the following cell to verify and save your data to a '.csv' file. Be sure you can find and locate the data on your laptop before ending your session. You will need access to this data for subsequent exercises."
   ]
  },
  {
   "cell_type": "code",
   "execution_count": null,
   "metadata": {},
   "outputs": [],
   "source": [
    "import matplotlib.pyplot as plt\n",
    "import os.path\n",
    "\n",
    "# Change the filename here\n",
    "data_file = 'lab1-step-test.csv'\n",
    "\n",
    "if run_tclab:\n",
    "\n",
    "    t, T1, T2, Q1, Q2 = h.fields\n",
    "\n",
    "    plt.plot(t, T1, t, T2, t, Q1, t, Q2)\n",
    "    plt.legend(['T1','T2','Q1','Q2'])\n",
    "    plt.xlabel('Time / seconds')\n",
    "    plt.grid()\n",
    "\n",
    "\n",
    "\n",
    "    # Set to True to overwrite the file. Default is False\n",
    "    # to safeguard against accidentally rerunning this cell.\n",
    "    overwrite_file = False\n",
    "\n",
    "    if not overwrite_file and os.path.isfile('./'+data_file):\n",
    "        raise FileExistsError(data_file + ' already exisits. Either choose a new filename or set overwrite_file = True.')\n",
    "    elif run_tclab:\n",
    "        h.to_csv(data_file)\n",
    "        print(\"Successfully saved data to \"+data_file)\n",
    "    else:\n",
    "        print(\"Data not saved. Set run_tclab = True to save the data.\")"
   ]
  },
  {
   "cell_type": "markdown",
   "metadata": {},
   "source": [
    "## Exercise 2. Determine First-Order Linear Model From Inspection\n",
    "\n",
    "Do the following:\n",
    "* Read the data you saved from your step test.\n",
    "* Plot the results.\n",
    "* Inspecting the plot for $T_1$, estimate the\n",
    "    * gain\n",
    "    * time constant\n",
    "    * ambient temperature\n"
   ]
  },
  {
   "cell_type": "code",
   "execution_count": null,
   "metadata": {},
   "outputs": [],
   "source": [
    "# Add your solution here"
   ]
  },
  {
   "cell_type": "markdown",
   "metadata": {},
   "source": [
    "Write your estimates below in this markdown cell.\n",
    "\n",
    "*Answer*: "
   ]
  },
  {
   "cell_type": "markdown",
   "metadata": {},
   "source": [
    "## Exercise 3. Fit First-Order Linear Model with Numerical Simulations and Trail-and-Error\n",
    "\n",
    "Fill in the function below to plot an analytical solution for the step response of a first-order model in gain/time constant form. Use your estimates of gain, time constant, initial condition, and the input. On the same plot, overlay a plot of the experimental data. Adjust parameter values until you get the a good fit of the model to the experimental data.\n",
    "\n",
    "Note that you may need to also adjust values of the ambient temperature and initial condition to fit the model. \n",
    "\n",
    "Report the following:\n",
    "* gain\n",
    "* time constant\n",
    "* ambient temperature\n",
    "* initial condition"
   ]
  },
  {
   "cell_type": "code",
   "execution_count": null,
   "metadata": {},
   "outputs": [],
   "source": [
    "# First, create a function to compute the predicted values\n",
    "\n",
    "import numpy as np\n",
    "import matplotlib.pyplot as plt\n",
    "\n",
    "def predict_first_order(data, K, tau, x0 = 0, U1=50, plot=False):\n",
    "    '''\n",
    "    Predict the temperature of a first order system.\n",
    "\n",
    "    Arguments:\n",
    "        t: time (seconds)\n",
    "        x0: initial temperature (deg C)\n",
    "        K: steady state gain (deg C/% U1)\n",
    "        tau: time constant (seconds)\n",
    "        U1: input as a percentage\n",
    "        T_amb: ambient temperature (deg C)\n",
    "        data: dataframe with columns T1, T2, Q1, Q2\n",
    "        plot: True to plot the results\n",
    "    \n",
    "    Returns:\n",
    "        T1_pred: predicted temperature (deg C)\n",
    "    \n",
    "    '''\n",
    "\n",
    "    # Extract the time index and ambient temperature from\n",
    "    # the Pandas dataframe\n",
    "    t = data.index\n",
    "    T_amb = data[\"T1\"].iloc[0]\n",
    "\n",
    "    # Add your solution here\n",
    "\n",
    "\n",
    "# Next, set an initial point\n",
    "# Add your solution here\n",
    "\n",
    "# Test the function using the initial guess\n",
    "\n",
    "# Add your solution here\n",
    "\n"
   ]
  },
  {
   "cell_type": "code",
   "execution_count": null,
   "metadata": {},
   "outputs": [],
   "source": [
    "# Adjust the parameters by hand to improve the fit\n",
    "# Because everyone has their own TCLab and dataset, everyone\n",
    "# should have a slightly different answer.\n",
    "\n",
    "# Add your solution here"
   ]
  },
  {
   "cell_type": "markdown",
   "metadata": {},
   "source": [
    "## Exercise 5. Fit First-Order Model via Nonlinear Regression"
   ]
  },
  {
   "cell_type": "markdown",
   "metadata": {},
   "source": [
    "Next, you will fit the first-order linear model using nonlinear regression. Hint: You practiced using `least_squares` in Homework 1."
   ]
  },
  {
   "cell_type": "code",
   "execution_count": null,
   "metadata": {},
   "outputs": [],
   "source": [
    "from scipy.optimize import least_squares\n",
    "\n",
    "def first_order_model(p):\n",
    "    '''\n",
    "    Predict the temperature of a first order system.\n",
    "\n",
    "    Arguments:\n",
    "        p: list of parameters [tau, K]\n",
    "    \n",
    "    Returns:\n",
    "        T1_pred: predicted temperature (deg C)\n",
    "    \n",
    "    '''\n",
    "\n",
    "    # Unpack the parameters\n",
    "    K, tau = p\n",
    "\n",
    "    return predict_first_order(data, K=K, tau=tau, plot=False)\n",
    "\n",
    "\n",
    "# Add your solution here"
   ]
  },
  {
   "cell_type": "code",
   "execution_count": null,
   "metadata": {},
   "outputs": [],
   "source": [
    "# Print the result here with units and a reasonable number of significant digits.\n",
    "\n",
    "# Add your solution here\n",
    "\n",
    "# Plot the results\n",
    "\n",
    "# Add your solution here"
   ]
  },
  {
   "cell_type": "markdown",
   "metadata": {},
   "source": [
    "How do these results compare to your \"by hand\" trial-and-error fitting? Write 1 to 3 sentences.\n",
    "\n",
    "*Answer*: "
   ]
  },
  {
   "cell_type": "markdown",
   "metadata": {},
   "source": [
    "## Exercise 5. State-Space Model\n",
    "\n",
    "A first-order model in gain/time constant form is given by\n",
    "\n",
    "$$\\tau\\frac{dx}{dt} = - x + K u $$\n",
    "\n",
    "Where $x$ is the state variable. Again letting $x = T_1 - T_{amb}$ and $u = u_1$  Comparing this model of a first order system to the model given up for the heater/sensor assembly.\n",
    "\n",
    "Do the following:\n",
    "* Derive expressions for the parameters $\\tau$ and $K$ in terms of $C_p$, $U_a$, $\\alpha$, and $P_1$. \n",
    "* Assume $\\alpha = 0.16$ milliwatts per unit of $P1$ per percent. Solve for estimates of $C_p$ and $U_a$. \n",
    "\n",
    "Remember: Everyone has their own TCLab device, which means everyone has their own unique data. As such, everyone should have slightly different calculated values for $C_p$ and $U_a$."
   ]
  },
  {
   "cell_type": "markdown",
   "metadata": {},
   "source": [
    "*Answer*: "
   ]
  },
  {
   "cell_type": "markdown",
   "metadata": {},
   "source": [
    "## Exercise 6. Discussion\n",
    "\n",
    "Below discuss issues you would face in writing a Python function to automatically fit the model of the heater/sensor assembly to step test data. For each question, please write a few sentences.\n",
    "\n",
    "**How can you measure the quality of fit?**\n",
    "\n",
    "*Answer*: \n",
    "\n",
    "**How should one handle bad measurements?**\n",
    "\n",
    "*Answer*: \n",
    "\n",
    "**What parameters should be fit?**\n",
    "\n",
    "*Answer*: \n",
    "\n",
    "**How can you estimate uncertainty in the estimates of $C_p$ and $U_a$?**\n",
    "\n",
    "*Answer*: \n",
    "\n",
    "**Is it possible to estimate $U_a$ from a steady state experiment?**\n",
    "\n",
    "*Answer*: \n",
    "\n",
    "**Is is possible to estimate $C_p$ from a steady state experiment?**\n",
    "\n",
    "*Answer*: \n"
   ]
  },
  {
   "cell_type": "markdown",
   "metadata": {},
   "source": [
    "## Declarations\n",
    "\n",
    "**Collaboration**: If you worked with any classmates, please give their names here. Describe the nature of the collaboration.\n",
    "\n",
    "**Generative AI**: If you used any Generative AI tools, please elaborate here.\n",
    "\n",
    "**Reminder:** The written discussions responses must be in your own words. Many of these questions ask about your specific results or are open-ended questions with many reasonable answers. Thus we expect unique responses, analyses, and ideas.\n",
    "\n",
    "We may use writing analysis software to check for overly similar written responses. You are responsible for reviewing the colaboration policy outlined in the class syllabus to avoid violations of the honor code."
   ]
  },
  {
   "cell_type": "markdown",
   "metadata": {},
   "source": []
  }
 ],
 "metadata": {
  "kernelspec": {
   "display_name": "controls",
   "language": "python",
   "name": "python3"
  },
  "language_info": {
   "codemirror_mode": {
    "name": "ipython",
    "version": 3
   },
   "file_extension": ".py",
   "mimetype": "text/x-python",
   "name": "python",
   "nbconvert_exporter": "python",
   "pygments_lexer": "ipython3",
   "version": "3.10.16"
  }
 },
 "nbformat": 4,
 "nbformat_minor": 4
}
