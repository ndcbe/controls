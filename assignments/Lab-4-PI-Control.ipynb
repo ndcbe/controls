{
 "cells": [
  {
   "cell_type": "markdown",
   "metadata": {},
   "source": [
    "# Lab 4: PI Control\n",
    "\n",
    "\n",
    "\n",
    "This lab assignment introduces the use of proportional-integral (PI) control for the temperature control laboratory. In this assignment, you will: \n",
    "\n",
    "* use your mathematical model to tune a PI controller\n",
    "* test a few variants of the PI controller\n",
    "* compare your PI (this lab) and relay (Lab 3) controllers\n",
    "* analyze your data and answer discussion questions\n"
   ]
  },
  {
   "cell_type": "markdown",
   "metadata": {},
   "source": [
    "**Note:** This is a DRAFT of the assignment. It is still being proofread, updated, and refined."
   ]
  },
  {
   "cell_type": "code",
   "execution_count": null,
   "metadata": {},
   "outputs": [],
   "source": [
    "# Set default parameters for publication quality plots\n",
    "import matplotlib.pyplot as plt\n",
    "\n",
    "SMALL_SIZE = 14\n",
    "MEDIUM_SIZE = 16\n",
    "BIGGER_SIZE = 18\n",
    "\n",
    "plt.rc(\"font\", size=SMALL_SIZE)  # controls default text sizes\n",
    "plt.rc(\"axes\", titlesize=SMALL_SIZE)  # fontsize of the axes title\n",
    "plt.rc(\"axes\", labelsize=MEDIUM_SIZE)  # fontsize of the x and y labels\n",
    "plt.rc(\"xtick\", labelsize=SMALL_SIZE)  # fontsize of the tick labels\n",
    "plt.rc(\"ytick\", labelsize=SMALL_SIZE)  # fontsize of the tick labels\n",
    "plt.rc(\"legend\", fontsize=SMALL_SIZE)  # legend fontsize\n",
    "plt.rc(\"figure\", titlesize=BIGGER_SIZE)  # fontsize of the figure title\n",
    "plt.rc(\"lines\", linewidth=3)"
   ]
  },
  {
   "cell_type": "markdown",
   "metadata": {},
   "source": [
    "## Exercise 0. Model-based Controller Tuning\n",
    "\n",
    "In this pre-lab exercise, you will use your mathematical model from Lab 2 to design and compare PI controllers. Specifically, you should:\n",
    "- Read this entire assignment.\n",
    "- Review your notes on [PI controllers](https://ndcbe.github.io/controls/notebooks/3/Proportional-Integral-Control.html) including [advanced features](https://ndcbe.github.io/controls/notebooks/3/Integral-Windup-and-Bumpless-Transfer.html)\n",
    "- Review your notes on [stability analysis](https://ndcbe.github.io/controls/notebooks/3/PI-Controller-Analysis.html)\n",
    "- Review your notes on [numerically simulating LTI systems](https://ndcbe.github.io/controls/notebooks/3/Relay-Control.html) with a controller"
   ]
  },
  {
   "cell_type": "markdown",
   "metadata": {},
   "source": [
    "### Mathematical Modeling for PI Controller\n",
    "\n",
    "On paper, write the mathematical model, e.g., system of differential and algebraic equations, for either the position-form or velocity-form PI controller. Next, transform your equations into a state-space linear time-invariant (LTI) systems model using the matrices $\\mathbf{A}$, $\\mathbf{B}$, $\\mathbf{C}$, and $\\mathbf{D}$. You will turn in this work as a PDF. Please bring it to the lab sessions and office hours."
   ]
  },
  {
   "cell_type": "markdown",
   "metadata": {},
   "source": [
    "### Analyze Stability of PI Controller\n",
    "\n",
    "Next, write Python code to analyze the sensitivity of the eigenvalues of your system as a function of $K_P$ and $K_I$. Please consult the linked class notes above. You should use the model parameters $U_a$, $U_b$, $C_p^H$, and $C_p^S$ from Lab 2 in your analysis."
   ]
  },
  {
   "cell_type": "code",
   "execution_count": null,
   "metadata": {},
   "outputs": [],
   "source": [
    "import matplotlib.pyplot as plt\n",
    "import numpy as np\n",
    "from scipy.linalg import eig\n",
    "\n",
    "# parameters\n",
    "T_amb = 21  # deg C\n",
    "alpha = 0.00016  # watts / (units P1 * percent U1)\n",
    "P1 = 100  # P1 units\n",
    "U1 = 50  # steady state value of u1 (percent)\n",
    "\n",
    "# fitted model parameters\n",
    "# adjust using your values from Lab 2\n",
    "Ua = 0.050  # watts/deg C\n",
    "Ub = 0.097  # watts/deg C\n",
    "CpH = 2.274  # joules/deg C\n",
    "CpS = 5.046  # joules/deg C\n",
    "\n",
    "\n",
    "# Add your solution here"
   ]
  },
  {
   "cell_type": "markdown",
   "metadata": {},
   "source": [
    "Next, interpret your plots by identifying controller gains that are (a) stable and oscillatory and (b) stable and non-oscillatory. Fill in the table below to record your answer.\n",
    "\n",
    "*Answer*: \n",
    "\n",
    "| | $K_P$ | $K_I$ |\n",
    "| -- | -- | -- |\n",
    "| Stable and Oscillatory | | |\n",
    "| Stable and Non-oscillatory | | |"
   ]
  },
  {
   "cell_type": "markdown",
   "metadata": {},
   "source": [
    "### Plot Control Profiles\n",
    "\n",
    "Complete the functions below to generate the `simple` and `chocolate` temperature setpoints for channel 1 (T1) from Lab 3."
   ]
  },
  {
   "cell_type": "code",
   "execution_count": null,
   "metadata": {},
   "outputs": [],
   "source": [
    "def SP1_simple(t):\n",
    "    \"\"\"Set point definition for T1\n",
    "    Arguments:\n",
    "        t: time (s)\n",
    "    Returns:\n",
    "        set point of T1\n",
    "    \"\"\"\n",
    "    # Add your solution here\n",
    "\n",
    "\n",
    "def SP1_chocolate(t):\n",
    "    \"\"\"Set point definition for T1\n",
    "    Arguments:\n",
    "        t: time (s)\n",
    "    Returns:\n",
    "        set point of T1\n",
    "    \"\"\"\n",
    "    # Add your solution here\n",
    "\n",
    "\n",
    "# Note: we will not use this function until Exercise 5\n",
    "def SP2_chocolate(t):\n",
    "    \"\"\"Set point definition for T2\n",
    "    Arguments:\n",
    "        t: time (s)\n",
    "    Returns:\n",
    "        set point of T2\n",
    "    \"\"\"\n",
    "    return 30\n",
    "\n",
    "\n",
    "# Define time\n",
    "dt = 1\n",
    "t = np.arange(0, 600, dt)\n",
    "\n",
    "# Evaluate set points\n",
    "T_simple = [SP1_simple(ti) for ti in t]\n",
    "T_chocolate = [SP1_chocolate(ti) for ti in t]\n",
    "\n",
    "# Plot set points\n",
    "plt.figure()\n",
    "plt.plot(t, T_simple, label=\"Simple\")\n",
    "plt.plot(t, T_chocolate, label=\"Chocolate\")\n",
    "plt.xlabel(\"Time (s)\")\n",
    "plt.ylabel(\"Set Point (deg C)\")\n",
    "plt.legend()\n",
    "plt.show()"
   ]
  },
  {
   "cell_type": "markdown",
   "metadata": {},
   "source": [
    "### Simulate PI Controllers"
   ]
  },
  {
   "cell_type": "markdown",
   "metadata": {},
   "source": [
    "Complete the following function to simulate the PI controller. Again, use the model parameters for your TCLab."
   ]
  },
  {
   "cell_type": "code",
   "execution_count": null,
   "metadata": {},
   "outputs": [],
   "source": [
    "import pandas as pd\n",
    "from scipy.signal import cont2discrete\n",
    "\n",
    "\n",
    "def plot_tclab_results(data, title=None,SP1=None, SP2=None):\n",
    "    ''' Plot results from TCLab simulation or experiment (saved to csv then loaded)\n",
    "    Arguments:\n",
    "        data: DataFrame with columns for Time, T1, T2, Q1, Q2\n",
    "        title: plot title (default: \"\")\n",
    "        SP1: function for channel 1 setpoint (default: None)\n",
    "        SP2: function for channel 2 setpoint (default: None)\n",
    "        \n",
    "    Returns:\n",
    "        nothing\n",
    "\n",
    "    '''\n",
    "\n",
    "    time = data[\"Time\"]\n",
    "    n = len(time)\n",
    "\n",
    "    if \"SP1\" in data.columns:\n",
    "        setpoint_1 = data[\"SP1\"]\n",
    "    elif SP1 is not None:\n",
    "        setpoint_1 = SP1(data[\"Time\"])\n",
    "    else:\n",
    "        setpoint_1 = [None] * n\n",
    "\n",
    "    if \"T1H\" in data.columns:\n",
    "        t1h = data[\"T1H\"]\n",
    "    else:\n",
    "        t1h = [None] * n\n",
    "\n",
    "    if \"T1S\" in data.columns:\n",
    "        t1s = data[\"T1S\"]\n",
    "    elif \"T1\" in data.columns:\n",
    "        t1s = data[\"T1\"]\n",
    "    else:\n",
    "        t1s = [None] * n\n",
    "\n",
    "    if title is not None:\n",
    "        plt.title(\"Channel 1: \" + title)\n",
    "    plt.step(data[\"Time\"], t1h, label=\"T1H\", color='red', linestyle=\"--\")\n",
    "    plt.step(data[\"Time\"], t1s, label=\"T1S\", color='blue', linestyle=\"-\")\n",
    "    plt.step(\n",
    "        data[\"Time\"],\n",
    "        setpoint_1,\n",
    "        label=\"SP1\",\n",
    "        linestyle=\"-.\",\n",
    "        color=\"black\",\n",
    "        alpha=0.5,\n",
    "    )\n",
    "    plt.ylabel(\"Temperature (C)\")\n",
    "    plt.xlabel(\"Time (s)\")\n",
    "    plt.legend()\n",
    "    plt.grid()\n",
    "    plt.show()\n",
    "\n",
    "    if \"SP2\" in data.columns:\n",
    "        setpoint_2 = data[\"SP2\"]\n",
    "    elif SP2 is not None:\n",
    "        setpoint_2 = SP2(data[\"Time\"])\n",
    "    else:\n",
    "        setpoint_2 = [None] * n\n",
    "\n",
    "    if \"T2H\" in data.columns:\n",
    "        t2h = data[\"T2H\"]\n",
    "    else:\n",
    "        t2h = [None] * n\n",
    "\n",
    "    if \"T2S\" in data.columns:\n",
    "        t2s = data[\"T2S\"]\n",
    "    elif \"T2\" in data.columns:\n",
    "        t2s = data[\"T2\"]\n",
    "    else:\n",
    "        t2s = [None] * n\n",
    "\n",
    "\n",
    "    if t2s[0] is not None:\n",
    "        # Skip the channel 2 plot if there are no data\n",
    "\n",
    "        if title is not None:\n",
    "            plt.title(\"Channel 2: \" + title)\n",
    "        plt.step(data[\"Time\"], t2h, label=\"T2H\", linestyle=\"--\", color='purple')\n",
    "        plt.step(data[\"Time\"], t2s, label=\"T2S\", linestyle=\"-\", color='green')\n",
    "        plt.step(\n",
    "            data[\"Time\"],\n",
    "            setpoint_2,\n",
    "            label=\"SP2\",\n",
    "            linestyle=\"-.\",\n",
    "            color=\"black\",\n",
    "            alpha=0.5,\n",
    "        )\n",
    "        plt.ylabel(\"Temperature (C)\")\n",
    "        plt.xlabel(\"Time (s)\")\n",
    "        plt.legend()\n",
    "        plt.grid()\n",
    "        plt.show()\n",
    "\n",
    "    if \"Q1\" in data.columns:\n",
    "        q1 = data[\"Q1\"]\n",
    "    else:\n",
    "        q1 = [None] * n\n",
    "\n",
    "    if \"Q2\" in data.columns:\n",
    "        q2 = data[\"Q2\"]\n",
    "    else:\n",
    "        q2 = [None] * n\n",
    "\n",
    "    if title is not None:\n",
    "        plt.title(\"Heaters: \" + title)\n",
    "    plt.step(data[\"Time\"], q1, label=\"Q1\", color='red')\n",
    "    plt.step(data[\"Time\"], q2, label=\"Q2\", color='purple')\n",
    "    plt.xlabel(\"Time (s)\")\n",
    "    plt.ylabel(\"Power Level (%)\")\n",
    "    plt.legend()\n",
    "    plt.grid()\n",
    "    plt.show()\n",
    "\n",
    "def tclab_simulate_PI(\n",
    "    t, setpoint, Kp=1.0, Ki=0.05, U_start=0, mode=\"position\", verbose=False, plot=True\n",
    "):\n",
    "    \"\"\"Simulate the TCLab system with PI control\n",
    "    Arguments:\n",
    "        Kp: the proportional control gain\n",
    "        Ki: the integral control gain\n",
    "        U_start: the initial heater value (same as MV_bar in class notes)\n",
    "        mode: 'position' or 'velocity' form of PI control\n",
    "        verbose: print matrices, default is False\n",
    "        plot: create plots, default is True\n",
    "\n",
    "    Returns:\n",
    "        data: DataFrame with columns for Time, T1, T2, Q1, Q2\n",
    "    \"\"\"\n",
    "\n",
    "    n = len(t)\n",
    "    T_set = np.array([setpoint(ti) - T_amb for ti in t])\n",
    "\n",
    "    # Original open loop state space model\n",
    "    A = np.array([[-(Ua + Ub) / CpH, Ub / CpH], [Ub / CpS, -Ub / CpS]])\n",
    "    B = np.array([[alpha * P1 / CpH], [0]])\n",
    "    C = np.array([[0, 1]])\n",
    "    D = np.array([[0]])\n",
    "\n",
    "    Ad, Bd, Cd, Dd, dt = cont2discrete((A, B, C, D), dt=1, method=\"zoh\")\n",
    "\n",
    "    # Initialize state matrix\n",
    "    # Recall that temperatures are in deviation variables, i.e., T - T_amb\n",
    "    X = np.zeros((n, 2))\n",
    "\n",
    "    # Initialize input matrix\n",
    "    U = np.zeros((n, 1))\n",
    "    U[0, 0] = U_start\n",
    "\n",
    "    # Initialize previous error (for velocity form)\n",
    "    prev_error = 0\n",
    "\n",
    "    # Initialize integral of error (for position form)\n",
    "    integral_error = 0\n",
    "\n",
    "    # Loop over time steps\n",
    "    for i in range(n):\n",
    "\n",
    "        # Current state\n",
    "        x = X[i, :]\n",
    "\n",
    "        # Unpack into individual states\n",
    "        T1H, T1S = x\n",
    "\n",
    "        error = T_set[i] - T1S\n",
    "\n",
    "        if i > 0:\n",
    "            dt = t[i] - t[i - 1]\n",
    "\n",
    "            if mode == \"position\":\n",
    "                # Add your solution here\n",
    "\n",
    "            elif mode == \"velocity\":\n",
    "                # Add your solution here\n",
    "\n",
    "        # Limit the power levels\n",
    "        U[i, 0] = max(0, min(100, U[i, 0]))\n",
    "\n",
    "        # Update state\n",
    "        if i < n - 1:\n",
    "            # Do not update the state for the last time step\n",
    "            # We want to update U and SP for plotting\n",
    "            X[i + 1, :] = Ad @ x + Bd @ U[i, :]\n",
    "\n",
    "        # Store the previous error\n",
    "        # (needed for velocity form)\n",
    "        prev_error = error\n",
    "\n",
    "    # Shift states from deviation variables to absolute values\n",
    "    X += T_amb\n",
    "\n",
    "    # Create DataFrame\n",
    "    data = pd.DataFrame(X, columns=[\"T1H\", \"T1S\"])\n",
    "    data[\"Time\"] = t\n",
    "    data[\"Q1\"] = U[:, 0]\n",
    "    data[\"SP1\"] = T_set + T_amb\n",
    "\n",
    "    if plot:\n",
    "        plot_tclab_results(data, title=\"Simulated PI Control with Kp={}, Ki={}\".format(Kp, Ki))\n",
    "\n",
    "    return data"
   ]
  },
  {
   "cell_type": "markdown",
   "metadata": {},
   "source": [
    "### Stable and Non-Oscillatory (Less Aggressive)"
   ]
  },
  {
   "cell_type": "markdown",
   "metadata": {},
   "source": [
    "Analyze your stability analysis plot to choose a value of $K_P$ and $K_I$ that is stable and should NOT oscillate. Record your answer below.\n",
    "\n",
    "$K_P = $\n",
    "\n",
    "$K_I = $"
   ]
  },
  {
   "cell_type": "markdown",
   "metadata": {},
   "source": [
    "Using your function, simulate the **position-form** controller for the **simple** temperature setpoint."
   ]
  },
  {
   "cell_type": "code",
   "execution_count": null,
   "metadata": {},
   "outputs": [],
   "source": [
    "# Position form simulation (keep U_start = 0)\n",
    "# Hint: store the results in p1 (dataframe)\n",
    "# Add your solution here"
   ]
  },
  {
   "cell_type": "markdown",
   "metadata": {},
   "source": [
    "Copy your code from Lab 3 to compute the tracking error and run it on your simulation data."
   ]
  },
  {
   "cell_type": "code",
   "execution_count": null,
   "metadata": {},
   "outputs": [],
   "source": [
    "def compute_tracking_error(data, SP1, SP2=None):\n",
    "    \"\"\"Compute the tracking error between the set point and the data\n",
    "\n",
    "    Arguments:\n",
    "        data: dataframe with columns for T1 and T2\n",
    "        SP1: function that returns setpoint for T1\n",
    "        SP2: function that returns setpoint for T2, default None\n",
    "\n",
    "    Returns:\n",
    "        rmse1: root mean square error for T1\n",
    "        rmse2: root mean square error for T2\n",
    "        ame1: absolute mean error for T1\n",
    "        ame2: absolute mean error for T2\n",
    "    \"\"\"\n",
    "\n",
    "    # Add your solution here"
   ]
  },
  {
   "cell_type": "code",
   "execution_count": null,
   "metadata": {},
   "outputs": [],
   "source": [
    "compute_tracking_error(p1, SP1_simple)"
   ]
  },
  {
   "cell_type": "markdown",
   "metadata": {},
   "source": [
    "Next, simulate the **velocity-form controller** for the **simple** temperature profile using the same values of $K_I$ and $K_P$. Keep `U_start = 0`."
   ]
  },
  {
   "cell_type": "code",
   "execution_count": null,
   "metadata": {},
   "outputs": [],
   "source": [
    "# Velocity form simulation (keep U_start = 0)\n",
    "# Add your solution here\n",
    "compute_tracking_error(p2, SP1_simple)"
   ]
  },
  {
   "cell_type": "markdown",
   "metadata": {},
   "source": [
    "Now, repeat the simulation, but choose `U_start` greater than zero."
   ]
  },
  {
   "cell_type": "code",
   "execution_count": null,
   "metadata": {},
   "outputs": [],
   "source": [
    "# Add your solution here\n",
    "compute_tracking_error(p3, SP1_simple)"
   ]
  },
  {
   "cell_type": "markdown",
   "metadata": {},
   "source": [
    "Next, simulate the **position-form** PI controller (using the same $K_P$ and $K_I$) for the **chocolate** temperature profile."
   ]
  },
  {
   "cell_type": "code",
   "execution_count": null,
   "metadata": {},
   "outputs": [],
   "source": [
    "# Position-form\n",
    "# Add your solution here\n",
    "compute_tracking_error(p4, SP1_chocolate)"
   ]
  },
  {
   "cell_type": "markdown",
   "metadata": {},
   "source": [
    "Finally, simulate the **velocity-form** PI controller for the **chocolate** temperature setpoint. You can adjust `U_start`."
   ]
  },
  {
   "cell_type": "code",
   "execution_count": null,
   "metadata": {},
   "outputs": [],
   "source": [
    "# Velocity form\n",
    "# Add your solution here\n",
    "compute_tracking_error(p5, SP1_chocolate)"
   ]
  },
  {
   "cell_type": "markdown",
   "metadata": {},
   "source": [
    "### Stable and Oscillatory (More Aggressive)"
   ]
  },
  {
   "cell_type": "markdown",
   "metadata": {},
   "source": [
    "Analyze your stability analysis plot to choose a value of $K_P$ and $K_I$ that is stable and oscillates. Record your answer below. You will likely choose larger controller gains (more aggressive).\n",
    "\n",
    "$K_P = $\n",
    "\n",
    "$K_I = $"
   ]
  },
  {
   "cell_type": "markdown",
   "metadata": {},
   "source": [
    "Simulate the **position-form** controller for the **simple** temperature profile using the newly selected $K_P$ and $K_I$."
   ]
  },
  {
   "cell_type": "code",
   "execution_count": null,
   "metadata": {},
   "outputs": [],
   "source": [
    "# Position form\n",
    "# Add your solution here\n",
    "compute_tracking_error(p6, SP1_simple)"
   ]
  },
  {
   "cell_type": "markdown",
   "metadata": {},
   "source": [
    "Next, simulate the **velocity-form** controller for the **simple** temperature profile. You may adjust `U_start`."
   ]
  },
  {
   "cell_type": "code",
   "execution_count": null,
   "metadata": {},
   "outputs": [],
   "source": [
    "# Add your solution here\n",
    "compute_tracking_error(p7, SP1_simple)"
   ]
  },
  {
   "cell_type": "markdown",
   "metadata": {},
   "source": [
    "Next, simulate the **position-form** PI controller for the **chocolate** tempering profile."
   ]
  },
  {
   "cell_type": "code",
   "execution_count": null,
   "metadata": {},
   "outputs": [],
   "source": [
    "# Position form\n",
    "# Add your solution here\n",
    "compute_tracking_error(p8, SP1_chocolate)"
   ]
  },
  {
   "cell_type": "markdown",
   "metadata": {},
   "source": [
    "Finally, simulate the **velocity-form** PI controller for the **chocolate** temperature profile. You may adjust `U_start`."
   ]
  },
  {
   "cell_type": "code",
   "execution_count": null,
   "metadata": {},
   "outputs": [],
   "source": [
    "# Velocity form\n",
    "# Add your solution here\n",
    "compute_tracking_error(p9, SP1_chocolate)"
   ]
  },
  {
   "cell_type": "markdown",
   "metadata": {},
   "source": [
    "### Discussion\n",
    "\n",
    "Analyze the nine simulations above. First, fill in the following table.\n",
    "\n",
    "| Controller | Profile | Notes | RMSE (C) | AME (C) |\n",
    "| - | - | - | - | - |\n",
    "| Position | Simple | Original Gains | | |\n",
    "| Velocity | Simple | Original Gains (`U_start` = 0) | | | \n",
    "| Velocity | Simple | Original Gains (`U_start` > 0) | | | \n",
    "| Position | Chocolate | Original Gains | | |\n",
    "| Velocity | Chocolate | Original Gains | | |\n",
    "| Position | Simple | Aggressive Gains | | |\n",
    "| Velocity | Simple | Aggressive Gains (`U_start` > 0) | | | \n",
    "| Position | Chocolate | Aggressive Gains | | |\n",
    "| Velocity | Chocolate | Aggressive Gains | | |\n",
    "\n",
    "\n",
    "Next, distill this table and the above simulation results into three to five key observations. For each observation, write a bullet point that is at least one sentence. Be quantitative, i.e., use numbers and supporting calculations to justify your observations."
   ]
  },
  {
   "cell_type": "markdown",
   "metadata": {},
   "source": [
    "*Answer*: "
   ]
  },
  {
   "cell_type": "markdown",
   "metadata": {},
   "source": [
    "### Controller Tuning\n",
    "\n",
    "Based on your observations above, choose either a position-form or velocity-form PI controller. Next, using simulations, fine-tune the controller gains (and optionally `U_start`) to minimize the tracking error for the **chocolate** temperature profile.\n",
    "\n",
    "You may do this by trial and error. If you are adventurous, consider trying to use [`scipy.optimize.minimize`](https://docs.scipy.org/doc/scipy/reference/generated/scipy.optimize.minimize.html) with bounds. Recall that in Lab 3, you already wrote code to calculate the tracking error."
   ]
  },
  {
   "cell_type": "code",
   "execution_count": null,
   "metadata": {},
   "outputs": [],
   "source": [
    "# Add your solution here"
   ]
  },
  {
   "cell_type": "markdown",
   "metadata": {},
   "source": [
    "## Exercise 1. Position-Form PI Control with the Digital Twin"
   ]
  },
  {
   "cell_type": "markdown",
   "metadata": {},
   "source": [
    "Implement position-form PI control with the TCLab using `connected=False` (simulation/digital twin mode) for the **chocolate** temperature profile. You can find almost complete code in the class assigments. Using trial and error, adjust $K_P$ and $K_I$.\n",
    "\n",
    "Note: In Exercise 0, you analyzed the your own TCLab using $U_a$, $U_b$, $C_p^S$, and $C_p^H$ you fit in Lab 2. The digital twin mode does NOT use the same model parameters. Thus, do not be surprised if you find different $K_P$ and $K_I$ parameters."
   ]
  },
  {
   "cell_type": "code",
   "execution_count": null,
   "metadata": {},
   "outputs": [],
   "source": [
    "from tclab import setup, clock, Historian, Plotter"
   ]
  },
  {
   "cell_type": "code",
   "execution_count": null,
   "metadata": {},
   "outputs": [],
   "source": [
    "def PI_position(Kp=1, Ki=0, MV_bar=0, antiwindup=True):\n",
    "    \"\"\"Position-form proportion-integral\n",
    "\n",
    "    Arguments:\n",
    "        Kp: proportional gain\n",
    "        Ki: integral gain\n",
    "        MV_bar: bias\n",
    "\n",
    "    \"\"\"\n",
    "\n",
    "    # Minimum and maximum bounds for manipulated variables\n",
    "    MV_min = 0\n",
    "    MV_max = 100\n",
    "\n",
    "    # Initialize with MV_bar\n",
    "    MV = MV_bar\n",
    "\n",
    "    # Initialize integral\n",
    "    I = 0\n",
    "\n",
    "    # Set limits for integral windup protection\n",
    "    I_max = 100\n",
    "    I_min = -100\n",
    "\n",
    "    while True:\n",
    "        t_step, SP, PV, MV = yield MV\n",
    "\n",
    "        # Add your solution here\n",
    "\n",
    "\n",
    "def PI_velocity(Kp=1, Ki=0, MV_bar=0, bumpless=True):\n",
    "    \"\"\"Velocity-form proportion-integral controller\n",
    "\n",
    "    Arguments:\n",
    "        Kp: proportional gain\n",
    "        Ki: integral gain\n",
    "        MV_bar: bias\n",
    "\n",
    "    Note: This implements:\n",
    "    - Type 1 anti-windup (velocity form) with MV limits\n",
    "    - Type 2 anti-windup (using MV)\n",
    "    - Bumpless transfer\n",
    "\n",
    "    \"\"\"\n",
    "\n",
    "    # Initialize previous error as zero\n",
    "    e_prev = 0\n",
    "    PV_prev = None\n",
    "\n",
    "    # Define upper and lower bounds for MV\n",
    "    MV_min = 0\n",
    "    MV_max = 100\n",
    "\n",
    "    # Initialize MV with MV_bar\n",
    "    MV = MV_bar\n",
    "\n",
    "    first_pass = True\n",
    "\n",
    "    # Infinite loop for the controller\n",
    "    while True:\n",
    "        # Yield MV and wait for new t_step, SP, and PV\n",
    "        t_step, SP, PV, MV = yield MV\n",
    "\n",
    "        if first_pass:\n",
    "            # Initialize MV with MV_bar\n",
    "            MV = MV_bar\n",
    "            first_pass = False\n",
    "\n",
    "        # Calculate error\n",
    "        e = SP - PV\n",
    "\n",
    "        # Apply the velocity form of the PI controller\n",
    "        if bumpless and PV_prev is not None:\n",
    "            # Bumpless transfer\n",
    "            # Add your solution here\n",
    "        else:\n",
    "            # Standard form\n",
    "            # Add your solution here\n",
    "\n",
    "        # Apply upper and lower bounds\n",
    "        # ** disabled for this simple controller, important later **\n",
    "        MV = max(MV_min, min(MV_max, MV))  # Apply upper and lower bounds\n",
    "\n",
    "        # Store the current error for the next iteration\n",
    "        e_prev = e\n",
    "\n",
    "        # Store the current PV for bumpless transfer\n",
    "        PV_prev = PV"
   ]
  },
  {
   "cell_type": "code",
   "execution_count": null,
   "metadata": {},
   "outputs": [],
   "source": [
    "# Create and initialize the PI controller\n",
    "# Add your solution here\n",
    "controller1.send(None)\n",
    "\n",
    "\n",
    "def run_tclab(\n",
    "    control1,\n",
    "    filename,\n",
    "    control2=None,\n",
    "    connected=False,\n",
    "    disturbance=None,\n",
    "    tfinal=600,\n",
    "    t_step=1,\n",
    "):\n",
    "    \"\"\"Run the PI controller with the TCLab\n",
    "\n",
    "    Arguments:\n",
    "        control1: PI controller for channel 1\n",
    "        filename: name of the csv file to save the results\n",
    "        control2: PI controller for channel 2 (default, None)\n",
    "        connected: if True, connect to the real device, otherwise simulate (default)\n",
    "        disturbance: function that returns a disturbance value\n",
    "        tfinal: final time, seconds\n",
    "        t_step: time step, seconds\n",
    "\n",
    "    \"\"\"\n",
    "\n",
    "    assert (\n",
    "        control2 is None or disturbance is None\n",
    "    ), \"Cannot have both control2 and disturbance\"\n",
    "\n",
    "    # Connect to the TCLab\n",
    "    if connected:\n",
    "        TCLab = setup(connected=True)\n",
    "    else:\n",
    "        TCLab = setup(connected=False, speedup=500)\n",
    "\n",
    "    with TCLab() as lab:\n",
    "        # Create the historian and plotter\n",
    "\n",
    "        if control2 is None:\n",
    "            sources = [\n",
    "                (\"T1\", lambda: lab.T1),\n",
    "                (\"T2\", lambda: lab.T2),\n",
    "                (\"SP1\", lambda: SP1_chocolate(t)),\n",
    "                (\"Q1\", lab.Q1),\n",
    "                (\"Q2\", lab.Q2),\n",
    "            ]\n",
    "\n",
    "        else:\n",
    "            sources = [\n",
    "                (\"T1\", lambda: lab.T1),\n",
    "                (\"T2\", lambda: lab.T2),\n",
    "                (\"SP1\", lambda: SP1_chocolate(t)),\n",
    "                (\"SP2\", lambda: SP2_chocolate(t)),\n",
    "                (\"Q1\", lab.Q1),\n",
    "                (\"Q2\", lab.Q2),\n",
    "            ]\n",
    "\n",
    "        h = Historian(sources)\n",
    "\n",
    "        if control2 is None:\n",
    "            p = Plotter(h, tfinal, layout=((\"T1\", \"SP1\", \"T2\"), (\"Q1\", \"Q2\")))\n",
    "        else:\n",
    "            p = Plotter(h, tfinal, layout=((\"T1\", \"SP1\"), (\"T2\", \"SP2\"), (\"Q1\", \"Q2\")))\n",
    "\n",
    "        # Loop over time\n",
    "        for t in clock(tfinal, t_step):\n",
    "\n",
    "            # get the set point\n",
    "            SP1 = SP1_chocolate(t)\n",
    "\n",
    "            # measure the the process variable\n",
    "            PV1 = lab.T1\n",
    "\n",
    "            # measure the manipulated variable\n",
    "            # this negates MV_bar in the controller (velocity form)\n",
    "            MV1 = lab.Q1()\n",
    "\n",
    "            # send the current time, set point, and process variable to the controller\n",
    "            # compute the control action\n",
    "            MV1 = control1.send([t_step, SP1, PV1, MV1])\n",
    "\n",
    "            # set the heat power (actuate)\n",
    "            lab.Q1(MV1)\n",
    "\n",
    "            if control2 is not None:\n",
    "                SP2 = SP2_chocolate(t)\n",
    "                PV2 = lab.T2\n",
    "                MV2 = lab.Q2()\n",
    "                MV2 = control2.send([t_step, SP2, PV2, MV2])\n",
    "                lab.Q2(MV2)\n",
    "\n",
    "            elif disturbance is not None:\n",
    "                lab.Q2(disturbance(t))\n",
    "\n",
    "            # Log the data\n",
    "            p.update()\n",
    "\n",
    "        # This saves the results in case you accidentally overwrite the experiment\n",
    "        # After running this exercise, please find and save this csv file\n",
    "        h.to_csv(filename)\n",
    "\n",
    "    plt.show()\n",
    "\n",
    "    # It appears there is not an easy way to convert the historian to a dataframe\n",
    "    df = pd.read_csv(filename)\n",
    "\n",
    "    return df\n",
    "\n",
    "exp1 = run_tclab(controller1, \"lab4-digital-twin-PI-position.csv\", tfinal=600, t_step=1)\n"
   ]
  },
  {
   "cell_type": "code",
   "execution_count": null,
   "metadata": {},
   "outputs": [],
   "source": [
    "# Replot the results and compute the tracking error\n",
    "plot_tclab_results(exp1, title=\"PI Position Digital Twin\", SP1=SP1_chocolate)\n",
    "compute_tracking_error(exp1, SP1_chocolate)"
   ]
  },
  {
   "cell_type": "markdown",
   "metadata": {},
   "source": [
    "Complete the following table to document your trial and error fine tuning. For each experiment you conduct, record the value of $K_P$, $K_I$, and your notes. Each note should be at least one complete sentence.\n",
    "\n",
    "| $K_P$ | $K_I$ | Notes |\n",
    "| --- | --- | ---|\n",
    "| Fill in | Fill in | Fill in |\n",
    "| Fill in | Fill in | Fill in |\n",
    "\n",
    "Which experiment is your final choice of $K_I$ and $K_P$. Why did you choose those values? Please write a few sentences.\n",
    "\n",
    "*Answer*: "
   ]
  },
  {
   "cell_type": "markdown",
   "metadata": {},
   "source": [
    "## Exercise 2. Velocity-Form Control with Digital Twin\n",
    "\n",
    "Repeat Exercise 1, but using the velocity-form controller. Use the same values of $K_P$ and $K_I$ as Exercise 1. You may adjust `MV_bar` (which is the same as `U_start` in Exercise 0). Run this with `bumpless=False` (without bumpless)."
   ]
  },
  {
   "cell_type": "code",
   "execution_count": null,
   "metadata": {},
   "outputs": [],
   "source": [
    "# Create and initialize the PI controller\n",
    "# Add your solution here\n",
    "\n",
    "exp2 = run_tclab(controller2, \"lab4-digital-twin-PI-velocity.csv\", tfinal=600, t_step=1)\n"
   ]
  },
  {
   "cell_type": "code",
   "execution_count": null,
   "metadata": {},
   "outputs": [],
   "source": [
    "# Replot results and compute the tracking error\n",
    "plot_tclab_results(exp2, title=\"PI Velocity Digital Twin\", SP1=SP1_chocolate)\n",
    "\n",
    "compute_tracking_error(exp2, SP1_chocolate)"
   ]
  },
  {
   "cell_type": "markdown",
   "metadata": {},
   "source": [
    "Next, run the velocity-form controlled with the same values of $K_P$ and $K_I$ using `bumpless=True`."
   ]
  },
  {
   "cell_type": "code",
   "execution_count": null,
   "metadata": {},
   "outputs": [],
   "source": [
    "# Create and initialize the PI controller\n",
    "# Add your solution here\n",
    "\n",
    "exp3 = run_tclab(\n",
    "    controller3, \"lab4-digital-twin-PI-velocity-bumpless.csv\", tfinal=600, t_step=1\n",
    ")\n"
   ]
  },
  {
   "cell_type": "code",
   "execution_count": null,
   "metadata": {},
   "outputs": [],
   "source": [
    "# Replot results and compute the tracking error\n",
    "plot_tclab_results(exp3, title=\"PI Velocity Digital Twin with Bumpless Transfer\", SP1=SP1_chocolate)\n",
    "compute_tracking_error(exp3, SP1_chocolate)\n"
   ]
  },
  {
   "cell_type": "markdown",
   "metadata": {},
   "source": [
    "Write a few bullet points to describe the difference between the two results between the standard and bumpless implementations.\n",
    "\n",
    "*Answer*: "
   ]
  },
  {
   "cell_type": "markdown",
   "metadata": {},
   "source": [
    "Please write a few bullet points comparing your position-form and velocity-form simulation. What are the similarities and differences? Which controller do you prefer and why? Each bullet point should be one (and only one) thought.\n",
    "\n",
    "*Answer*: "
   ]
  },
  {
   "cell_type": "markdown",
   "metadata": {},
   "source": [
    "## Exercise 3. PI Controller on Hardware\n"
   ]
  },
  {
   "cell_type": "markdown",
   "metadata": {},
   "source": [
    "### Verify Device is at Ambient Temperature"
   ]
  },
  {
   "cell_type": "code",
   "execution_count": null,
   "metadata": {},
   "outputs": [],
   "source": [
    "# Check that the device is at steady state\n",
    "# length of check\n",
    "tfinal = 30  # seconds\n",
    "\n",
    "# Suggestion: set to False after you have completed this\n",
    "# exercise to prevent yourself from accidentally overwriting your results.\n",
    "# Students: you need to set this to True to run your code\n",
    "run_exercise_3 = False\n",
    "\n",
    "if run_exercise_3:\n",
    "\n",
    "    # Make sure this is connected=True\n",
    "    TCLab = setup(connected=True)\n",
    "\n",
    "    # perform experiment\n",
    "    with TCLab() as lab:\n",
    "        # No power to either heater\n",
    "        lab.U1 = 0\n",
    "        lab.U2 = 0\n",
    "\n",
    "        # Initialize plotter and historian\n",
    "        h = Historian(lab.sources)\n",
    "        p = Plotter(h, tfinal)\n",
    "\n",
    "        # Loop over time\n",
    "        for t in clock(tfinal):\n",
    "\n",
    "            # Take measurements and update plots\n",
    "            p.update(t)"
   ]
  },
  {
   "cell_type": "markdown",
   "metadata": {},
   "source": [
    "### Run Experiment with TCLab Hardware\n",
    "\n",
    "Implement a PI controller on your TCLab hardware. Choose the value of gains $K_P$ and $K_I$ you identified in Exercise 0."
   ]
  },
  {
   "cell_type": "code",
   "execution_count": null,
   "metadata": {},
   "outputs": [],
   "source": [
    "if run_exercise_3:\n",
    "    # Add your solution here\n",
    "\n",
    "    # Make sure this is connected=True\n",
    "    exp4 = run_tclab(\n",
    "        my_controller, \"lab4-exercise3.csv\", connected=True, tfinal=600, t_step=1\n",
    "    )\n",
    "\n",
    "    compute_tracking_error(exp4, SP1_chocolate)"
   ]
  },
  {
   "cell_type": "code",
   "execution_count": null,
   "metadata": {},
   "outputs": [],
   "source": [
    "# Load results from csv file\n",
    "exp4 = pd.read_csv(\"lab4-exercise3.csv\")\n",
    "\n",
    "# Replot results\n",
    "plot_tclab_results(exp4, title=\"PI Controller on Hardware\", SP1=SP1_chocolate)\n",
    "\n",
    "# Compute tracking error\n",
    "compute_tracking_error(exp4, SP1_chocolate)"
   ]
  },
  {
   "cell_type": "markdown",
   "metadata": {},
   "source": [
    "### Discussion\n",
    "\n",
    "For each of the following questions/prompts, write a few sentences. Your answers should be supported by your *quantitative* data."
   ]
  },
  {
   "cell_type": "markdown",
   "metadata": {},
   "source": [
    "How does the controller performance compare to the simulations using the model for your TCLab (Exercise 0)?\n",
    "\n",
    "*Answer*: "
   ]
  },
  {
   "cell_type": "markdown",
   "metadata": {},
   "source": [
    "Describe and explain the shape of the control signal, i.e., $Q_1(t)$. Do you see the effects of the proportional and integral terms in the control signal?\n",
    "\n",
    "*Answer*: "
   ]
  },
  {
   "cell_type": "markdown",
   "metadata": {},
   "source": [
    "When is the tracking error the greatest? Why does this make sense?\n",
    "\n",
    "*Answer*: "
   ]
  },
  {
   "cell_type": "markdown",
   "metadata": {},
   "source": [
    "*Quantitatively* compare the performance of the PI controller (this assignment) and your relay controller (Lab 3) for the chocolate tempering experiment.\n",
    "\n",
    "*Answer*: "
   ]
  },
  {
   "cell_type": "markdown",
   "metadata": {},
   "source": [
    "How can you improve the performance of the controller? Be creative.\n",
    "\n",
    "*Answer*: "
   ]
  },
  {
   "cell_type": "markdown",
   "metadata": {},
   "source": [
    "## Exercise 4. Comparison with Relay Control\n",
    "\n",
    "Next, we will compare our PI controller to your relay controller results from Lab 3. Recall, in Lab 3, we controlled both channels. We will want to do the same here.\n",
    "\n",
    "**Be sure to wait until your TCLab cools to room temperature before starting.**"
   ]
  },
  {
   "cell_type": "markdown",
   "metadata": {},
   "source": [
    "### Verify Device is at Ambient Temperature"
   ]
  },
  {
   "cell_type": "code",
   "execution_count": null,
   "metadata": {},
   "outputs": [],
   "source": [
    "# Check that the device is at steady state\n",
    "# length of check\n",
    "tfinal = 30  # seconds\n",
    "\n",
    "# Suggestion: set to False after you have completed this\n",
    "# exercise to prevent yourself from accidentally overwriting your results.\n",
    "run_exercise_4 = False\n",
    "\n",
    "if run_exercise_4:\n",
    "    # Check this says connected=True\n",
    "    TCLab = setup(connected=True)\n",
    "\n",
    "    # perform experiment\n",
    "    with TCLab() as lab:\n",
    "        # No power to either heater\n",
    "        lab.U1 = 0\n",
    "        lab.U2 = 0\n",
    "\n",
    "        # Initialize plotter and historian\n",
    "        h = Historian(lab.sources)\n",
    "        p = Plotter(h, tfinal)\n",
    "\n",
    "        # Loop over time\n",
    "        for t in clock(tfinal):\n",
    "\n",
    "            # Take measurements and update plots\n",
    "            p.update(t)\n",
    "        plt.show()"
   ]
  },
  {
   "cell_type": "markdown",
   "metadata": {},
   "source": [
    "### Run Experiment for Dual Channel PI Control\n",
    "\n",
    "You will define a separate controller for each channel.\n",
    "\n",
    "You do not need to use the same control structure (position versus velocity form) or gains for both channels. Experiment with `connected=False`! Once you are happy, switch to `connected=True` and run the experiment on your TCLab hardware."
   ]
  },
  {
   "cell_type": "code",
   "execution_count": null,
   "metadata": {},
   "outputs": [],
   "source": [
    "# Add your solution here\n",
    "\n",
    "if run_exercise_4:\n",
    "    if False:\n",
    "        # First experiment with connected=False\n",
    "        # Then, switch to connected=True\n",
    "        exp5 = run_tclab(\n",
    "            control1, \n",
    "            \"lab4-exercise4.csv\", \n",
    "            control2, \n",
    "            connected=True, \n",
    "            tfinal=600, \n",
    "            t_step=1\n",
    "        )"
   ]
  },
  {
   "cell_type": "code",
   "execution_count": null,
   "metadata": {},
   "outputs": [],
   "source": [
    "# Load results from csv file\n",
    "exp5 = pd.read_csv(\"lab4-exercise4.csv\")\n",
    "\n",
    "# Replot results\n",
    "plot_tclab_results(exp5, title=\"Two-Input PI Controller on Hardware\", SP1=SP1_chocolate, SP2=SP2_chocolate)\n",
    "\n",
    "# Compute tracking error\n",
    "compute_tracking_error(exp5, SP1_chocolate, SP2_chocolate)"
   ]
  },
  {
   "cell_type": "markdown",
   "metadata": {},
   "source": [
    "### Load and Visualize Your Relay Control Data (Lab 3)"
   ]
  },
  {
   "cell_type": "code",
   "execution_count": null,
   "metadata": {},
   "outputs": [],
   "source": [
    "# Load csv file\n",
    "lab3 = pd.read_csv(\"lab3-chocolate-relay.csv\")\n",
    "\n",
    "# Replot results\n",
    "plot_tclab_results(lab3, title=\"Relay Control (Lab 3)\", SP1=SP1_chocolate, SP2=SP2_chocolate)\n",
    "\n",
    "# Compute tracking error\n",
    "compute_tracking_error(lab3, SP1_chocolate, SP2_chocolate)\n"
   ]
  },
  {
   "cell_type": "markdown",
   "metadata": {},
   "source": [
    "### Discussion\n",
    "\n",
    "For each of the following questions/prompts, write a few sentences. Your answers should be supported by your *quantitative* data."
   ]
  },
  {
   "cell_type": "markdown",
   "metadata": {},
   "source": [
    "Compare your PI controller results from Exercises 3 and 4. What is the impact of also controlling channel 2? Why do these results make sense?\n",
    "\n",
    "*Answer*: "
   ]
  },
  {
   "cell_type": "markdown",
   "metadata": {},
   "source": [
    "Compare your controller results from Exercise 4 and Lab 3. How are the results for the PI and relay controllers similar? How are they different?\n",
    "\n",
    "*Answer*: "
   ]
  },
  {
   "cell_type": "markdown",
   "metadata": {},
   "source": [
    "Which control strategy -- relay or PI -- do you recommend and why?\n",
    "\n",
    "*Answer*: "
   ]
  },
  {
   "cell_type": "markdown",
   "metadata": {},
   "source": [
    "## Exercise 5. Disturbance"
   ]
  },
  {
   "cell_type": "markdown",
   "metadata": {},
   "source": [
    "Next, we will use heater 2 to simulate a disturbance. **Be sure to wait until your TCLab cools to room temperature before starting.**"
   ]
  },
  {
   "cell_type": "markdown",
   "metadata": {},
   "source": [
    "### Verify Device is at Ambient Temperature"
   ]
  },
  {
   "cell_type": "code",
   "execution_count": null,
   "metadata": {},
   "outputs": [],
   "source": [
    "# Check that the device is at steady state\n",
    "# length of check\n",
    "tfinal = 30  # seconds\n",
    "\n",
    "# Suggestion: set to False after you have completed this\n",
    "# exercise to prevent yourself from accidentally overwriting your results.\n",
    "# Students: you need to set this to True to run your code\n",
    "run_exercise_5 = False\n",
    "\n",
    "\n",
    "if run_exercise_5:\n",
    "\n",
    "    # Check this is connected=True\n",
    "    TCLab = setup(connected=False)\n",
    "\n",
    "    # perform experiment\n",
    "    with TCLab() as lab:\n",
    "        # No power to either heater\n",
    "        lab.U1 = 0\n",
    "        lab.U2 = 0\n",
    "\n",
    "        # Initialize plotter and historian\n",
    "        h = Historian(lab.sources)\n",
    "        p = Plotter(h, tfinal)\n",
    "\n",
    "        # Loop over time\n",
    "        for t in clock(tfinal):\n",
    "\n",
    "            # Take measurements and update plots\n",
    "            p.update(t)\n",
    "        plt.show()"
   ]
  },
  {
   "cell_type": "markdown",
   "metadata": {},
   "source": [
    "### Perform Experiment with TCLab"
   ]
  },
  {
   "cell_type": "code",
   "execution_count": null,
   "metadata": {},
   "outputs": [],
   "source": [
    "# Finish this function\n",
    "def my_disturb(t):\n",
    "    \"\"\"Disturbance function for the TCLab\n",
    "    Arguments:\n",
    "        t: time\n",
    "    Returns:\n",
    "        disturbance value\n",
    "\n",
    "    This function uses heat 2 as a disturbance:\n",
    "        DV is 0% for t <= 50 seconds\n",
    "        DV is 100% for 50 < t <= 300 seconds\n",
    "        DV is 10% for t > 300 seconds\n",
    "    \"\"\"\n",
    "\n",
    "    # Add your solution here\n",
    "\n",
    "\n",
    "if run_exercise_5:\n",
    "    # Add your solution here\n",
    "\n",
    "    # TODO: Update from connected=False to connected=True\n",
    "    exp6 = run_tclab(\n",
    "        my_controller,\n",
    "        \"lab4-exercise5.csv\",\n",
    "        connected=False,\n",
    "        disturbance=my_disturb,\n",
    "        tfinal=600,\n",
    "        t_step=1,\n",
    "    )\n",
    "\n",
    "    plt.show()\n",
    "\n",
    "    "
   ]
  },
  {
   "cell_type": "code",
   "execution_count": null,
   "metadata": {},
   "outputs": [],
   "source": [
    "plot_tclab_results(exp6, title=\"PI Controller with Disturbance\", SP1=SP1_chocolate)\n",
    "\n",
    "compute_tracking_error(exp5, SP1_chocolate)"
   ]
  },
  {
   "cell_type": "markdown",
   "metadata": {},
   "source": [
    "### Discussion\n",
    "\n",
    "For each of the following questions/prompts, write a few sentences. Your answers should be supported by your *quantitative* data.\n",
    "\n",
    "sadfsdafsafsafd"
   ]
  },
  {
   "cell_type": "markdown",
   "metadata": {},
   "source": [
    "Compare the temperature profiles from Exercises 3 and 5. What is the impact of the disturbance? Why do these results physically make sense?\n",
    "\n",
    "*Answer*: "
   ]
  },
  {
   "cell_type": "markdown",
   "metadata": {},
   "source": [
    "How much does the disturbance impact the performance, e.g., tracking error, of the controller?\n",
    "\n",
    "*Answer*: "
   ]
  },
  {
   "cell_type": "markdown",
   "metadata": {},
   "source": [
    "## Exercise 6. P&ID Discussion\n",
    "\n",
    "Please post your P&ID discussion on Canvas."
   ]
  },
  {
   "cell_type": "markdown",
   "metadata": {},
   "source": [
    "## Exercise 7. Feed-Forward Control (Extra Credit)\n",
    "\n",
    "We can use our mathematical model for our TCLab to incorporate a [feed-forward](https://en.wikipedia.org/wiki/Feed_forward_(control)) component to further improve our PI controller. Specifically, we can adjust the offset, $\\bar{u}$ or $\\bar{MV}$ in our notes, based on the steady-state value for the control variable needed to reach the setpoint."
   ]
  },
  {
   "cell_type": "markdown",
   "metadata": {},
   "source": [
    "### Steady-State Calculation\n",
    "\n",
    "Type the formula to calculate the steady-power power $\\bar{u}$ that corresponds to a setpoint $T_{set}$.\n",
    "\n",
    "\\begin{equation}\n",
    "\\bar{u} = \n",
    "\\end{equation}\n",
    "\n",
    "\n",
    "Hint: review your notes on steady-state gain and step tests. What value of $\\bar{u}$ should we apply in a step test to get the heater to reach $T_{set}$ as the steady-state temperature?\n",
    "\n"
   ]
  },
  {
   "cell_type": "markdown",
   "metadata": {},
   "source": [
    "### Simulation\n",
    "\n",
    "Copy the simulation code from above here. Then modify the copied code to calculate the offset ($\\bar{u}$) using your mathematical model. Each time step, you will update the offset $\\bar{u}(t)$ based on the $T_{set}(t)$.\n",
    "\n",
    "Hint: Is this easier to implement with a position-form or velocity-form controller?"
   ]
  },
  {
   "cell_type": "code",
   "execution_count": null,
   "metadata": {},
   "outputs": [],
   "source": []
  },
  {
   "cell_type": "markdown",
   "metadata": {},
   "source": [
    "Next, simulate the **chocolate** temperature profile and calculate the tracking error."
   ]
  },
  {
   "cell_type": "markdown",
   "metadata": {},
   "source": [
    "### TCLab Experiment"
   ]
  },
  {
   "cell_type": "markdown",
   "metadata": {},
   "source": [
    "Finally, repeat this experiment with your TCLab hardware. Hint: use `connected=False` to debug your code. Once you are happy with it, switch to `connected=True`. Do not forget to verify your device is at ambient temperature."
   ]
  },
  {
   "cell_type": "code",
   "execution_count": null,
   "metadata": {},
   "outputs": [],
   "source": []
  },
  {
   "cell_type": "markdown",
   "metadata": {},
   "source": [
    "### Discussion\n",
    "\n",
    "Write a few bullet points comparing your PI controller with feed-forward to your PI controller with a constant (and likely zero) bias.\n",
    "\n",
    "*Answer*: "
   ]
  },
  {
   "cell_type": "markdown",
   "metadata": {},
   "source": [
    "## Declarations\n",
    "\n",
    "**TCLab Hardware:** Did you use the *same* TCLab device for this and previous labs? If not, please provide details here. These labs are designed to use the same hardware throughout the semester. Please keep this in mind as you answer the discussion questions, especially when comparing the simulated to actual performance.\n",
    "\n",
    "**Collaboration**: If you worked with any classmates, please give their names here. Describe the nature of the collaboration.\n",
    "\n",
    "**Generative AI**: If you used any Generative AI tools, please elaborate here.\n",
    "\n",
    "**Reminder:** The written discussions responses must be in your own words. Many of these questions ask about your specific results or are open-ended questions with many reasonable answers. Thus we expect unique responses, analyses, and ideas.\n",
    "\n",
    "We may use writing analysis software to check for overly similar written responses. You are responsible for reviewing the collaboration policy outlined in the class syllabus to avoid violations of the honor code."
   ]
  },
  {
   "cell_type": "markdown",
   "metadata": {},
   "source": []
  }
 ],
 "metadata": {
  "kernelspec": {
   "display_name": "controls",
   "language": "python",
   "name": "python3"
  },
  "language_info": {
   "codemirror_mode": {
    "name": "ipython",
    "version": 3
   },
   "file_extension": ".py",
   "mimetype": "text/x-python",
   "name": "python",
   "nbconvert_exporter": "python",
   "pygments_lexer": "ipython3",
   "version": "3.10.15"
  }
 },
 "nbformat": 4,
 "nbformat_minor": 4
}
