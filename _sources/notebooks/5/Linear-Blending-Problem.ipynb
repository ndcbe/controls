{
 "cells": [
  {
   "cell_type": "markdown",
   "metadata": {},
   "source": [
    "# Linear Blending Problems\n",
    "\n",
    "This notebook introduces material blending problems and outlines a multi-step procedure for developing and solving models using Pyomo."
   ]
  },
  {
   "cell_type": "code",
   "execution_count": 1,
   "metadata": {},
   "outputs": [],
   "source": [
    "# install Pyomo and solvers for Google Colab\n",
    "import sys\n",
    "on_colab = \"google.colab\" in sys.modules\n",
    "if on_colab:\n",
    "    !wget \"https://raw.githubusercontent.com/IDAES/idaes-pse/main/scripts/colab_helper.py\"\n",
    "    import colab_helper\n",
    "    colab_helper.install_idaes()\n",
    "    colab_helper.install_ipopt()\n",
    "\n",
    "# Set default font sizes for plots\n",
    "import matplotlib.pyplot as plt\n",
    "plt.rcParams['font.size'] = 18\n",
    "plt.rcParams['lines.linewidth'] = 3.0\n",
    "\n",
    "# Alternately, you can set these individually\n",
    "#plt.rcParams['axes.labelsize'] = 18\n",
    "#plt.rcParams['axes.titlesize'] = 18\n",
    "#plt.rcParams['xtick.labelsize'] = 18\n",
    "#plt.rcParams['ytick.labelsize'] = 18\n",
    "#plt.rcParams['legend.fontsize'] = 18\n",
    "\n",
    "\n"
   ]
  },
  {
   "cell_type": "markdown",
   "metadata": {},
   "source": [
    "## Learning Goals\n",
    "\n",
    "1. Linear Blending problems\n",
    "\n",
    "    * Frequently encountered in material blending \n",
    "    \n",
    "    * Models generally consist of linear mixing rules and mass/material balances\n",
    "    \n",
    "    * Decision variables are indexed by a set of raw materials\n",
    "\n",
    "\n",
    "2. Further practice with key elements of modeling for optimization\n",
    "\n",
    "    * `pyo.ConcreteModel()` to create a new instancce of an optimization model\n",
    "    \n",
    "    * `pyo.Set()` to create an index used to index decision variables\n",
    "    \n",
    "    * `pyo.Var()` to create an optimization **decision variable**\n",
    "    \n",
    "    * `model.Comstraint()` to decorate (tag) the output of a function as an optimization constraint\n",
    "    \n",
    "    * `model.Objective()` to decorate (tag) the output of a function as an optimization objective\n",
    "\n",
    "\n",
    "3. Modeling and solving linear blending problems in Pyomo\n",
    "\n",
    "    * Step 1. Coding problem data. Nested dictionaries or Pandas dataframes.\n",
    "    \n",
    "    * Step 2. Create index set. Use .keys() with nested dictionaries, or .index with Pandas dataframes.\n",
    "    \n",
    "    * Step 3. Create a dictionary of decision variables. Add any pertinent qualifiers or constraints for individual variables such as lower and upper bounds, non-negativity, variable names.\n",
    "    \n",
    "    * Step 4. Create an expression defining the problem objective.\n",
    "    \n",
    "    * Step 5. Create a one or more lists of problem constraints.\n",
    "    \n",
    "    * Step 6. Create the problem object from the objectives and constraints.\n",
    "    \n",
    "    * Step 7. Solve and display the solution."
   ]
  },
  {
   "cell_type": "markdown",
   "metadata": {},
   "source": [
    "## Problem Statement (Jenchura, 2017)\n",
    "\n",
    "A brewery receives an order for 100 gallons that is at least 4\\% ABV (alchohol by volume) beer. The brewery has on hand beer A that is 4.5% ABV and costs \\$0.32 per gallon to make, and beer B that is 3.7% ABV and costs \\$0.25 per gallon. Water (W) can also be used as a blending agent at a cost of \\$0.05 per gallon. Find the minimum cost blend of A, B, and W that meets the customer requirements."
   ]
  },
  {
   "cell_type": "markdown",
   "metadata": {},
   "source": [
    "## Analysis\n",
    "\n",
    "Before going futher, carefully read the problem description with the following questions in mind.\n",
    "\n",
    "* What are the decision variables?\n",
    "* What is the objective?\n",
    "* What are the constraints?\n",
    "\n",
    "\n",
    "### Decision variables\n",
    "\n",
    "The decision variables for this problem are the amounts of blending stocks \"A\", \"B\", and \"W\" to included in the final batch.  We can define a set of blending stocks $S$, and non-negative decision variables $x_s$ that are indexed by the components in $S$ that denote the amount of $s$ included in the final batch.\n",
    "\n",
    "### Objective\n",
    "\n",
    "If we designate the price of blending stock $s \\in S$ as $P_s$, the cost is \n",
    "\n",
    "$$\n",
    "\\begin{align}\n",
    "\\text{cost} & = \\sum_{s\\in C} x_s P_s\n",
    "\\end{align}\n",
    "$$\n",
    "\n",
    "The objective is to minimize cost.\n",
    "\n",
    "### Constraints\n",
    "\n",
    "#### Order Volume\n",
    "\n",
    "Let $V = 100$ represent the desired volume of product and assume ideal mixing. Then\n",
    "\n",
    "$$\\begin{align}\n",
    "V &  = \\sum_{s\\in S} x_s\n",
    "\\end{align}$$\n",
    "\n",
    "#### Alcohol by Volume\n",
    "\n",
    "Let $C_s$ denote the volume fraction of alcohol in blending stock $s$. Assuming ideal mixing, the total volume of of alchohol in the final product be\n",
    "\n",
    "$$C_{total} = \\sum_{s\\in S} x_s C_s$$\n",
    "\n",
    "If $\\bar{C}$ denotes the required average concentration, then \n",
    "\n",
    "$$\\frac{C_{total}}{V} \\geq \\bar{C} \\qquad \\implies \\qquad \\frac{\\sum_{s\\in S} x_s C_s}{\\sum_{s\\in S} x_s} \\geq \\bar{C}$$\n",
    "\n",
    "Which is not linear in the decision variables. If at all possible, linear constraints are much preferred because (1) they enable the use of LP solvers, and (2) then tend to avoid problems that can arise with division by zero and other issues.\n",
    "\n",
    "$$\\sum_{s\\in S} (C_s - \\bar{C}) x_s \\geq 0$$\n",
    "\n",
    "There are other ways to write composition constraints, but this one is preferred because it isolates the product quality parameter, $\\bar{C}$, in a single constraint.  This constraint has \"one job to do\"."
   ]
  },
  {
   "cell_type": "markdown",
   "metadata": {},
   "source": [
    "## Solving optimization problems with Pyomo"
   ]
  },
  {
   "cell_type": "markdown",
   "metadata": {},
   "source": [
    "### Step 1. Coding Problem Data as a Pandas DataFrame\n",
    "\n",
    "The first step is to represent the problem data in a generic manner that could be extended to include additional blending components.  Here we use a Pandas dataframe of raw materials, each row representing a unique blending agent, and columns containing attributes of the blending components. This is consistent with [\"Tidy Data\" principles](../../python/A.05-Tidy-Data-and-Pandas.ipynb)."
   ]
  },
  {
   "cell_type": "code",
   "execution_count": 2,
   "metadata": {},
   "outputs": [
    {
     "data": {
      "text/html": [
       "<div>\n",
       "<style scoped>\n",
       "    .dataframe tbody tr th:only-of-type {\n",
       "        vertical-align: middle;\n",
       "    }\n",
       "\n",
       "    .dataframe tbody tr th {\n",
       "        vertical-align: top;\n",
       "    }\n",
       "\n",
       "    .dataframe thead th {\n",
       "        text-align: right;\n",
       "    }\n",
       "</style>\n",
       "<table border=\"1\" class=\"dataframe\">\n",
       "  <thead>\n",
       "    <tr style=\"text-align: right;\">\n",
       "      <th></th>\n",
       "      <th>Concentration</th>\n",
       "      <th>Price</th>\n",
       "    </tr>\n",
       "    <tr>\n",
       "      <th>blending stock</th>\n",
       "      <th></th>\n",
       "      <th></th>\n",
       "    </tr>\n",
       "  </thead>\n",
       "  <tbody>\n",
       "    <tr>\n",
       "      <th>A</th>\n",
       "      <td>0.045</td>\n",
       "      <td>0.32</td>\n",
       "    </tr>\n",
       "    <tr>\n",
       "      <th>B</th>\n",
       "      <td>0.037</td>\n",
       "      <td>0.25</td>\n",
       "    </tr>\n",
       "    <tr>\n",
       "      <th>W</th>\n",
       "      <td>0.000</td>\n",
       "      <td>0.05</td>\n",
       "    </tr>\n",
       "  </tbody>\n",
       "</table>\n",
       "</div>"
      ],
      "text/plain": [
       "                Concentration  Price\n",
       "blending stock                      \n",
       "A                       0.045   0.32\n",
       "B                       0.037   0.25\n",
       "W                       0.000   0.05"
      ]
     },
     "metadata": {},
     "output_type": "display_data"
    }
   ],
   "source": [
    "import pandas as pd\n",
    "\n",
    "data = pd.DataFrame([\n",
    "    ['A', 0.045, 0.32],\n",
    "    ['B', 0.037, 0.25],\n",
    "    ['W', 0.000, 0.05]], \n",
    "    columns = ['blending stock', 'Concentration', 'Price']\n",
    ")\n",
    "\n",
    "data.set_index('blending stock', inplace=True)\n",
    "display(data)"
   ]
  },
  {
   "cell_type": "markdown",
   "metadata": {},
   "source": [
    "### Step 2. Creating a model instance"
   ]
  },
  {
   "cell_type": "code",
   "execution_count": 3,
   "metadata": {},
   "outputs": [],
   "source": [
    "import numpy as np\n",
    "import pyomo.environ as pyo\n",
    "\n",
    "bm = pyo.ConcreteModel('Blending Model')"
   ]
  },
  {
   "cell_type": "markdown",
   "metadata": {},
   "source": [
    "### Step 3. Identifying index sets\n",
    "\n",
    "The objectives and constraints encountered in optimization problems often include sums over a set of objects. In the case, we will need to create sums over the set of blending stocks. We will use these index sets to create decision variables and to express the sums that appear in the objective and constraints"
   ]
  },
  {
   "cell_type": "code",
   "execution_count": 4,
   "metadata": {},
   "outputs": [
    {
     "data": {
      "text/plain": [
       "Index(['A', 'B', 'W'], dtype='object', name='blending stock')"
      ]
     },
     "execution_count": 4,
     "metadata": {},
     "output_type": "execute_result"
    }
   ],
   "source": [
    "data.index"
   ]
  },
  {
   "cell_type": "code",
   "execution_count": 5,
   "metadata": {},
   "outputs": [
    {
     "name": "stdout",
     "output_type": "stream",
     "text": [
      "A\n",
      "B\n",
      "W\n"
     ]
    }
   ],
   "source": [
    "bm.S = pyo.Set(initialize=data.index)\n",
    "\n",
    "for s in bm.S:\n",
    "    print(s)"
   ]
  },
  {
   "cell_type": "markdown",
   "metadata": {},
   "source": [
    "### Step 4. Create decision variables\n",
    "\n",
    "Most real-world applications of optimization technologies involve many decision variables and constraints. It would be impractical to create unique identifiers for literally thousands of variables. For this reason, the `pyo.Var()` and other objects can create indexed sets of variables and constraints. Here is how it is done for the blending problem."
   ]
  },
  {
   "cell_type": "code",
   "execution_count": 6,
   "metadata": {},
   "outputs": [],
   "source": [
    "bm.x = pyo.Var(bm.S, domain=pyo.NonNegativeReals)"
   ]
  },
  {
   "cell_type": "markdown",
   "metadata": {},
   "source": [
    "### Step 4. Objective Function\n",
    "\n",
    "If we let subscript $d$ denote a blending d from the set of blending components $C$, and denote the volume of $c$ used in the blend as $x_c$, the cost of the blend is\n",
    "\n",
    "$$\n",
    "\\begin{align}\n",
    "\\text{cost} & = \\sum_{s\\in S} x_s P_s\n",
    "\\end{align}\n",
    "$$\n",
    "\n",
    "where $P_s$ is the price per unit volume of $s$. Using the Python data dictionary defined above, the price $P_s$ is given by `data[s, 'Price']`"
   ]
  },
  {
   "cell_type": "code",
   "execution_count": 7,
   "metadata": {},
   "outputs": [
    {
     "name": "stdout",
     "output_type": "stream",
     "text": [
      "cost : Size=1, Index=None, Active=True\n",
      "    Key  : Active : Sense    : Expression\n",
      "    None :   True : minimize : 0.32*x[A] + 0.25*x[B] + 0.05*x[W]\n"
     ]
    }
   ],
   "source": [
    "@bm.Objective(sense=pyo.minimize)\n",
    "def cost(bm):\n",
    "    return sum(bm.x[s] * data.loc[s, \"Price\"] for s in bm.S)\n",
    "\n",
    "bm.cost.pprint()"
   ]
  },
  {
   "cell_type": "markdown",
   "metadata": {},
   "source": [
    "### Step 5. Constraints"
   ]
  },
  {
   "cell_type": "markdown",
   "metadata": {},
   "source": [
    "#### Volume Constraint\n",
    "\n",
    "The customer requirement is produce a total volume $V$. Assuming ideal solutions, the constraint is given by\n",
    "\n",
    "$$\\begin{align}\n",
    "V &  = \\sum_{s\\in s} x_s\n",
    "\\end{align}$$\n",
    "\n",
    "where $x_s$ denotes the volume of blending stock $s$ used in the blend."
   ]
  },
  {
   "cell_type": "code",
   "execution_count": 8,
   "metadata": {},
   "outputs": [
    {
     "name": "stdout",
     "output_type": "stream",
     "text": [
      "volume : Size=1, Index=None, Active=True\n",
      "    Key  : Lower : Body               : Upper : Active\n",
      "    None : 100.0 : x[A] + x[B] + x[W] : 100.0 :   True\n"
     ]
    }
   ],
   "source": [
    "V = 100\n",
    "\n",
    "@bm.Constraint()\n",
    "def volume(bm):\n",
    "    return sum(bm.x[s] for s in bm.S) == V\n",
    "\n",
    "bm.volume.pprint()"
   ]
  },
  {
   "cell_type": "markdown",
   "metadata": {},
   "source": [
    "#### Composition Constraint"
   ]
  },
  {
   "cell_type": "code",
   "execution_count": 9,
   "metadata": {},
   "outputs": [
    {
     "name": "stdout",
     "output_type": "stream",
     "text": [
      "composition : Size=1, Index=None, Active=True\n",
      "    Key  : Lower : Body                                                                : Upper : Active\n",
      "    None :   0.0 : 0.0049999999999999975*x[A] - 0.0030000000000000027*x[B] - 0.04*x[W] :  +Inf :   True\n"
     ]
    }
   ],
   "source": [
    "C_lb = 0.04\n",
    "\n",
    "@bm.Constraint()\n",
    "def composition(bm):\n",
    "    return sum(bm.x[s]*(data.loc[s, \"Concentration\"] - C_lb) for s in bm.S) >= 0\n",
    "\n",
    "bm.composition.pprint()"
   ]
  },
  {
   "cell_type": "markdown",
   "metadata": {},
   "source": [
    "### Step 6. Solve"
   ]
  },
  {
   "cell_type": "code",
   "execution_count": 10,
   "metadata": {},
   "outputs": [
    {
     "name": "stdout",
     "output_type": "stream",
     "text": [
      "1 Set Declarations\n",
      "    S : Size=1, Index=None, Ordered=Insertion\n",
      "        Key  : Dimen : Domain : Size : Members\n",
      "        None :     1 :    Any :    3 : {'A', 'B', 'W'}\n",
      "\n",
      "1 Var Declarations\n",
      "    x : Size=3, Index=S\n",
      "        Key : Lower : Value : Upper : Fixed : Stale : Domain\n",
      "          A :     0 :  None :  None : False :  True : NonNegativeReals\n",
      "          B :     0 :  None :  None : False :  True : NonNegativeReals\n",
      "          W :     0 :  None :  None : False :  True : NonNegativeReals\n",
      "\n",
      "1 Objective Declarations\n",
      "    cost : Size=1, Index=None, Active=True\n",
      "        Key  : Active : Sense    : Expression\n",
      "        None :   True : minimize : 0.32*x[A] + 0.25*x[B] + 0.05*x[W]\n",
      "\n",
      "2 Constraint Declarations\n",
      "    composition : Size=1, Index=None, Active=True\n",
      "        Key  : Lower : Body                                                                : Upper : Active\n",
      "        None :   0.0 : 0.0049999999999999975*x[A] - 0.0030000000000000027*x[B] - 0.04*x[W] :  +Inf :   True\n",
      "    volume : Size=1, Index=None, Active=True\n",
      "        Key  : Lower : Body               : Upper : Active\n",
      "        None : 100.0 : x[A] + x[B] + x[W] : 100.0 :   True\n",
      "\n",
      "5 Declarations: S x cost volume composition\n"
     ]
    }
   ],
   "source": [
    "bm.pprint()"
   ]
  },
  {
   "cell_type": "code",
   "execution_count": 11,
   "metadata": {},
   "outputs": [
    {
     "name": "stdout",
     "output_type": "stream",
     "text": [
      "Welcome to the CBC MILP Solver \n",
      "Version: 2.10.10 \n",
      "Build Date: Jun  7 2023 \n",
      "\n",
      "command line - /Users/adowling/.idaes/bin/cbc -printingOptions all -import /var/folders/3w/vr4xmyqs451dg23xk88pqcg00000gq/T/tmpr9unbj4s.pyomo.lp -stat=1 -solve -solu /var/folders/3w/vr4xmyqs451dg23xk88pqcg00000gq/T/tmpr9unbj4s.pyomo.soln (default strategy 1)\n",
      "Option for printingOptions changed from normal to all\n",
      "Presolve 2 (0) rows, 3 (0) columns and 6 (0) elements\n",
      "Statistics for presolved model\n",
      "\n",
      "\n",
      "Problem has 2 rows, 3 columns (3 with objective) and 6 elements\n",
      "Column breakdown:\n",
      "3 of type 0.0->inf, 0 of type 0.0->up, 0 of type lo->inf, \n",
      "0 of type lo->up, 0 of type free, 0 of type fixed, \n",
      "0 of type -inf->0.0, 0 of type -inf->up, 0 of type 0.0->1.0 \n",
      "Row breakdown:\n",
      "0 of type E 0.0, 0 of type E 1.0, 0 of type E -1.0, \n",
      "1 of type E other, 1 of type G 0.0, 0 of type G 1.0, \n",
      "0 of type G other, 0 of type L 0.0, 0 of type L 1.0, \n",
      "0 of type L other, 0 of type Range 0.0->1.0, 0 of type Range other, \n",
      "0 of type Free \n",
      "Presolve 2 (0) rows, 3 (0) columns and 6 (0) elements\n",
      "0  Obj 0 Primal inf 100 (1)\n",
      "3  Obj 27.625\n",
      "Optimal - objective value 27.625\n",
      "Optimal objective 27.625 - 3 iterations time 0.002\n",
      "Total time (CPU seconds):       0.00   (Wallclock seconds):       0.00\n",
      "\n",
      "# ==========================================================\n",
      "# = Solver Results                                         =\n",
      "# ==========================================================\n",
      "# ----------------------------------------------------------\n",
      "#   Problem Information\n",
      "# ----------------------------------------------------------\n",
      "Problem: \n",
      "- Name: unknown\n",
      "  Lower bound: 27.625\n",
      "  Upper bound: 27.625\n",
      "  Number of objectives: 1\n",
      "  Number of constraints: 2\n",
      "  Number of variables: 3\n",
      "  Number of nonzeros: 3\n",
      "  Sense: minimize\n",
      "# ----------------------------------------------------------\n",
      "#   Solver Information\n",
      "# ----------------------------------------------------------\n",
      "Solver: \n",
      "- Status: ok\n",
      "  User time: -1.0\n",
      "  System time: 0.0\n",
      "  Wallclock time: 0.0\n",
      "  Termination condition: optimal\n",
      "  Termination message: Model was solved to optimality (subject to tolerances), and an optimal solution is available.\n",
      "  Statistics: \n",
      "    Branch and bound: \n",
      "      Number of bounded subproblems: None\n",
      "      Number of created subproblems: None\n",
      "    Black box: \n",
      "      Number of iterations: 3\n",
      "  Error rc: 0\n",
      "  Time: 0.30777907371520996\n",
      "# ----------------------------------------------------------\n",
      "#   Solution Information\n",
      "# ----------------------------------------------------------\n",
      "Solution: \n",
      "- number of solutions: 0\n",
      "  number of solutions displayed: 0\n"
     ]
    }
   ],
   "source": [
    "#solver = pyo.SolverFactory('glpk')\n",
    "solver = pyo.SolverFactory('cbc')\n",
    "solver.solve(bm, tee=True).write()"
   ]
  },
  {
   "cell_type": "markdown",
   "metadata": {},
   "source": [
    "### Step 7. Display solution\n",
    "\n",
    "Following solution, the values of any Pyomo variable, expression, objective, or constraint can be accessed using the associated `value` property."
   ]
  },
  {
   "cell_type": "code",
   "execution_count": 12,
   "metadata": {},
   "outputs": [
    {
     "name": "stdout",
     "output_type": "stream",
     "text": [
      "1 Set Declarations\n",
      "    S : Size=1, Index=None, Ordered=Insertion\n",
      "        Key  : Dimen : Domain : Size : Members\n",
      "        None :     1 :    Any :    3 : {'A', 'B', 'W'}\n",
      "\n",
      "1 Var Declarations\n",
      "    x : Size=3, Index=S\n",
      "        Key : Lower : Value : Upper : Fixed : Stale : Domain\n",
      "          A :     0 :  37.5 :  None : False : False : NonNegativeReals\n",
      "          B :     0 :  62.5 :  None : False : False : NonNegativeReals\n",
      "          W :     0 :   0.0 :  None : False : False : NonNegativeReals\n",
      "\n",
      "1 Objective Declarations\n",
      "    cost : Size=1, Index=None, Active=True\n",
      "        Key  : Active : Sense    : Expression\n",
      "        None :   True : minimize : 0.32*x[A] + 0.25*x[B] + 0.05*x[W]\n",
      "\n",
      "2 Constraint Declarations\n",
      "    composition : Size=1, Index=None, Active=True\n",
      "        Key  : Lower : Body                                                                : Upper : Active\n",
      "        None :   0.0 : 0.0049999999999999975*x[A] - 0.0030000000000000027*x[B] - 0.04*x[W] :  +Inf :   True\n",
      "    volume : Size=1, Index=None, Active=True\n",
      "        Key  : Lower : Body               : Upper : Active\n",
      "        None : 100.0 : x[A] + x[B] + x[W] : 100.0 :   True\n",
      "\n",
      "5 Declarations: S x cost volume composition\n"
     ]
    }
   ],
   "source": [
    "bm.pprint()"
   ]
  },
  {
   "cell_type": "code",
   "execution_count": 13,
   "metadata": {},
   "outputs": [
    {
     "name": "stdout",
     "output_type": "stream",
     "text": [
      "27.625\n"
     ]
    }
   ],
   "source": [
    "print(bm.cost())"
   ]
  },
  {
   "cell_type": "code",
   "execution_count": 14,
   "metadata": {},
   "outputs": [
    {
     "name": "stdout",
     "output_type": "stream",
     "text": [
      "Minimum cost to produce 100 gallons at greater than ABV=0.04: $27.62\n"
     ]
    }
   ],
   "source": [
    "print(f\"Minimum cost to produce {V} gallons at greater than ABV={C_lb}: ${bm.cost():5.2f}\")"
   ]
  },
  {
   "cell_type": "code",
   "execution_count": 15,
   "metadata": {},
   "outputs": [
    {
     "name": "stdout",
     "output_type": "stream",
     "text": [
      "A:  37.50 gallons\n",
      "B:  62.50 gallons\n",
      "W:   0.00 gallons\n"
     ]
    }
   ],
   "source": [
    "for s in bm.S:\n",
    "    print(f\"{s}: {bm.x[s]():6.2f} gallons\")"
   ]
  },
  {
   "cell_type": "markdown",
   "metadata": {},
   "source": [
    "## Parametric Studies\n",
    "\n",
    "An important use of optimization models is to investigate how operations depend on critical parameters. For example, for this blending problem we may be interested in questions like:\n",
    "\n",
    "* How does the operating cost change with product alcohol content?\n",
    "* What is the cost of producing one more gallon of product?\n",
    "* What if the supply of a raw material is constrained?\n",
    "* What if we produce two products rather than one?\n",
    "* How much would be pay for raw materials with different specifications"
   ]
  },
  {
   "cell_type": "markdown",
   "metadata": {},
   "source": [
    "### Consolidating the model into a single function to create and solve for optimal blend\n",
    "\n",
    "To enable parametric studies, our first step is to consolidate the model into a function that accepts problem data and reports an optimal solution."
   ]
  },
  {
   "cell_type": "code",
   "execution_count": null,
   "metadata": {},
   "outputs": [],
   "source": [
    "def blend_beer(data, V=100, C_lb=0.04, opt_solver='cbc'):\n",
    "    ''' Create and solve blending optimization model for beer production\n",
    "    \n",
    "    Arguments:\n",
    "        data: pandas DataFrame with columns ['blending stock', 'Concentration', 'Price']\n",
    "        V: float, total volume of beer to produce\n",
    "        C_lb: float, lower bound on alcohol by volume (ABV) of beer\n",
    "        opt_solver: str, name of optimization solver to use\n",
    "\n",
    "    Returns:\n",
    "        bm: Pyomo model object (solved)\n",
    "\n",
    "    '''\n",
    "    \n",
    "    # create model\n",
    "    bm = pyo.ConcreteModel('Blending Model')\n",
    "\n",
    "    # create index set for decision variables\n",
    "    bm.S = pyo.Set(initialize=data.index)\n",
    "\n",
    "    # create decision variables\n",
    "    bm.x = pyo.Var(bm.S, domain=pyo.NonNegativeReals)\n",
    "\n",
    "    # specify objective\n",
    "    @bm.Objective(sense=pyo.minimize)\n",
    "    def cost(bm):\n",
    "        return sum(bm.x[s] * data.loc[s, \"Price\"] for s in bm.S)\n",
    "\n",
    "    # volume constraint\n",
    "    @bm.Constraint()\n",
    "    def volume(bm):\n",
    "        return sum(bm.x[s] for s in bm.S) == V\n",
    "\n",
    "    # composition constraint\n",
    "    @bm.Constraint()\n",
    "    def composition(bm):\n",
    "        return sum(bm.x[s]*(data.loc[s, \"Concentration\"] - C_lb) for s in bm.S) >= 0\n",
    "\n",
    "    # solve model\n",
    "    solver = pyo.SolverFactory(opt_solver)\n",
    "    solver.solve(bm)\n",
    "    \n",
    "    # return model for post-processing and display\n",
    "    return bm"
   ]
  },
  {
   "cell_type": "markdown",
   "metadata": {},
   "source": [
    "### How to use the optimization model"
   ]
  },
  {
   "cell_type": "code",
   "execution_count": 19,
   "metadata": {},
   "outputs": [
    {
     "data": {
      "text/html": [
       "<div>\n",
       "<style scoped>\n",
       "    .dataframe tbody tr th:only-of-type {\n",
       "        vertical-align: middle;\n",
       "    }\n",
       "\n",
       "    .dataframe tbody tr th {\n",
       "        vertical-align: top;\n",
       "    }\n",
       "\n",
       "    .dataframe thead th {\n",
       "        text-align: right;\n",
       "    }\n",
       "</style>\n",
       "<table border=\"1\" class=\"dataframe\">\n",
       "  <thead>\n",
       "    <tr style=\"text-align: right;\">\n",
       "      <th></th>\n",
       "      <th>Concentration</th>\n",
       "      <th>Price</th>\n",
       "    </tr>\n",
       "    <tr>\n",
       "      <th>blending stock</th>\n",
       "      <th></th>\n",
       "      <th></th>\n",
       "    </tr>\n",
       "  </thead>\n",
       "  <tbody>\n",
       "    <tr>\n",
       "      <th>A</th>\n",
       "      <td>0.045</td>\n",
       "      <td>0.32</td>\n",
       "    </tr>\n",
       "    <tr>\n",
       "      <th>B</th>\n",
       "      <td>0.037</td>\n",
       "      <td>0.25</td>\n",
       "    </tr>\n",
       "    <tr>\n",
       "      <th>W</th>\n",
       "      <td>0.000</td>\n",
       "      <td>0.05</td>\n",
       "    </tr>\n",
       "  </tbody>\n",
       "</table>\n",
       "</div>"
      ],
      "text/plain": [
       "                Concentration  Price\n",
       "blending stock                      \n",
       "A                       0.045   0.32\n",
       "B                       0.037   0.25\n",
       "W                       0.000   0.05"
      ]
     },
     "metadata": {},
     "output_type": "display_data"
    },
    {
     "name": "stdout",
     "output_type": "stream",
     "text": [
      "Minimum cost to produce 100 gallons at ABV=0.04 = $27.62\n"
     ]
    },
    {
     "data": {
      "text/html": [
       "<div>\n",
       "<style scoped>\n",
       "    .dataframe tbody tr th:only-of-type {\n",
       "        vertical-align: middle;\n",
       "    }\n",
       "\n",
       "    .dataframe tbody tr th {\n",
       "        vertical-align: top;\n",
       "    }\n",
       "\n",
       "    .dataframe thead th {\n",
       "        text-align: right;\n",
       "    }\n",
       "</style>\n",
       "<table border=\"1\" class=\"dataframe\">\n",
       "  <thead>\n",
       "    <tr style=\"text-align: right;\">\n",
       "      <th></th>\n",
       "      <th>amount</th>\n",
       "    </tr>\n",
       "  </thead>\n",
       "  <tbody>\n",
       "    <tr>\n",
       "      <th>A</th>\n",
       "      <td>37.5</td>\n",
       "    </tr>\n",
       "    <tr>\n",
       "      <th>B</th>\n",
       "      <td>62.5</td>\n",
       "    </tr>\n",
       "    <tr>\n",
       "      <th>W</th>\n",
       "      <td>0.0</td>\n",
       "    </tr>\n",
       "  </tbody>\n",
       "</table>\n",
       "</div>"
      ],
      "text/plain": [
       "   amount\n",
       "A    37.5\n",
       "B    62.5\n",
       "W     0.0"
      ]
     },
     "metadata": {},
     "output_type": "display_data"
    },
    {
     "data": {
      "image/png": "[encoded data removed]",
      "text/plain": [
       "<Figure size 640x480 with 1 Axes>"
      ]
     },
     "metadata": {},
     "output_type": "display_data"
    }
   ],
   "source": [
    "# specify blending stock data\n",
    "data = pd.DataFrame([\n",
    "    ['A', 0.045, 0.32],\n",
    "    ['B', 0.037, 0.25], \n",
    "    # ['C', .042, .28],\n",
    "    ['W', 0.000, 0.05]], \n",
    "    columns = ['blending stock', 'Concentration', 'Price']\n",
    ")\n",
    "data.set_index('blending stock', inplace=True)\n",
    "display(data)\n",
    "\n",
    "# set product requirements\n",
    "volume = 100\n",
    "abv = 0.04\n",
    "\n",
    "# compute optimal solution using optimization model\n",
    "bm = blend_beer(data, volume, abv)\n",
    "\n",
    "# extract data from the model\n",
    "optimal_blend = pd.DataFrame()\n",
    "optimal_blend.index = [s for s in bm.S]\n",
    "optimal_blend[\"amount\"] = [bm.x[s]() for s in bm.S]\n",
    "min_cost = bm.cost()\n",
    "\n",
    "# display solutoin\n",
    "print(f\"Minimum cost to produce {volume} gallons at ABV={abv} = ${min_cost:5.2f}\")\n",
    "display(optimal_blend)\n",
    "optimal_blend.plot(y=\"amount\", kind=\"bar\", fontsize=18)\n",
    "plt.show()"
   ]
  },
  {
   "cell_type": "markdown",
   "metadata": {},
   "source": [
    "## Parametric Study\n",
    "\n",
    "The following cell uses the optimal blending model to compute the minimum cost and blending stocks to produce "
   ]
  },
  {
   "cell_type": "code",
   "execution_count": 18,
   "metadata": {},
   "outputs": [
    {
     "name": "stdout",
     "output_type": "stream",
     "text": [
      "                Concentration  Price\n",
      "blending stock                      \n",
      "A                       0.045   0.32\n",
      "B                       0.037   0.25\n",
      "W                       0.000   0.05\n"
     ]
    },
    {
     "data": {
      "image/png": "[encoded data removed]",
      "text/plain": [
       "<Figure size 640x480 with 1 Axes>"
      ]
     },
     "metadata": {},
     "output_type": "display_data"
    },
    {
     "data": {
      "image/png": "[encoded data removed]",
      "text/plain": [
       "<Figure size 640x480 with 1 Axes>"
      ]
     },
     "metadata": {},
     "output_type": "display_data"
    }
   ],
   "source": [
    "print(data)\n",
    "volume = 100\n",
    "\n",
    "# gather results for a range of abv values\n",
    "abv = np.linspace(0, 0.045)\n",
    "\n",
    "results = pd.DataFrame(columns=[\"abv\", \"cost\", \"A\", \"B\", \"W\"])\n",
    "for row, a in enumerate(abv):\n",
    "    bm = blend_beer(data, volume, a)\n",
    "    results.loc[row] = [a, bm.cost(), bm.x[\"A\"](), bm.x[\"B\"](), bm.x[\"W\"]()]\n",
    "\n",
    "results.plot(x=\"abv\", y=\"cost\", ylabel=\"$ per 100 gallons\", grid=True)\n",
    "results.plot(x=\"abv\", y=[\"A\", \"B\", \"W\"], ylabel=\"gallons\", grid=True)\n",
    "\n",
    "plt.show()"
   ]
  },
  {
   "cell_type": "markdown",
   "metadata": {},
   "source": [
    "## Study Exercises"
   ]
  },
  {
   "cell_type": "markdown",
   "metadata": {},
   "source": [
    "### Exercise 1\n",
    "\n",
    "An additional raw blending stock \"C\" becomes available with an abv of 4.2% at a cost of 28 cents per gallon. How does that change the optimal blend for a product volume of 100 gallons and an abv of 4.0%?"
   ]
  },
  {
   "cell_type": "code",
   "execution_count": null,
   "metadata": {},
   "outputs": [],
   "source": []
  },
  {
   "cell_type": "markdown",
   "metadata": {},
   "source": [
    "### Exercise 2\n",
    "\n",
    "Having decided to use \"C\" for the blended product, you later learn only 50 gallons of \"C\" are available. Modify the solution procedure to allow for limits on the amount of raw maaterial, and investigate the implications for the optimal blend of having only 50 gallons of \"C\" available, and assuming the amounts of the other components \"A\", \"B\", and \"W\" remain unlimited."
   ]
  },
  {
   "cell_type": "code",
   "execution_count": null,
   "metadata": {},
   "outputs": [],
   "source": []
  },
  {
   "cell_type": "markdown",
   "metadata": {},
   "source": [
    "### Exercise 3\n",
    "\n",
    "An opportunity has developed to sell a second product with an abv of 3.8\\%. The first product is now labeled \"X\" with abv 4.0% and sells for \\$1.25 per gallon, and the second product is designated \"Y\" and sells for \\$1.10 per gallon. You've also learned that all of your raw materials are limited to 50 gallons. What should your production plan be to maximize profits?\n",
    "\n"
   ]
  },
  {
   "cell_type": "code",
   "execution_count": null,
   "metadata": {},
   "outputs": [],
   "source": []
  }
 ],
 "metadata": {
  "kernelspec": {
   "display_name": "controls2",
   "language": "python",
   "name": "python3"
  },
  "language_info": {
   "codemirror_mode": {
    "name": "ipython",
    "version": 3
   },
   "file_extension": ".py",
   "mimetype": "text/x-python",
   "name": "python",
   "nbconvert_exporter": "python",
   "pygments_lexer": "ipython3",
   "version": "3.10.15"
  }
 },
 "nbformat": 4,
 "nbformat_minor": 4
}
