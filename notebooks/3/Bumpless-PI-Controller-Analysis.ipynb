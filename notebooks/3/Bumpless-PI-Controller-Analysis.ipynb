{
 "cells": [
  {
   "cell_type": "markdown",
   "metadata": {},
   "source": [
    "# Analysis of Bumpless PI Controller"
   ]
  },
  {
   "cell_type": "code",
   "execution_count": null,
   "metadata": {},
   "outputs": [],
   "source": [
    "# Set default parameters for publication quality plots\n",
    "import matplotlib.pyplot as plt\n",
    "SMALL_SIZE = 14\n",
    "MEDIUM_SIZE = 16\n",
    "BIGGER_SIZE = 18\n",
    "\n",
    "plt.rc('font', size=SMALL_SIZE)  # controls default text sizes\n",
    "plt.rc('axes', titlesize=SMALL_SIZE)  # fontsize of the axes title\n",
    "plt.rc('axes', labelsize=MEDIUM_SIZE)  # fontsize of the x and y labels\n",
    "plt.rc('xtick', labelsize=SMALL_SIZE)  # fontsize of the tick labels\n",
    "plt.rc('ytick', labelsize=SMALL_SIZE)  # fontsize of the tick labels\n",
    "plt.rc('legend', fontsize=SMALL_SIZE)  # legend fontsize\n",
    "plt.rc('figure', titlesize=BIGGER_SIZE)  # fontsize of the figure title\n",
    "plt.rc('lines', linewidth=3)"
   ]
  },
  {
   "cell_type": "markdown",
   "metadata": {},
   "source": [
    "## Closed-Loop Dynamics"
   ]
  },
  {
   "cell_type": "markdown",
   "metadata": {},
   "source": [
    "We start with the **velocity form** of the controller:\n",
    "\n",
    "\\begin{equation}\n",
    "u_k = u_{k-1} + K_p (-y_k + y_{k-1}) + K_I \\underbrace{(y_{SP} - y_f)\\Delta t}_{e_k}\n",
    "\\end{equation}\n",
    "\n",
    "Next, divide by $\\Delta t$:\n",
    "\n",
    "\\begin{equation}\n",
    "\\frac{u_k - u_{k-1}}{\\Delta t} = -K_p \\frac{(y_k - y_{k-1})}{\\Delta t} + K_I e_k\n",
    "\\end{equation}\n",
    "\n",
    "Consider limit as $\\Delta t \\to 0$:\n",
    "\n",
    "\\begin{equation}\n",
    "\\dot{u} = -K_p \\dot{y} + K_I e_k \n",
    "\\end{equation}"
   ]
  },
  {
   "cell_type": "markdown",
   "metadata": {},
   "source": [
    "Next, consider the two-state model for a single TCLab channel:\n",
    "\n",
    "\\begin{align}\n",
    "C_p^H \\frac{dT^*_{H,1}}{dt} &= -U_a T^*_{H,1} + U_b (T^*_{S,1} - T^*_{H,1}) + \\alpha P_u \\\\\n",
    "C_p^S \\frac{dT^*_{S,1}}{dt} &= U_b (T^*_{H,1} - T^*_{S,1})\n",
    "\\end{align}\n",
    "\n",
    "Next, substitute the control law:\n",
    "\n",
    "\\begin{equation}\n",
    "\\frac{du}{dt} = -K_p \\dot{T}^*_{S,1} + K_I (T^*_{set} - T^*_{S,1})\n",
    "\\end{equation}\n",
    "\n",
    "Finally, subsitute the second differential equation:\n",
    "\n",
    "\\begin{equation}\n",
    "\\frac{du}{dt} = -K_p \\frac{U_b (T^*_{H,1} - T^*_{S,1})}{C_p^S} + K_I (T^*_{set} - T^*_{S,1})\n",
    "\\end{equation}"
   ]
  },
  {
   "cell_type": "markdown",
   "metadata": {},
   "source": [
    "Now, we can write the model as a linear system:\n",
    "\n",
    "\\begin{equation}\n",
    "\\underbrace{\\begin{bmatrix}\n",
    "\\dot{T}_{H,1} \\\\\n",
    "\\dot{T}_{S,1} \\\\\n",
    "\\dot{u}\n",
    "\\end{bmatrix}}_{\\mathbf{\\dot{x}}} =\n",
    "\\underbrace{\\begin{bmatrix}\n",
    "-\\frac{U_a + U_b}{C_p^H} & \\frac{U_b}{C_p^H} & \\frac{\\alpha P_i}{C_p^H} \\\\\n",
    "\\frac{U_b}{C_p^S} & -\\frac{U_b}{C_p^S} & 0 \\\\\n",
    "-\\frac{K_p U_b}{C_p^S} & \\frac{K_p U_b}{C_p^S} - K_I & 0\n",
    "\\end{bmatrix}}_{\\mathbf{A}} \n",
    "\\underbrace{\\begin{bmatrix}\n",
    "T_{H,1}^* \\\\\n",
    "T_{S,1}^* \\\\\n",
    "u\n",
    "\\end{bmatrix}}_\\mathbf{x} +\n",
    "\n",
    "\\underbrace{\\begin{bmatrix}\n",
    "0 \\\\\n",
    "0 \\\\\n",
    "K_I\n",
    "\\end{bmatrix}}_\\mathbf{B}\n",
    "\\underbrace{\\begin{bmatrix} T^*_{set} \\end{bmatrix}}_\\mathbf{u}\n",
    "\\end{equation}\n",
    "\n",
    "\\begin{equation}\n",
    "\\underbrace{\\begin{bmatrix} T^*_{S,1} \\end{bmatrix}}_\\mathbf{y} = \n",
    "\\underbrace{\\begin{bmatrix}\n",
    "0 & 1 & 0\n",
    "\\end{bmatrix}}_\\mathbf{C}\n",
    "\\underbrace{\\begin{bmatrix}\n",
    "T_{H,1} \\\\\n",
    "T_{S,1} \\\\\n",
    "u\n",
    "\\end{bmatrix}}_\\mathbf{x} + \n",
    "\\underbrace{\\begin{bmatrix} 0 \\end{bmatrix}}_{\\mathbf{D}} \n",
    "\\underbrace{\\begin{bmatrix} T^*_{set} \\end{bmatrix}}_\\mathbf{u}\n",
    "\n",
    "\n",
    "\\end{equation}"
   ]
  },
  {
   "cell_type": "markdown",
   "metadata": {},
   "source": [
    "## Simulation"
   ]
  },
  {
   "cell_type": "code",
   "execution_count": null,
   "metadata": {},
   "outputs": [],
   "source": [
    "import numpy as np\n",
    "\n",
    "# parameters\n",
    "T_amb = 21 # deg C\n",
    "alpha = 0.00016 # watts / (units P1 * percent U1)\n",
    "P1 = 100 # P1 units\n",
    "U1 = 50 # steady state value of u1 (percent)\n",
    "\n",
    "# fitted parameters (see previous lab) for hardware\n",
    "'''\n",
    "Ua = 0.0261 # watts/deg C\n",
    "Ub = 0.0222 # watts/deg C\n",
    "CpH = 1.335 # joules/deg C\n",
    "CpS = 1.328 # joules/deg C\n",
    "'''\n",
    "\n",
    "# fitted parameters (repeat Lab 3) for TCLab digital twin\n",
    "Ua = 0.05 # watts/deg C\n",
    "Ub = 0.05 # watts/deg C\n",
    "CpH = 5.0 # joules/deg C\n",
    "CpS = 1.0 # joules/deg C"
   ]
  },
  {
   "cell_type": "code",
   "execution_count": null,
   "metadata": {},
   "outputs": [],
   "source": [
    "t = np.arange(0, 600, 1)\n",
    "T_set = np.ones(t.shape)*5\n",
    "T_set[100:] = 30\n",
    "\n",
    "plt.step(t, T_set + T_amb, linestyle='-.', color='black', alpha=0.5)\n",
    "plt.xlabel('Time [second]')\n",
    "plt.ylabel('Setpoint [° C]')\n",
    "plt.show()"
   ]
  },
  {
   "cell_type": "markdown",
   "metadata": {},
   "source": [
    "### Continuous Simulation"
   ]
  },
  {
   "cell_type": "markdown",
   "metadata": {},
   "source": [
    "### Discrete Simulation"
   ]
  },
  {
   "cell_type": "code",
   "execution_count": null,
   "metadata": {},
   "outputs": [],
   "source": [
    "import pandas as pd\n",
    "from scipy.signal import cont2discrete\n",
    "\n",
    "\n",
    "def tclab_simulate_bumpless_PI(Kp = 1.0, Ki = 0.05, verbose=False, plot=True):\n",
    "    ''' Simulate the TCLab system with PI control\n",
    "    Arguments:\n",
    "        Kp: the proportional control gain\n",
    "        Ki: the integral control gain\n",
    "        verbose: print matrices, default is False\n",
    "        plot: create plots, default is True\n",
    "\n",
    "    Returns:\n",
    "        data: DataFrame with columns for Time, T1, T2, Q1, Q2\n",
    "    '''\n",
    "\n",
    "    n = len(t)\n",
    "\n",
    "    assert len(T_set) == n, 'Setpoint array must have the same length as time array'\n",
    "\n",
    "    # Original open loop state space model\n",
    "    A = np.array([[-(Ua + Ub)/CpH, Ub/CpH], [Ub/CpS, -Ub/CpS]])\n",
    "    B = np.array([[alpha*P1/CpH], [0]])\n",
    "    C = np.array([[0, 1]])\n",
    "    D = np.array([[0]])\n",
    "\n",
    "    Ad, Bd, Cd, Dd, dt = cont2discrete((A, B, C, D), dt=1, method='zoh')\n",
    "\n",
    "    # Initialize state matrix\n",
    "    X = np.zeros((n, 2))\n",
    "\n",
    "    # Initialize input matrix\n",
    "    U = np.zeros((n, 1))\n",
    "\n",
    "    prev_error = 0\n",
    "\n",
    "\n",
    "    # Loop over time steps\n",
    "    for i in range(n):\n",
    "    \n",
    "\n",
    "        # Current state\n",
    "        x = X[i, :]\n",
    "\n",
    "        # Unpack into individual states\n",
    "        T1H, T1S = x\n",
    "\n",
    "        error = T_set[i] - T1S\n",
    "\n",
    "        if i > 0:\n",
    "            dt = t[i] - t[i-1]\n",
    "            U[i,0] = U[i-1,0] + Kp*(error-prev_error) +  dt*Ki*(error)\n",
    "\n",
    "        # Limit the power levels\n",
    "        U[i, 0] = max(0, min(100, U[i, 0]))\n",
    "\n",
    "        # Update state\n",
    "        if i < n-1:\n",
    "            # Do not update the state for the last time step\n",
    "            # We want to update U and SP for plotting\n",
    "            X[i + 1, :] = Ad @ x + Bd @ U[i, :]\n",
    "\n",
    "        prev_error = error\n",
    "\n",
    "\n",
    "    # Shift states from deviation variables to absolute values\n",
    "    X += T_amb\n",
    "\n",
    "    # Create DataFrame\n",
    "    data = pd.DataFrame(X, columns=['T1H', 'T1S'])\n",
    "    data['Time'] = t\n",
    "    data['Q1'] = U[:, 0]\n",
    "    data['SP1'] = T_set + T_amb\n",
    "\n",
    "    if plot:\n",
    "        plt.title('Channel 1, Simulated P Control with Kp={}, Ki={}'.format(Kp,Ki))\n",
    "        plt.step(data['Time'], data['T1H'], label='T1H', linestyle='--')\n",
    "        plt.step(data['Time'], data['T1S'], label='T1S', linestyle='-')\n",
    "        plt.step(data['Time'], data['SP1'], label='SP1', linestyle='-.', color='black', alpha=0.5)\n",
    "        plt.ylabel('Temperature (C)')\n",
    "        plt.xlabel('Time (s)')\n",
    "        plt.legend()\n",
    "        plt.grid()\n",
    "        plt.show()\n",
    "        \n",
    "\n",
    "        plt.title('Heaters, Simulated P Control with Kp={}, Ki={}'.format(Kp,Ki))\n",
    "        plt.step(data['Time'], data['Q1'], label='Q1')\n",
    "        plt.xlabel('Time (s)')\n",
    "        plt.ylabel('Power Level (%)')\n",
    "        plt.legend()\n",
    "        plt.grid()\n",
    "        plt.show()\n",
    "\n",
    "    return data\n",
    "\n",
    "tclab_simulate_bumpless_PI(Kp=10.0, Ki=0.2)"
   ]
  },
  {
   "cell_type": "markdown",
   "metadata": {},
   "source": [
    "## Stability Analysis"
   ]
  },
  {
   "cell_type": "code",
   "execution_count": 9,
   "metadata": {},
   "outputs": [
    {
     "name": "stdout",
     "output_type": "stream",
     "text": [
      "Eigenvalue 0 = (-0.057644127570114174+0j)\n",
      "Eigenvector 0 = [ 0.09164288 -0.59943323  0.79516124] \n",
      "\n",
      "Eigenvalue 1 = (-0.009404448645463076+0j)\n",
      "Eigenvector 1 = [-0.5969477  -0.73523783  0.32105883] \n",
      "\n",
      "Eigenvalue 2 = (-0.0029514237844228135+0j)\n",
      "Eigenvector 2 = [0.40304171 0.42832509 0.80876139] \n",
      "\n"
     ]
    },
    {
     "data": {
      "text/plain": [
       "array([-0.05764413+0.j, -0.00940445+0.j, -0.00295142+0.j])"
      ]
     },
     "execution_count": 9,
     "metadata": {},
     "output_type": "execute_result"
    }
   ],
   "source": [
    "# Eigendecomposition analysis\n",
    "from scipy.linalg import eig\n",
    "import numpy as np\n",
    "\n",
    "def calc_eig(Kp, Ki, verbose=True):\n",
    "    \"\"\"Calculates the eigenvalues and eigenvectors of the A_PI matrix.\n",
    "\n",
    "    Args:\n",
    "        Kp: Proportional gain.\n",
    "        Ki: Integral gain.\n",
    "        verbose: If True, prints the eigenvalues and eigenvectors.\n",
    "\n",
    "    Returns:\n",
    "        A numpy array containing the eigenvalues.\n",
    "    \"\"\"\n",
    "\n",
    "    A_PI = np.array([[-(Ua + Ub)/CpH, Ub/CpH, alpha*P1/CpH], \n",
    "                [Ub/CpS, -Ub/CpS, 0],\n",
    "                [-Kp*Ub/CpS, Kp*Ub/CpS - Ki, 0]])\n",
    "    \n",
    "    w, vl = eig(A_PI)\n",
    "\n",
    "    if verbose:\n",
    "        for i in range(len(w)):\n",
    "            print(\"Eigenvalue\",i,\"=\",w[i])\n",
    "            print(\"Eigenvector\",i,\"=\",vl[:,i],\"\\n\")\n",
    "\n",
    "    return w\n",
    "\n",
    "calc_eig(1.5, 0.01)"
   ]
  },
  {
   "cell_type": "code",
   "execution_count": 7,
   "metadata": {},
   "outputs": [
    {
     "data": {
      "text/plain": [
       "<Figure size 640x480 with 0 Axes>"
      ]
     },
     "metadata": {},
     "output_type": "display_data"
    },
    {
     "data": {
      "image/png": "[encoded data removed]",
      "text/plain": [
       "<Figure size 640x480 with 3 Axes>"
      ]
     },
     "metadata": {},
     "output_type": "display_data"
    }
   ],
   "source": [
    "Kp_range = np.arange(0.1,10,0.1)\n",
    "Ki_range = np.arange(-3,0.1,0.1)\n",
    "xv, yv = np.meshgrid(Kp_range, Ki_range)\n",
    "\n",
    "# store eigenvalues in 3D array\n",
    "s3 = (len(Ki_range),len(Kp_range),3)\n",
    "s2 = (len(Ki_range),len(Kp_range))\n",
    "ev = np.zeros(s3, dtype=complex)\n",
    "positive_real_eig = np.zeros(s2)\n",
    "nonzero_imag_eig = np.zeros(s2)\n",
    "\n",
    "small_number = 1E-9\n",
    "\n",
    "for i in range(len(Ki_range)):\n",
    "    for j in range(len(Kp_range)):\n",
    "        ev[i,j,:] = calc_eig(xv[i,j], np.power(10,yv[i,j]), verbose=False)[:]\n",
    "        positive_real_eig[i,j] = sum(np.real(ev[i,j,:]) >= -small_number)\n",
    "        nonzero_imag_eig[i,j] = sum(np.abs(np.imag(ev[i,j,:])) >= small_number)\n",
    "\n",
    "plt.figure()\n",
    "fig, axs = plt.subplots(1,2, sharey=True)\n",
    "\n",
    "axs[0].set_box_aspect(1)\n",
    "cs = axs[0].contourf(xv,yv,positive_real_eig, levels=100)\n",
    "axs[0].set_xlabel('$K_P$')\n",
    "axs[0].set_ylabel('log$_{10}$($K_I$)')\n",
    "axs[0].set_title('Count Re($\\lambda_i$)$>0$')\n",
    "\n",
    "axs[1].set_box_aspect(1)\n",
    "cs = axs[1].contourf(xv,yv,nonzero_imag_eig, levels=100)\n",
    "\n",
    "axs[1].set_xlabel('$K_P$')\n",
    "#axs[1].set_ylabel('log$_{10}$($K_i$)')\n",
    "axs[1].set_title('Count Im($\\lambda_i$)$≠0$')\n",
    "\n",
    "\n",
    "cbar = fig.colorbar(cs, ticks=[0, 2], orientation='horizontal', ax=axs[:])\n",
    "\n",
    "#plt.tight_layout()\n",
    "plt.show()"
   ]
  },
  {
   "cell_type": "code",
   "execution_count": null,
   "metadata": {},
   "outputs": [],
   "source": []
  }
 ],
 "metadata": {
  "kernelspec": {
   "display_name": "controls",
   "language": "python",
   "name": "python3"
  },
  "language_info": {
   "codemirror_mode": {
    "name": "ipython",
    "version": 3
   },
   "file_extension": ".py",
   "mimetype": "text/x-python",
   "name": "python",
   "nbconvert_exporter": "python",
   "pygments_lexer": "ipython3",
   "version": "3.10.13"
  }
 },
 "nbformat": 4,
 "nbformat_minor": 2
}
